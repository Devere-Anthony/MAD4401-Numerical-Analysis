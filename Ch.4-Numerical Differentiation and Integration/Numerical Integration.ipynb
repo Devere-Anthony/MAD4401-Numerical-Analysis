{
 "cells": [
  {
   "cell_type": "markdown",
   "id": "3d2f2154-e603-49a1-9177-53d6f50bb0f3",
   "metadata": {},
   "source": [
    "# 4.3 - Elements of Numerical Integration\n",
    "\n",
    "---\n",
    "\n",
    "*Numerical quadrature* is the name of the basic method that allows us to approximate a definite integral. \n",
    "It makes use of a summation and using a set of $n+1$ distinct nodes on the given interval. Then one integrates the Largrange\n",
    "iterpolating polynomial and its truncation error term. \n",
    "\n",
    "**Note:** The derivation is relatively simple, consult the textbook as needed. \n",
    "\n",
    "The result of the derivation gives us the following quadrature formula, \n",
    "$$\\int^b_a f(x)dx \\approx \\sum^n_{i=0}a_if(x_i),$$\n",
    "where\n",
    "$$a_i = \\int^b_a L_i(x)dx,\\,\\,\\, i=0,1,...n.$$\n",
    "\n",
    "The error term for this quadrature formula is given by,\n",
    "$$E(f) = \\frac{1}{(n+1)!} \\int^b_a \\prod^n_{i=0}(x-x_i)f^{(n+1)}(\\xi(x))dx.$$\n",
    "\n",
    "The following formulas are produced using first and second Largrange polynomials with *equally spaced nodes*.\n",
    "\n",
    "## The Trapezoidal Rule \n",
    "\n",
    "$$\\int^b_a f(x)dx=\\frac{h}{2}\\left[f(x_0)+f(x_1)\\right]-\\frac{h^3}{12}f''(\\xi)$$\n",
    "\n",
    "Check the image on p.193 of the text to visualize why this is called the trapezoidal rule. When itegrating a function with positives values, it's \n",
    "definite integral is approximated by the area in a trapezoid.\n",
    "\n",
    "Since the Trapezoidal Rule involves $f''$, it will give the exact result when applied to a function whose second derivative is identically \n",
    "zero (any polynomial of degree one or less). \n",
    "\n",
    "## Simpson's Rule \n",
    "\n",
    "Again, the derivation is in the textbook, consult as needed. The derivation gives Simpson's rule,\n",
    "$$\\int^{x_2}_{x_0} f(x)dx = \\frac{h}{3}\\left[f(x_0)+4f(x_1)+f(x_2)\\right]-\\frac{h^5}{90}f^{(4)}(\\xi).$$\n",
    "\n",
    "The error term involves the fourth derivative of $f$ so it gives an exact result when applied to any polynomials of degree three or less.\n",
    "\n",
    "#### Example 1 \n",
    "\n",
    "Compare the Trapezoidal rule and Simpson's rule aapproximations to $\\int_0^2f(x)dx$ when f(x) is:\n",
    "\n",
    "1. $x^2$\n",
    "2. $x^4$\n",
    "3. $(x+1)^{-1}$\n",
    "4. $\\sqrt{1+x^2}$\n",
    "5. $\\sin{x}$\n",
    "6. $e^x$.\n",
    "\n",
    "On this interval for the Trapezoidal rule we have, $x_0=0$, $x_1=2$, and $h = x_1-x_0$. \n",
    "For Simpson's rule we have $x_0=0$, $x_2=2$, $x_1=x_0+h$, and $h=(x_0+x_2)/2$."
   ]
  },
  {
   "cell_type": "code",
   "execution_count": 1,
   "id": "9fca46d3-2cf3-498c-82a8-4c63250979db",
   "metadata": {},
   "outputs": [],
   "source": [
    "import numpy as np\n",
    "import math\n",
    "import sympy"
   ]
  },
  {
   "cell_type": "code",
   "execution_count": 2,
   "id": "edeefbfc-d357-4041-8b7a-46f63669269a",
   "metadata": {},
   "outputs": [],
   "source": [
    "# implement Trapezoidal Rule\n",
    "# TODO: Implement these functions such that they also compute the \n",
    "# error terms as well and return these different values as \n",
    "# a tuple\n",
    "def trapezoidalRule(f, x0,x1):\n",
    "    \"\"\"\n",
    "    Implementation of the Trapezoidal Rule used to approximate \n",
    "    the definite integral of functions by using \n",
    "    first Largrange polynomials with equally spaced nodes;\n",
    "    x0 = lower endpoint, x1 = upper endpoint, \n",
    "    f = function object representing mathematical \n",
    "    function. \n",
    "    \"\"\"\n",
    "    h = x1-x0\n",
    "    return (h/2)*(f(x0)+f(x1))"
   ]
  },
  {
   "cell_type": "code",
   "execution_count": 3,
   "id": "ca49b83a-5001-459f-a665-a025a9ab6308",
   "metadata": {},
   "outputs": [],
   "source": [
    "# implement Simpson's Rule\n",
    "def simpsonsRule(f, x0, x2):\n",
    "    \"\"\"\n",
    "    Implementation of the Simpson's Rule used to approximate\n",
    "    the definite integral of functions by using \n",
    "    second Largrange polynomials with equally spaced nodes;\n",
    "    x0 = lower endpoint, x1 = upper endpoint, \n",
    "    f = function object representing mathematical \n",
    "    function. \n",
    "    \"\"\"\n",
    "    h = (x0+x2)/2\n",
    "    x1 = x0+h\n",
    "    return (h/3)*(f(x0)+4*f(x1)+f(x2))"
   ]
  },
  {
   "cell_type": "code",
   "execution_count": 4,
   "id": "2a1b345b-44c8-4c3f-9895-d21203b00d7b",
   "metadata": {},
   "outputs": [],
   "source": [
    "# implement functions from problem \n",
    "def a(x):\n",
    "    return math.pow(x,2)\n",
    "\n",
    "def b(x):\n",
    "    return math.pow(x,4)\n",
    "\n",
    "def c(x):\n",
    "    return math.pow(x+1,-1)\n",
    "\n",
    "def d(x):\n",
    "    return math.sqrt(1+math.pow(x,2))\n",
    "\n",
    "def e(x):\n",
    "    return math.sin(x)\n",
    "\n",
    "def f(x):\n",
    "    return math.exp(x)"
   ]
  },
  {
   "cell_type": "code",
   "execution_count": 5,
   "id": "3ff83a1d-a75d-4236-aa97-f1fc7a468909",
   "metadata": {},
   "outputs": [],
   "source": [
    "# lets create a vector of function objects and \n",
    "# then create vectorized versions of the rules \n",
    "funcs = np.array([a,b,c,d,e,f])\n",
    "trapezoidalRuleV = np.vectorize(trapezoidalRule)\n",
    "simpsonsRuleV = np.vectorize(simpsonsRule)"
   ]
  },
  {
   "cell_type": "code",
   "execution_count": 6,
   "id": "a118625d-555e-4a6a-b793-6b45243a4d57",
   "metadata": {},
   "outputs": [
    {
     "data": {
      "text/plain": [
       "array([ 4.        , 16.        ,  1.33333333,  3.23606798,  0.90929743,\n",
       "        8.3890561 ])"
      ]
     },
     "execution_count": 6,
     "metadata": {},
     "output_type": "execute_result"
    }
   ],
   "source": [
    "# compute trapezoidal rule for given functions\n",
    "trapezoidalRuleV(funcs,0,2)"
   ]
  },
  {
   "cell_type": "code",
   "execution_count": 7,
   "id": "e98d4b23-5bd8-4356-8693-4c0778221409",
   "metadata": {},
   "outputs": [
    {
     "data": {
      "text/plain": [
       "array([2.66666667, 6.66666667, 1.11111111, 2.96430741, 1.42506046,\n",
       "       6.4207278 ])"
      ]
     },
     "execution_count": 7,
     "metadata": {},
     "output_type": "execute_result"
    }
   ],
   "source": [
    "# compute simpsons rule for given functions \n",
    "simpsonsRuleV(funcs,0,2)"
   ]
  },
  {
   "cell_type": "code",
   "execution_count": 8,
   "id": "9bc2ef7d-4223-4176-890b-d202a484c718",
   "metadata": {},
   "outputs": [
    {
     "data": {
      "text/latex": [
       "$\\displaystyle 2.9578857150892$"
      ],
      "text/plain": [
       "2.95788571508920"
      ]
     },
     "execution_count": 8,
     "metadata": {},
     "output_type": "execute_result"
    }
   ],
   "source": [
    "# symbolic evaluation to check one of the function \n",
    "x = sympy.symbols('x')\n",
    "expr = sympy.sqrt(1+x**2)\n",
    "exprInt = sympy.integrate(expr, (x,0,2))\n",
    "sympy.N(exprInt)"
   ]
  },
  {
   "cell_type": "markdown",
   "id": "92656017-4e15-4708-a81b-b85b917ba306",
   "metadata": {},
   "source": [
    "As is shown above, these two integration approximations can give some very different results. \n",
    "For the set of approximations above, Simpson's rule gave more accurate approximations, likely due \n",
    "to the fact that it has more evaluation points. \n",
    "\n",
    "## Measuring Precision\n",
    "\n",
    "**Definition:**\n",
    "The *degree of accuracy*, or *precision*, of a quadrature formula is the largest positive integer $n$ such \n",
    "that the formual is exact for $x^k$ for each $k=0,1,...n$.\n",
    "\n",
    "## Closed Newton-Cotes Formulas\n",
    "\n",
    "The $(n+1)$-point closed Newton-Cotes formula uses nodes,\n",
    "\n",
    "* $x_i = x_0 + ih,\\,\\,\\,\\text{for}\\,\\, i=0,1,...n$\n",
    "* $x_0=a$\n",
    "* $x_n=b$\n",
    "* $h=(b-a)/n$\n",
    "\n",
    "Of course it is called closed because the endpoints of the closed interval are included as nodes for evaluation. \n",
    "\n",
    "**Theorem 4.2**\n",
    "\n",
    "Suppose that $\\sum^n_{i=0}a_i f(x_i)$ denotes the $(n+1)$-point closed Newton-Cotes formula with\n",
    "$x_0=a$, $x_n=b$, and $h=(b-a)/n$. There exists $\\xi \\in (a,b)$ for which,\n",
    "\n",
    "i) if $n$ is even and $f\\in C^{n+2}[a,b]$:\n",
    "$$\\int_a^b f(x)dx = \\sum^n_{i=0}a_i f(x_i)+\\frac{h^{n+3}f^{(n+2)}(\\xi)}{(n+2)!}\\int^n_0t^2(t-1)\\dots(t-n)dt.$$\n",
    "\n",
    "ii) if $n$ is odd and $f\\in C^{n+1}[a,b]$:\n",
    "$$\\int_a^b f(x)dx = \\sum^n_{i=0}a_i f(x_i)+\\frac{h^{n+2}f^{(n+1)}(\\xi)}{(n+1)!}\\int^n_0t(t-1)\\dots(t-n)dt.$$\n",
    "\n",
    "Both the Trapezoidal rule and Simpson's rule belong to the closed Newton-Cotes class. Two other common ones are, \n",
    "\n",
    "## Simpson's Three-Eigths rule\n",
    "$$\\int_{x_0}^{x_3}f(x)dx=\\frac{3h}{8}\\left[f(x_0)+3f(x_1)+3f(x_2)+f(x_3)\\right]-\\frac{3h^5}{80}f^{(4)}(\\xi),$$\n",
    "where $x_0 < \\xi < x_3$.\n",
    "\n",
    "## n=4\n",
    "$$\\int_{x_0}^{x_4}f(x)dx=\\frac{2h}{45}\\left[7f(x_0)+32f(x_1)+12f(x_2)+32f(x_3)_7f(x_4)\\right]-\\frac{8h^7}{945}f^{(6)}(\\xi),$$where $x_0 < \\xi < x_4$."
   ]
  },
  {
   "cell_type": "markdown",
   "id": "7ac7c8f8-da8a-46e1-94ef-2d9d59731dd9",
   "metadata": {},
   "source": [
    "## Open Newton-Cotes Formulas\n",
    "\n",
    "These formulas don't include the endpoints of the interval as nodes. They use the following nodes,\n",
    "\n",
    "* $x_0 = a+h$\n",
    "* $x_n = b-h$\n",
    "* $x_i = x_0 + ih\\,\\,\\,\\text{for}\\,\\,\\,i=0,1,...n$\n",
    "* $h = \\frac{(b-a)}{(n+2)}$\n",
    "\n",
    "Since the endpoints aren't included in the set of points for evaluation, we can notate them as $x_{n-1}=a$ and $x_{n+1}=b$ indicating that \n",
    "all the evalution points are within the open interval $(a,b)$.\n",
    "\n",
    "Some common open Newton-Cotes formulas with their error terms are as follows:\n",
    "\n",
    "## n=0: Midpoint Rule\n",
    "$$\\int^{x_1}_{x-1}f(x)dx = 2hf(x_0)+\\frac{h^3}{3}f''(\\xi),$$\n",
    "where $x_{-1} < \\xi < x_1$.\n",
    "\n",
    "## n=1:\n",
    "$$\\int^{x_2}_{x-1}f(x)dx = \\frac{3h}{2}[f(x_0)+f(x_1)]+\\frac{3h^3}{4}f''(\\xi),$$\n",
    "where $x_{-1} < \\xi < x_2$.\n",
    "\n",
    "## n=2:\n",
    "$$\\int^{x_3}_{x-1}f(x)dx = \\frac{4h}{3}[2f(x_0)-f(x_1)+2f(x_2)]+\\frac{14h^5}{45}f^{(4)}(\\xi),$$\n",
    "where $x_{-1} < \\xi < x_3$.\n",
    "\n",
    "## n=3:\n",
    "$$\\int^{x_4}_{x-1}f(x)dx = \\frac{5h}{24}[11f(x_0)+f(x_1)+f(x_2)+11f(x_3)]+\\frac{95h^5}{144}f^{(4)}(\\xi),$$\n",
    "where $x_{-1} < \\xi < x_4$."
   ]
  }
 ],
 "metadata": {
  "kernelspec": {
   "display_name": "Python 3 (ipykernel)",
   "language": "python",
   "name": "python3"
  },
  "language_info": {
   "codemirror_mode": {
    "name": "ipython",
    "version": 3
   },
   "file_extension": ".py",
   "mimetype": "text/x-python",
   "name": "python",
   "nbconvert_exporter": "python",
   "pygments_lexer": "ipython3",
   "version": "3.9.9"
  }
 },
 "nbformat": 4,
 "nbformat_minor": 5
}
