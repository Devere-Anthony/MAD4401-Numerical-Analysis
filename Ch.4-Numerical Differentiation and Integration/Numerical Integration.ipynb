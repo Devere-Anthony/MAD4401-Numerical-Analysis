{
 "cells": [
  {
   "cell_type": "markdown",
   "id": "3d2f2154-e603-49a1-9177-53d6f50bb0f3",
   "metadata": {},
   "source": [
    "# 4.3 - Elements of Numerical Integration\n",
    "\n",
    "---\n",
    "\n",
    "*Numerical quadrature* is the name of the basic method that allows us to approximate a definite integral. \n",
    "It makes use of a summation and using a set of $n+1$ distinct nodes on the given interval. Then one integrates the Largrange\n",
    "iterpolating polynomial and its truncation error term. \n",
    "\n",
    "**Note:** The derivation is relatively simple, consult the textbook as needed. \n",
    "\n",
    "The result of the derivation gives us the following quadrature formula, \n",
    "$$\\int^b_a f(x)dx \\approx \\sum^n_{i=0}a_if(x_i),$$\n",
    "where\n",
    "$$a_i = \\int^b_a L_i(x)dx,\\,\\,\\, i=0,1,...n.$$\n",
    "\n",
    "The error term for this quadrature formula is given by,\n",
    "$$E(f) = \\frac{1}{(n+1)!} \\int^b_a \\prod^n_{i=0}(x-x_i)f^{(n+1)}(\\xi(x))dx.$$\n",
    "\n",
    "The following formulas are produced using first and second Largrange polynomials with *equally spaced nodes*.\n",
    "\n",
    "## The Trapezoidal Rule \n",
    "\n",
    "$$\\int^b_a f(x)dx=\\frac{h}{2}\\left[f(x_0)+f(x_1)\\right]-\\frac{h^3}{12}f''(\\xi)$$\n",
    "\n",
    "Check the image on p.193 of the text to visualize why this is called the trapezoidal rule. When itegrating a function with positives values, it's \n",
    "definite integral is approximated by the area in a trapezoid.\n",
    "\n",
    "Since the Trapezoidal Rule involves $f''$, it will give the exact result when applied to a function whose second derivative is identically \n",
    "zero (any polynomial of degree one or less). \n",
    "\n",
    "## Simpson's Rule \n",
    "\n",
    "Again, the derivation is in the textbook, consult as needed. The derivation gives Simpson's rule,\n",
    "$$\\int^{x_2}_{x_0} f(x)dx = \\frac{h}{3}\\left[f(x_0)+4f(x_1)+f(x_2)\\right]-\\frac{h^5}{90}f^{(4)}(\\xi).$$\n",
    "\n",
    "The error term involves the fourth derivative of $f$ so it gives an exact result when applied to any polynomials of degree three or less.\n",
    "\n",
    "#### Example 1 \n",
    "\n",
    "Compare the Trapezoidal rule and Simpson's rule aapproximations to $\\int_0^2f(x)dx$ when f(x) is:\n",
    "\n",
    "1. $x^2$\n",
    "2. $x^4$\n",
    "3. $(x+1)^{-1}$\n",
    "4. $\\sqrt{1+x^2}$\n",
    "5. $\\sin{x}$\n",
    "6. $e^x$.\n",
    "\n",
    "On this interval for the Trapezoidal rule we have, $x_0=0$, $x_1=2$, and $h = x_1-x_0$. \n",
    "For Simpson's rule we have $x_0=0$, $x_2=2$, $x_1=x_0+h$, and $h=(x_0+x_2)/2$."
   ]
  },
  {
   "cell_type": "code",
   "execution_count": 29,
   "id": "9fca46d3-2cf3-498c-82a8-4c63250979db",
   "metadata": {},
   "outputs": [],
   "source": [
    "import numpy as np\n",
    "import math\n",
    "import sympy"
   ]
  },
  {
   "cell_type": "code",
   "execution_count": 41,
   "id": "edeefbfc-d357-4041-8b7a-46f63669269a",
   "metadata": {},
   "outputs": [],
   "source": [
    "# implement Trapezoidal Rule\n",
    "# TODO: Implement these functions such that they also compute the \n",
    "# error terms as well and return these different values as \n",
    "# a tuple\n",
    "def trapezoidalRule(f, x0,x1):\n",
    "    \"\"\"\n",
    "    Implementation of the Trapezoidal Rule used to approximate \n",
    "    the definite integral of functions by using \n",
    "    first Largrange polynomials with equally spaced nodes;\n",
    "    x0 = lower endpoint, x1 = upper endpoint, \n",
    "    f = function object representing mathematical \n",
    "    function. \n",
    "    \"\"\"\n",
    "    h = x1-x0\n",
    "    return (h/2)*(f(x0)+f(x1))"
   ]
  },
  {
   "cell_type": "code",
   "execution_count": 42,
   "id": "ca49b83a-5001-459f-a665-a025a9ab6308",
   "metadata": {},
   "outputs": [],
   "source": [
    "# implement Simpson's Rule\n",
    "def simpsonsRule(f, x0, x2):\n",
    "    \"\"\"\n",
    "    Implementation of the Simpson's Rule used to approximate\n",
    "    the definite integral of functions by using \n",
    "    second Largrange polynomials with equally spaced nodes;\n",
    "    x0 = lower endpoint, x1 = upper endpoint, \n",
    "    f = function object representing mathematical \n",
    "    function. \n",
    "    \"\"\"\n",
    "    h = (x0+x2)/2\n",
    "    x1 = x0+h\n",
    "    return (h/3)*(f(x0)+4*f(x1)+f(x2))"
   ]
  },
  {
   "cell_type": "code",
   "execution_count": 43,
   "id": "2a1b345b-44c8-4c3f-9895-d21203b00d7b",
   "metadata": {},
   "outputs": [],
   "source": [
    "# implement functions from problem \n",
    "def a(x):\n",
    "    return math.pow(x,2)\n",
    "\n",
    "def b(x):\n",
    "    return math.pow(x,4)\n",
    "\n",
    "def c(x):\n",
    "    return math.pow(x+1,-1)\n",
    "\n",
    "def d(x):\n",
    "    return math.sqrt(1+math.pow(x,2))\n",
    "\n",
    "def e(x):\n",
    "    return math.sin(x)\n",
    "\n",
    "def f(x):\n",
    "    return math.exp(x)"
   ]
  },
  {
   "cell_type": "code",
   "execution_count": 44,
   "id": "3ff83a1d-a75d-4236-aa97-f1fc7a468909",
   "metadata": {},
   "outputs": [],
   "source": [
    "# lets create a vector of function objects and \n",
    "# then create vectorized versions of the rules \n",
    "funcs = np.array([a,b,c,d,e,f])\n",
    "trapezoidalRuleV = np.vectorize(trapezoidalRule)\n",
    "simpsonsRuleV = np.vectorize(simpsonsRule)"
   ]
  },
  {
   "cell_type": "code",
   "execution_count": 45,
   "id": "a118625d-555e-4a6a-b793-6b45243a4d57",
   "metadata": {},
   "outputs": [
    {
     "data": {
      "text/plain": [
       "array([ 4.        , 16.        ,  1.33333333,  3.23606798,  0.90929743,\n",
       "        8.3890561 ])"
      ]
     },
     "execution_count": 45,
     "metadata": {},
     "output_type": "execute_result"
    }
   ],
   "source": [
    "# compute trapezoidal rule for given functions\n",
    "trapezoidalRuleV(funcs,0,2)"
   ]
  },
  {
   "cell_type": "code",
   "execution_count": 46,
   "id": "e98d4b23-5bd8-4356-8693-4c0778221409",
   "metadata": {},
   "outputs": [
    {
     "data": {
      "text/plain": [
       "array([2.66666667, 6.66666667, 1.11111111, 2.96430741, 1.42506046,\n",
       "       6.4207278 ])"
      ]
     },
     "execution_count": 46,
     "metadata": {},
     "output_type": "execute_result"
    }
   ],
   "source": [
    "# compute simpsons rule for given functions \n",
    "simpsonsRuleV(funcs,0,2)"
   ]
  },
  {
   "cell_type": "code",
   "execution_count": 47,
   "id": "9bc2ef7d-4223-4176-890b-d202a484c718",
   "metadata": {},
   "outputs": [
    {
     "data": {
      "text/latex": [
       "$\\displaystyle 2.9578857150892$"
      ],
      "text/plain": [
       "2.95788571508920"
      ]
     },
     "execution_count": 47,
     "metadata": {},
     "output_type": "execute_result"
    }
   ],
   "source": [
    "# symbolic evaluation to check one of the function \n",
    "x = sympy.symbols('x')\n",
    "expr = sympy.sqrt(1+x**2)\n",
    "exprInt = sympy.integrate(expr, (x,0,2))\n",
    "sympy.N(exprInt)"
   ]
  },
  {
   "cell_type": "markdown",
   "id": "92656017-4e15-4708-a81b-b85b917ba306",
   "metadata": {},
   "source": [
    "As is shown above, these two integration approximations can give some very different results. \n",
    "For the set of approximations above, Simpson's rule gave more accurate approximations, likely due \n",
    "to the fact that it has more evaluation points. "
   ]
  },
  {
   "cell_type": "code",
   "execution_count": null,
   "id": "2e3c0549-4915-4fc1-a852-dfecfb250e69",
   "metadata": {},
   "outputs": [],
   "source": []
  }
 ],
 "metadata": {
  "kernelspec": {
   "display_name": "Python 3 (ipykernel)",
   "language": "python",
   "name": "python3"
  },
  "language_info": {
   "codemirror_mode": {
    "name": "ipython",
    "version": 3
   },
   "file_extension": ".py",
   "mimetype": "text/x-python",
   "name": "python",
   "nbconvert_exporter": "python",
   "pygments_lexer": "ipython3",
   "version": "3.9.9"
  }
 },
 "nbformat": 4,
 "nbformat_minor": 5
}
