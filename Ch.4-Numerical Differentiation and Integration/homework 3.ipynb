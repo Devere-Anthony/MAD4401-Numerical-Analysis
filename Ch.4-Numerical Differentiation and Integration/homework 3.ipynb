{
 "cells": [
  {
   "cell_type": "code",
   "execution_count": 1,
   "id": "e8468136-bf9a-4a41-847a-5e792f05a2dc",
   "metadata": {},
   "outputs": [],
   "source": [
    "import numpy as np \n",
    "import math"
   ]
  },
  {
   "cell_type": "markdown",
   "id": "3fa3f2ad-09fe-43e3-ba09-3233a4b637fd",
   "metadata": {},
   "source": [
    "---\n",
    "\n",
    "# Question 1 \n",
    "\n",
    "### b) Degree 2 Lagrange Interpolating Polynomial"
   ]
  },
  {
   "cell_type": "code",
   "execution_count": 7,
   "id": "b62e721f-97dc-4b49-abd3-5b87cf3498bd",
   "metadata": {},
   "outputs": [],
   "source": [
    "def f(x):\n",
    "    return ((0.013752274) * ((math.pow(x,2)-1.8*x+0.8)/(0.03)))"
   ]
  },
  {
   "cell_type": "code",
   "execution_count": 8,
   "id": "98385b43-d5d5-4ed3-b4ba-c6f95cd1bb42",
   "metadata": {},
   "outputs": [],
   "source": [
    "def g(x):\n",
    "    return ((0.223633629)*((math.pow(x,2)-1.7*x+0.7)/(-0.02)))"
   ]
  },
  {
   "cell_type": "code",
   "execution_count": 9,
   "id": "6e1cb6cd-a0b4-47fe-bc67-8475fd03c83d",
   "metadata": {},
   "outputs": [],
   "source": [
    "def h(x):\n",
    "    return ((0.658091968)*((math.pow(x,2)-1.5*x+0.56)/(0.06)))"
   ]
  },
  {
   "cell_type": "code",
   "execution_count": 10,
   "id": "99b4bc56-099e-4f60-a7f4-3021097764a9",
   "metadata": {},
   "outputs": [],
   "source": [
    "# point to be estimated at \n",
    "x = 0.9"
   ]
  },
  {
   "cell_type": "code",
   "execution_count": 11,
   "id": "d829acd0-80d8-412b-b2d1-5542ad2a175f",
   "metadata": {},
   "outputs": [
    {
     "data": {
      "text/plain": [
       "0.43841352700000036"
      ]
     },
     "execution_count": 11,
     "metadata": {},
     "output_type": "execute_result"
    }
   ],
   "source": [
    "f(x) + g(x) + h(x)"
   ]
  },
  {
   "cell_type": "markdown",
   "id": "8c22186c-a7cb-42ac-a6a8-05911550a75a",
   "metadata": {},
   "source": [
    "### c) Degree 3 poly "
   ]
  },
  {
   "cell_type": "code",
   "execution_count": 12,
   "id": "27534a06-c634-42fa-80d5-3f983e50771d",
   "metadata": {},
   "outputs": [],
   "source": [
    "# L3,0(x)\n",
    "def a(x):\n",
    "    return (math.sin(math.exp(.6)-2) * ((math.pow(x,3)-2.5*math.pow(x,2)+2.06*x-0.56)/(-0.008)))"
   ]
  },
  {
   "cell_type": "code",
   "execution_count": 13,
   "id": "40d41deb-b838-4b03-85ad-35963e733b9c",
   "metadata": {},
   "outputs": [],
   "source": [
    "# L3,1(x)\n",
    "def b(x):\n",
    "    return (math.sin(math.exp(.7)-2) * ((math.pow(x,3)-2.4*math.pow(x,2)+1.88*x-0.48)/(0.003)))"
   ]
  },
  {
   "cell_type": "code",
   "execution_count": 14,
   "id": "f81a7266-2947-4c7a-9f31-db612ceef2a0",
   "metadata": {},
   "outputs": [],
   "source": [
    "# L3,2(x)\n",
    "def c(x):\n",
    "    return (math.sin(math.exp(.8)-2) * ((math.pow(x,3)-2.3*math.pow(x,2)+1.72*x-0.42)/(-0.004)))"
   ]
  },
  {
   "cell_type": "code",
   "execution_count": 15,
   "id": "d2e8b42e-c70a-4df9-b20a-9601784f6d23",
   "metadata": {},
   "outputs": [],
   "source": [
    "# L3,3(x)\n",
    "def d(x):\n",
    "     return (math.sin(math.exp(1)-2) * ((math.pow(x,3)-2.1*math.pow(x,2)+1.46*x-0.336)/(0.024)))   "
   ]
  },
  {
   "cell_type": "code",
   "execution_count": 16,
   "id": "a2f72ec4-5529-4297-aff3-724f96a008ca",
   "metadata": {},
   "outputs": [],
   "source": [
    "x = .9"
   ]
  },
  {
   "cell_type": "code",
   "execution_count": 17,
   "id": "297687be-616b-496e-8667-4567fc8d713b",
   "metadata": {},
   "outputs": [
    {
     "data": {
      "text/plain": [
       "0.4419850019537861"
      ]
     },
     "execution_count": 17,
     "metadata": {},
     "output_type": "execute_result"
    }
   ],
   "source": [
    "a(x) + b(x) + c(x) + d(x)"
   ]
  }
 ],
 "metadata": {
  "kernelspec": {
   "display_name": "Python 3 (ipykernel)",
   "language": "python",
   "name": "python3"
  },
  "language_info": {
   "codemirror_mode": {
    "name": "ipython",
    "version": 3
   },
   "file_extension": ".py",
   "mimetype": "text/x-python",
   "name": "python",
   "nbconvert_exporter": "python",
   "pygments_lexer": "ipython3",
   "version": "3.9.9"
  }
 },
 "nbformat": 4,
 "nbformat_minor": 5
}
