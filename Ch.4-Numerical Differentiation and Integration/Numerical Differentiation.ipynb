{
 "cells": [
  {
   "cell_type": "markdown",
   "id": "e6378c82-03db-4a9d-8b1b-5ca92324ef60",
   "metadata": {},
   "source": [
    "# 4.1 - Numerical Differentiation\n",
    "\n",
    "This section covers different methods used for numerical differentiation of possibly complicated functions. \n",
    "\n",
    "**NOTE:** The derivations of these formulae can be found in the typed up pdf notes or in Burden's Numerical Analysis text.\n",
    "\n",
    "The *forward-difference formula* is given by, \n",
    "$$f'(x_0)=\\frac{f(x_0+h)-f(x_0)}{h}-\\frac{h}{2}f''(\\xi).$$\n",
    "\n",
    "This formula's error is bounded by $\\frac{M|h|}{2}$ where $M$ is a bound on $|f''(x)|$ for $x_0 < x < x_0+h$. \n",
    "\n",
    "The *backward-difference formula* is given by,\n",
    "$$f'(x_0)=\\frac{f(x_0)-f(x_0-h)}{h}+\\frac{h}{2}f''(\\xi).$$\n",
    "\n",
    "This formula's error is bounded by $\\frac{M|h|}{2}$ where $M$ is a bound on $|f''(x)|$ for $x_0-h < x < x_0$. \n",
    "\n",
    "The *centered-difference formula* is given by,\n",
    "$$f'(x_0)=\\frac{f(x_0+h)-f(x_0-h)}{2h}-\\frac{h^2}{6}f'''(\\xi).$$\n",
    "\n",
    "#### Example 1\n",
    "\n",
    "Use the *forward-difference formula* to approximate the derivative of $f(x)=\\ln{x}$ at $x_0=1.8$ using\n",
    "(i) $h=0.1$, (ii) $h=0.05$, and (iii) $h=0.01$ and determine the bounds for the approximation errors."
   ]
  },
  {
   "cell_type": "code",
   "execution_count": 1,
   "id": "f44be87e-f91c-4e2f-bd87-112ffe0d2508",
   "metadata": {},
   "outputs": [],
   "source": [
    "import numpy as np\n",
    "import math "
   ]
  },
  {
   "cell_type": "code",
   "execution_count": 3,
   "id": "dc4a7d3c-9f0a-4517-86d8-301e17804a42",
   "metadata": {},
   "outputs": [],
   "source": [
    "# implement forward-difference formula for this example\n",
    "def fd(x,h):\n",
    "    return ((math.log(x+h)-math.log(x))/h)"
   ]
  },
  {
   "cell_type": "code",
   "execution_count": 4,
   "id": "72d3df7f-abfc-4b02-97b9-666f33259890",
   "metadata": {},
   "outputs": [],
   "source": [
    "# evaluation point \n",
    "x = 1.8"
   ]
  },
  {
   "cell_type": "code",
   "execution_count": 5,
   "id": "1c59522d-e203-4166-901b-6755493d9d31",
   "metadata": {},
   "outputs": [
    {
     "data": {
      "text/plain": [
       "0.5406722127027574"
      ]
     },
     "execution_count": 5,
     "metadata": {},
     "output_type": "execute_result"
    }
   ],
   "source": [
    "# h=0.1\n",
    "fd(x,0.1)"
   ]
  },
  {
   "cell_type": "code",
   "execution_count": 6,
   "id": "c2d26ecc-af6c-4bd2-aa19-6ec0787ea48e",
   "metadata": {},
   "outputs": [
    {
     "data": {
      "text/plain": [
       "0.5479794837622887"
      ]
     },
     "execution_count": 6,
     "metadata": {},
     "output_type": "execute_result"
    }
   ],
   "source": [
    "# h=0.05\n",
    "fd(x,0.05)"
   ]
  },
  {
   "cell_type": "code",
   "execution_count": 7,
   "id": "a63c6a92-373b-4758-96f2-f92a6c4b3630",
   "metadata": {},
   "outputs": [
    {
     "data": {
      "text/plain": [
       "0.5540180375615322"
      ]
     },
     "execution_count": 7,
     "metadata": {},
     "output_type": "execute_result"
    }
   ],
   "source": [
    "# h=0.01\n",
    "fd(x,0.01)"
   ]
  },
  {
   "cell_type": "markdown",
   "id": "75436b90-e860-436d-87c6-ee02a7a7dc06",
   "metadata": {},
   "source": [
    "<br>To compute the error bound, we must use the second derivative of the given function,\n",
    "$$f(x)=\\ln{x} \\Rightarrow f'(x)=\\frac{-1}{x^2}.$$\n",
    "\n",
    "Since we are using the *forward-difference formula*, we know that for the error term must be $x_0 < x < x_0+h$.\n",
    "Here $x_0=1.8$ thus $x_0+h=1.9$.\n",
    "\n",
    "So, to compute a bound for this approximation error,\n",
    "$$ \\Rightarrow \\frac{|hf''(\\xi)|}{2} = \\frac{|h|}{2 \\xi^2} < \\frac{0.1}{2(1.8)^2}\\approx 0.0154.$$\n",
    "\n",
    "**NOTE:** Some steps are skipped to compute this error bound, fill in the details as need. Recall, we wanted to maximize our second derivative."
   ]
  },
  {
   "cell_type": "code",
   "execution_count": 8,
   "id": "5907ff3a-de54-4061-8535-a8f81dcb9f91",
   "metadata": {},
   "outputs": [],
   "source": [
    "# implement function to compute error bound\n",
    "def fderr(x,h):\n",
    "    return math.fabs(((h/2)*(-1/x**2)))"
   ]
  },
  {
   "cell_type": "code",
   "execution_count": 11,
   "id": "f581064c-5589-45fb-a3f7-35e5d7ac167f",
   "metadata": {},
   "outputs": [
    {
     "data": {
      "text/plain": [
       "0.015432098765432098"
      ]
     },
     "execution_count": 11,
     "metadata": {},
     "output_type": "execute_result"
    }
   ],
   "source": [
    "# x=1.8, h=0.1\n",
    "fderr(x,0.1)"
   ]
  },
  {
   "cell_type": "code",
   "execution_count": 12,
   "id": "fe825c66-8f3d-4ec0-a381-2e6296a30659",
   "metadata": {},
   "outputs": [
    {
     "data": {
      "text/plain": [
       "0.007716049382716049"
      ]
     },
     "execution_count": 12,
     "metadata": {},
     "output_type": "execute_result"
    }
   ],
   "source": [
    "# x=1.8, h=0.05\n",
    "fderr(x,0.05)"
   ]
  },
  {
   "cell_type": "code",
   "execution_count": 13,
   "id": "f6a7f2de-1c5e-4ed2-b6ae-5592c0ba0bb4",
   "metadata": {},
   "outputs": [
    {
     "data": {
      "text/plain": [
       "0.0015432098765432098"
      ]
     },
     "execution_count": 13,
     "metadata": {},
     "output_type": "execute_result"
    }
   ],
   "source": [
    "# x=1.8, h=0.01\n",
    "fderr(x,0.01)"
   ]
  },
  {
   "cell_type": "markdown",
   "id": "22ce2ca2-e5fd-4d6e-83a7-455f273a6c35",
   "metadata": {},
   "source": [
    "<br>Since $f'(x)=\\frac{1}{x}$, the exact value of $f'(1.8) \\approx 0.555...$. This shows the error bounds are close to the true approximation error.\n",
    "\n",
    "To compute the *true* approximation error, \n",
    "$$|f'(x) - f'(x_0)|,$$\n",
    "(i.e. the difference in the value of the function at x and the value of computed using the approximated derivative)"
   ]
  },
  {
   "cell_type": "code",
   "execution_count": 14,
   "id": "3801b3a1-500c-44a6-8cc3-37d6b8b88ce3",
   "metadata": {},
   "outputs": [
    {
     "data": {
      "text/plain": [
       "0.014883342852798132"
      ]
     },
     "execution_count": 14,
     "metadata": {},
     "output_type": "execute_result"
    }
   ],
   "source": [
    "# compute the true approximation error for x=1.8, h=0.1\n",
    "math.fabs((1/x)-(fd(x,0.1)))"
   ]
  },
  {
   "cell_type": "code",
   "execution_count": 15,
   "id": "52df2e10-261f-48fd-a37d-0bf9450874b6",
   "metadata": {},
   "outputs": [
    {
     "data": {
      "text/plain": [
       "0.007576071793266914"
      ]
     },
     "execution_count": 15,
     "metadata": {},
     "output_type": "execute_result"
    }
   ],
   "source": [
    "# compute the true approximation error for x=1.8, h=0.05\n",
    "math.fabs((1/x)-(fd(x,0.05)))"
   ]
  },
  {
   "cell_type": "code",
   "execution_count": 16,
   "id": "1bb654cf-bff2-49b7-9da0-9487a1a0d523",
   "metadata": {},
   "outputs": [
    {
     "data": {
      "text/plain": [
       "0.0015375179940233519"
      ]
     },
     "execution_count": 16,
     "metadata": {},
     "output_type": "execute_result"
    }
   ],
   "source": [
    "# compute the true approximation error for x=1.8, h=0.01\n",
    "math.fabs((1/x)-(fd(x,0.01)))"
   ]
  },
  {
   "cell_type": "markdown",
   "id": "a52809f3-d54b-4ff2-966e-7a6fe1cad1ad",
   "metadata": {},
   "source": [
    "Wow, they really are close!"
   ]
  },
  {
   "cell_type": "markdown",
   "id": "43145027-eea5-4729-81cd-71fab80a43a2",
   "metadata": {},
   "source": [
    "<br>We can use the methods learned from the Lagrange Interpolating Polynomial to help obtain general derivative approximation formulas. \n",
    "\n",
    "Suppose we're give a set of $(n+1)$ distinct numbers $\\{x_0,x_1,\\ldots,x_n\\}$ in some interval $I$. Also suppose our given function $f \\in C^{n+1}(I)$.\n",
    "Recall from Theorem 3.3 (Lagrange Interpolating Polynomials) that we can approximate a function using,\n",
    "$$ f(x) = \\sum_{k=0}^{n}f(x_k)L_k(x)+\\frac{(x-x_0)\\dots(x-x_n)}{(n+1)!}f^{n+1}(\\xi),$$\n",
    "where $\\xi \\in I$.\n",
    "\n",
    "We can then differentiate our Lagrange Interpolating Polynomial. In the derivative, we'll have issues estimating truncation error \n",
    "unless our $x$ is one of the distinct numbers given in the set. When this happens, the terms involving the derivative of the error drop. \n",
    "We then have what is known as the *(n+1)-point formula* to approximate $f'(x_j)$ where $x_j \\in \\{x_0,\\ldots,x_n\\}$.\n",
    "$$f'(x_j) = \\sum_{k=0}^{n}f(x_k)L'_k(x_j)+\\frac{f^{n+1}(\\xi(x_j))}{(n+1)!}\\prod^{n}_{k=0, k \\neq j}(x_j-x_k).$$\n",
    "\n",
    "Generally, more evaluation points produces greater accuracy; however, there may be trade-offs in the number of functional evaluations and growth of round-off error. \n",
    "\n",
    "**NOTE:** The derivation of useful three-point formulas are contained in the text and/or in the typed up notes. Consult them as needed. "
   ]
  },
  {
   "cell_type": "markdown",
   "id": "9532a559-ab89-4145-b66d-f519acb317f6",
   "metadata": {},
   "source": [
    "## Three-Point Formulas \n",
    "\n",
    "There are two three-point formulas that are of concern.\n",
    "\n",
    "### Three-Point Endpoint Formula\n",
    "$$f'(x_0)=\\frac{1}{2h}\\left[-3f(x_0)+4f(x_0+h)-f(x_0+2h)\\right]+\\frac{h^2}{3}f^{(3)}(\\xi_0),$$\n",
    "where $\\xi_0$ lies between $x_0$ and $x_0+2h$.\n",
    "\n",
    "### Three-Point Midpoint Formula \n",
    "$$f'(x_0)=\\frac{1}{2h}\\left[f(x_0+h)-f(x_0-h)\\right]+\\frac{h^2}{6}f^{(3)}(\\xi_1),$$\n",
    "where $\\xi_1$ lies between $x_0-h$ and $x_0+h$.\n",
    "\n",
    "A point to note is that the errors for these equations are both $O(h^2)$, but the midpoint error is approximately half of the endpoint formula.\n",
    "\n",
    "The approximation for the endpoint formula is more useful near the ends of the interval since information about $f$ outside of the interval may not be available. \n",
    "\n",
    "## Five-Point Formulas\n",
    "\n",
    "These formulas use five evaluation points instead of the three above. They have a common error term that is $O(h^4)$. \n",
    "\n",
    "### Five-Point Midpoint Formula \n",
    "$$f'(x_0) = \\frac{1}{12h}\\left[f(x_0-2h)-8f(x_0-h)+8f(x_0+h)-f(x_0+2h)\\right]+\\frac{h^4}{30}f^{(5)}(\\xi),$$\n",
    "where $\\xi$ lies between $x_0-2h$ and $x_0+2h$.\n",
    "\n",
    "### Five-Point Endpoint Formula\n",
    "$$f'(x_0) = \\frac{1}{12h}\\left[-25f(x_0)+48f(x_0+h)-36f(x_0+2h)+16f(x_0+3h)-3f(x_0+4h)\\right]+\\frac{h^4}{5}f^{(5)}(\\xi),$$\n",
    "where $\\xi$ lies between $x_0$ and $x_0+4h$.\n",
    "\n",
    "**NOTE:** Left-endpoint approximations are found using this formula when $h>0$, else right-endpoint approximations.\n",
    "\n",
    "#### Example 2 \n",
    "\n",
    "Values for $f(x)=xe^x$ are given in a table in the text. \n",
    "\n",
    "Task: Use all the applicable three-point and five-point formulas to approximated $f'(2.0)$.\n",
    "\n",
    "Let $x=2.0$ and our evaluation points are $\\{1.8, 1.9, 2.0, 2.1, 2.2\\}$."
   ]
  },
  {
   "cell_type": "code",
   "execution_count": 36,
   "id": "99461bea-e96c-4888-abb8-6da93c822376",
   "metadata": {},
   "outputs": [],
   "source": [
    "# implement given function \n",
    "def f(x):\n",
    "    return x*math.pow(math.e,x)"
   ]
  },
  {
   "cell_type": "code",
   "execution_count": 37,
   "id": "48f2a7a6-ae80-42b5-9b1c-09588dbf7804",
   "metadata": {},
   "outputs": [],
   "source": [
    "# vectorize our function \n",
    "fv = np.vectorize(f)"
   ]
  },
  {
   "cell_type": "code",
   "execution_count": 38,
   "id": "bee142b3-fd1b-4bff-8152-a93beeb22a94",
   "metadata": {},
   "outputs": [],
   "source": [
    "# set of evaluation points \n",
    "x = np.array([1.8, 1.9, 2.0, 2.1, 2.2])"
   ]
  },
  {
   "cell_type": "code",
   "execution_count": 39,
   "id": "6de94d2a-c595-4b42-816d-817a6216658e",
   "metadata": {},
   "outputs": [],
   "source": [
    "# evaluate set of evaluation points with function \n",
    "y = fv(x)"
   ]
  },
  {
   "cell_type": "code",
   "execution_count": 40,
   "id": "36f30a1e-c93b-4bce-8956-6c1ccf761bc1",
   "metadata": {},
   "outputs": [
    {
     "data": {
      "text/plain": [
       "array([10.88936544, 12.70319944, 14.7781122 , 17.14895682, 19.8550297 ])"
      ]
     },
     "execution_count": 40,
     "metadata": {},
     "output_type": "execute_result"
    }
   ],
   "source": [
    "y"
   ]
  },
  {
   "cell_type": "code",
   "execution_count": 51,
   "id": "c802786d-3e16-434b-b680-24e028625020",
   "metadata": {},
   "outputs": [],
   "source": [
    "# implement three-point endpoint formula \n",
    "def threeEndPt(f,x0,h):\n",
    "    return (1/(2*h))*(-3*f(x0)+4*f(x0+h)-f(x0+2*h))"
   ]
  },
  {
   "cell_type": "code",
   "execution_count": 54,
   "id": "0271a23c-ea7b-43c7-b649-b6d8539ad37b",
   "metadata": {},
   "outputs": [
    {
     "data": {
      "text/plain": [
       "22.03230486614645"
      ]
     },
     "execution_count": 54,
     "metadata": {},
     "output_type": "execute_result"
    }
   ],
   "source": [
    "# three-point endpoint for x=2.0 and h=0.1\n",
    "threeEndPt(f,2.0,0.1)"
   ]
  },
  {
   "cell_type": "code",
   "execution_count": 55,
   "id": "4c526f89-e01a-4348-9bfb-da09dc8c38f0",
   "metadata": {},
   "outputs": [
    {
     "data": {
      "text/plain": [
       "22.05452134102383"
      ]
     },
     "execution_count": 55,
     "metadata": {},
     "output_type": "execute_result"
    }
   ],
   "source": [
    "# three-point endpoint for x=2.0 and h=-0.1\n",
    "threeEndPt(f,2.0,-0.1)"
   ]
  },
  {
   "cell_type": "code",
   "execution_count": 56,
   "id": "98c3aac2-4a5c-4e1c-805f-a26aebf73d50",
   "metadata": {},
   "outputs": [],
   "source": [
    "# implement three-point midpoint formula \n",
    "def threeMidPt(f,x0,h):\n",
    "    return (1/(2*h))*(f(x0+h)-f(x0-h))"
   ]
  },
  {
   "cell_type": "code",
   "execution_count": 57,
   "id": "6a4b9f66-a5a9-4cae-a870-e1537dfa88b9",
   "metadata": {},
   "outputs": [
    {
     "data": {
      "text/plain": [
       "22.228786880307283"
      ]
     },
     "execution_count": 57,
     "metadata": {},
     "output_type": "execute_result"
    }
   ],
   "source": [
    "# three-point midpoint for x=2.0, h=0.1\n",
    "threeMidPt(f,2.0,0.1)"
   ]
  },
  {
   "cell_type": "code",
   "execution_count": 58,
   "id": "ff1ac071-c7ab-4ec6-8741-2a2da9307faf",
   "metadata": {},
   "outputs": [
    {
     "data": {
      "text/plain": [
       "22.414160657029424"
      ]
     },
     "execution_count": 58,
     "metadata": {},
     "output_type": "execute_result"
    }
   ],
   "source": [
    "# three-point midpoint for x=2.0, h=0.2\n",
    "threeMidPt(f,2.0,0.2)"
   ]
  },
  {
   "cell_type": "code",
   "execution_count": 60,
   "id": "526c32a7-e745-4574-9062-58442dbe5751",
   "metadata": {},
   "outputs": [],
   "source": [
    "# implement five-point midpoint formula \n",
    "def fiveMidPt(f,x0,h):\n",
    "    return (1/(12*h)*(f(x0-2*h)-8*f(x0-h)+8*f(x0+h)-f(x0+2*h)))"
   ]
  },
  {
   "cell_type": "code",
   "execution_count": 62,
   "id": "13bddb28-ba16-4253-af91-5d058a413f88",
   "metadata": {},
   "outputs": [
    {
     "data": {
      "text/plain": [
       "22.1669956213999"
      ]
     },
     "execution_count": 62,
     "metadata": {},
     "output_type": "execute_result"
    }
   ],
   "source": [
    "# five-point midpoint x=2.0, h=0.1 \n",
    "fiveMidPt(f,2.0,0.1)"
   ]
  },
  {
   "cell_type": "markdown",
   "id": "de7cd182-118f-440c-9a29-66add9e013f1",
   "metadata": {},
   "source": [
    "<br> **NOTE:** Without any other information, we should assume the five-point midpoint result is the most accurate since it has more evaluation points than the three-point formulas. \n",
    "\n",
    "However, if we are able to compute or know the exact value for the derivative, we can compare our approximations with the exact and see which one is most accurate."
   ]
  },
  {
   "cell_type": "code",
   "execution_count": 63,
   "id": "63e5fd0d-62bc-45f9-a972-3afa1db2aca6",
   "metadata": {},
   "outputs": [],
   "source": [
    "exact = (2+1)*math.pow(math.e,2)"
   ]
  },
  {
   "cell_type": "code",
   "execution_count": 64,
   "id": "38d9f424-253b-45c2-bf13-c339953fdcc2",
   "metadata": {},
   "outputs": [
    {
     "data": {
      "text/plain": [
       "22.16716829679195"
      ]
     },
     "execution_count": 64,
     "metadata": {},
     "output_type": "execute_result"
    }
   ],
   "source": [
    "exact"
   ]
  },
  {
   "cell_type": "code",
   "execution_count": 69,
   "id": "93ed745d-4f17-4f5d-9d00-578285a0b955",
   "metadata": {},
   "outputs": [],
   "source": [
    "# create vector of approximated values \n",
    "vals = np.array([threeEndPt(f,2.0,0.1),threeEndPt(f,2.0,-0.1),threeMidPt(f,2.0,0.1), threeMidPt(f,2.0,0.2), fiveMidPt(f,2.0,0.1)])"
   ]
  },
  {
   "cell_type": "code",
   "execution_count": 73,
   "id": "9b474cbb-b715-4894-9a9b-52bcc4ea6b26",
   "metadata": {},
   "outputs": [],
   "source": [
    "# compute errors \n",
    "def errors(e,x):\n",
    "    return e-x"
   ]
  },
  {
   "cell_type": "code",
   "execution_count": 74,
   "id": "6081b7d3-dc7a-4b3f-b1c9-a1cb8b06bb07",
   "metadata": {},
   "outputs": [],
   "source": [
    "errorsV = np.vectorize(errors)"
   ]
  },
  {
   "cell_type": "code",
   "execution_count": 75,
   "id": "4d21fe76-c4db-4853-8a1f-16cb4ad0eeae",
   "metadata": {},
   "outputs": [
    {
     "data": {
      "text/plain": [
       "array([ 1.34863431e-01,  1.12646956e-01, -6.16185835e-02, -2.46992360e-01,\n",
       "        1.72675392e-04])"
      ]
     },
     "execution_count": 75,
     "metadata": {},
     "output_type": "execute_result"
    }
   ],
   "source": [
    "errorsV(exact,vals)"
   ]
  },
  {
   "cell_type": "markdown",
   "id": "66cdda5e-a2a7-45c8-97ef-f163b10ecf52",
   "metadata": {},
   "source": [
    "### Second Derivative Midpoint Formula \n",
    "\n",
    "Of course, we can use numerical methods that allow use to approximate higher order derivatives. The derivation of these formulae are algebraically tedious and can be found elsewhere as needed. \n",
    "\n",
    "The summarized derivation in Burden's Numerical Analysis gives the following formula for approximating a second derivative, \n",
    "$$f''(x_0) = \\frac{1}{h^2}\\left[f(x_0-h)-2f(x_0)+f(x_0+h)\\right]-\\frac{h^2}{12}f^{(4)}(\\xi)$$\n",
    "where $\\xi$ lies between $x_0-h$ and $x_0+h$. \n",
    "\n",
    "If $f^{(4)}$ is continuous on the interval, then it is also bounded and the approximation is $O(h^2)$.\n",
    "\n",
    "#### Example 3 \n",
    "\n",
    "Given the same set of evaluation points as example 2, use them and the second derivative midpoint formula to approximate $f''(2.0)$."
   ]
  },
  {
   "cell_type": "code",
   "execution_count": 76,
   "id": "e3d026ca-90d1-4f61-ad2e-4671a7e8dc41",
   "metadata": {},
   "outputs": [],
   "source": [
    "# implement second derivative midpoint formula \n",
    "def secondMidPt(f,x0,h):\n",
    "    return (1/h**2)*(f(x0-h)-2*f(x0)+f(x0+h))"
   ]
  },
  {
   "cell_type": "code",
   "execution_count": 77,
   "id": "73797851-9e58-4af2-a2d7-aa3b200dbd69",
   "metadata": {},
   "outputs": [
    {
     "data": {
      "text/plain": [
       "29.59318610000778"
      ]
     },
     "execution_count": 77,
     "metadata": {},
     "output_type": "execute_result"
    }
   ],
   "source": [
    "# second derivative midpoint for x=2.0, h=0.1\n",
    "secondMidPt(f,2.0,0.1)"
   ]
  },
  {
   "cell_type": "code",
   "execution_count": 78,
   "id": "bde910dd-98cc-4df0-b938-18062ff764a0",
   "metadata": {},
   "outputs": [
    {
     "data": {
      "text/plain": [
       "29.704268474394354"
      ]
     },
     "execution_count": 78,
     "metadata": {},
     "output_type": "execute_result"
    }
   ],
   "source": [
    "# second deriative midpoint for x=2.0, h=0.2\n",
    "secondMidPt(f,2.0,0.2)"
   ]
  },
  {
   "cell_type": "code",
   "execution_count": 81,
   "id": "ab85079d-d94c-4a04-87da-5f3708eec981",
   "metadata": {},
   "outputs": [],
   "source": [
    "# exact value of second derivative at 2.0\n",
    "exact = (2.0+2)*math.pow(math.e,2.0)"
   ]
  },
  {
   "cell_type": "code",
   "execution_count": 83,
   "id": "d5320dd2-b251-43f9-928b-1a5cf7564fe5",
   "metadata": {},
   "outputs": [
    {
     "data": {
      "text/plain": [
       "29.556224395722598"
      ]
     },
     "execution_count": 83,
     "metadata": {},
     "output_type": "execute_result"
    }
   ],
   "source": [
    "exact"
   ]
  },
  {
   "cell_type": "code",
   "execution_count": 85,
   "id": "99a6b234-ed4b-4bd3-a70c-e5ce49fd88b2",
   "metadata": {},
   "outputs": [],
   "source": [
    "# create vector of approximated values \n",
    "vals = np.array([secondMidPt(f,2.0,0.1),secondMidPt(f,2.0,0.2)])"
   ]
  },
  {
   "cell_type": "code",
   "execution_count": 86,
   "id": "3ebe007b-eb3e-4ee7-bd1e-323153c6cd74",
   "metadata": {},
   "outputs": [
    {
     "data": {
      "text/plain": [
       "array([-0.0369617 , -0.14804408])"
      ]
     },
     "execution_count": 86,
     "metadata": {},
     "output_type": "execute_result"
    }
   ],
   "source": [
    "# compute errors \n",
    "errorsV(exact, vals)"
   ]
  }
 ],
 "metadata": {
  "kernelspec": {
   "display_name": "Python 3 (ipykernel)",
   "language": "python",
   "name": "python3"
  },
  "language_info": {
   "codemirror_mode": {
    "name": "ipython",
    "version": 3
   },
   "file_extension": ".py",
   "mimetype": "text/x-python",
   "name": "python",
   "nbconvert_exporter": "python",
   "pygments_lexer": "ipython3",
   "version": "3.9.9"
  }
 },
 "nbformat": 4,
 "nbformat_minor": 5
}
