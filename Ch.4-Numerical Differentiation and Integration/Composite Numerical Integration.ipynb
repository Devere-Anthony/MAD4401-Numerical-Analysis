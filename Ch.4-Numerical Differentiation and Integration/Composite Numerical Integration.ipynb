{
 "cells": [
  {
   "cell_type": "markdown",
   "id": "aa090c25-2c6c-4f0b-99ac-21ff8753e81e",
   "metadata": {},
   "source": [
    "# 4.4 - Composite Numerical Integration\n",
    "\n",
    "---\n",
    "\n",
    "In the previous section, we covered various Netwon-Cotes formulas, both open and closed. \n",
    "While these formulas are useful for numerical integration, they are not particularly suitable for integration over\n",
    "very large intervals. These would require high-degree formulas where the coefficients are difficult to obtain. \n",
    "Likewise using a Largrange interpolating polynomial over a very large interval also provides inaccurate approximations. \n",
    "\n",
    "To address these issues, this section covers using a *piecewise* approach to numerical integration that will utilize\n",
    "low-order Newton--Cotes formulas. The techniques covered in this section are the most applied for problems of numerical\n",
    "integration. \n",
    "\n",
    "#### Example 1 \n",
    "\n",
    "Use Simpson's rule to approximate the definite integral $\\int^4_0e^x dx$. Compare this result to using Simpson's rule to \n",
    "approximate $\\int^2_0e^xdx$ and $\\int^4_2e^x dx$ and then add them. Then do the same but for the sum of four integrals over \n",
    "the same interval."
   ]
  },
  {
   "cell_type": "code",
   "execution_count": 2,
   "id": "aba6c0ed-3122-404e-a3e8-ef135c9b86ba",
   "metadata": {},
   "outputs": [],
   "source": [
    "import numpy as np \n",
    "import math"
   ]
  },
  {
   "cell_type": "code",
   "execution_count": 14,
   "id": "2cc23cb0-febe-406e-bb75-0df7c83f9bff",
   "metadata": {},
   "outputs": [],
   "source": [
    "# implement Simpson's Rule\n",
    "def simpsonsRule(f, x0, x2, h = None):\n",
    "    \"\"\"\n",
    "    Implementation of the Simpson's Rule used to approximate\n",
    "    the definite integral of functions by using \n",
    "    second Largrange polynomials with equally spaced nodes;\n",
    "    x0 = lower endpoint, x1 = upper endpoint, \n",
    "    f = function object representing mathematical \n",
    "    function. Observe h is an optional argument which \n",
    "    is useful for summing approximations. \n",
    "    \"\"\"\n",
    "    if h:\n",
    "        x1 = x0+h\n",
    "        return (h/3)*(f(x0)+4*f(x1)+f(x2))\n",
    "    else:\n",
    "        h = (x0+x2)/2\n",
    "        x1 = x0+h\n",
    "        return (h/3)*(f(x0)+4*f(x1)+f(x2))"
   ]
  },
  {
   "cell_type": "code",
   "execution_count": 15,
   "id": "29325fa3-138c-4725-b3a8-65cd2184c419",
   "metadata": {},
   "outputs": [],
   "source": [
    "# implement function to be integrated \n",
    "def f(x):\n",
    "    return math.exp(x)"
   ]
  },
  {
   "cell_type": "code",
   "execution_count": 16,
   "id": "835b0843-ee32-4afc-b20e-196bf5c7f6f7",
   "metadata": {},
   "outputs": [
    {
     "data": {
      "text/plain": [
       "56.76958295257789"
      ]
     },
     "execution_count": 16,
     "metadata": {},
     "output_type": "execute_result"
    }
   ],
   "source": [
    "# approximate integral over [0,4]\n",
    "simpsonsRule(f,0,4)"
   ]
  },
  {
   "cell_type": "code",
   "execution_count": 17,
   "id": "4ecfdd16-76a0-4956-9023-2ed4f5596a2c",
   "metadata": {},
   "outputs": [
    {
     "data": {
      "text/plain": [
       "53.863845745864126"
      ]
     },
     "execution_count": 17,
     "metadata": {},
     "output_type": "execute_result"
    }
   ],
   "source": [
    "simpsonsRule(f,0,2,1) + simpsonsRule(f,2,4,1)"
   ]
  },
  {
   "cell_type": "markdown",
   "id": "d2962c93-1d08-4933-afa2-1c59909e0e8b",
   "metadata": {},
   "source": [
    "Observe that the error has been reduced implying that this is a more accurate approximation. Let's approximate one last time by \n",
    "breaking the interval into four pieces and using $h=\\frac{1}{2}$,"
   ]
  },
  {
   "cell_type": "code",
   "execution_count": 19,
   "id": "b47515f9-ddb2-44df-8fa1-d55c9ba2fa92",
   "metadata": {},
   "outputs": [
    {
     "data": {
      "text/plain": [
       "53.616220796005805"
      ]
     },
     "execution_count": 19,
     "metadata": {},
     "output_type": "execute_result"
    }
   ],
   "source": [
    "simpsonsRule(f,0,1,.5)+simpsonsRule(f,1,2,.5)+simpsonsRule(f,2,3,.5)+simpsonsRule(f,3,4,.5)"
   ]
  },
  {
   "cell_type": "markdown",
   "id": "7c6a299e-363b-4429-9a42-9813040c7e39",
   "metadata": {},
   "source": [
    "Observe we this further reduces the error. Implying that by integrating over smaller intervals, we can obtain a more accurate approximation. \n",
    "\n",
    "As usual, the derivation of the formula used in the following theorem is in the text and should be consulted as needed.\n",
    "\n",
    "**Theorem 4.4** \n",
    "Let $f \\in C^4[a,b]$, $n$ be an even integer, $h=(b-a)/n$, and $x_j = a+jh\\,\\,\\,\\text{for}\\,\\,\\,j=0,1,\\ldots,n$.\n",
    "There exits a $\\mu \\in (a,b)$ for which the *Composite Simpson's rule* for $n$ subintervals can be written with its error term as, \n",
    "$$\\Rightarrow \\int^b_a f(x)dx=\\frac{h}{3}\\left[f(a)+2\\sum_{j=1}^{(n/2)-1}f(x_{2j})+4\\sum_{j=1}^{n/2}f(x_{2j-1})+f(b)\\right]\n",
    "-\\frac{b-a}{180}h^4f^{(4)}(\\mu).$$\n",
    "\n",
    "Observe the error term is $O(h^4)$."
   ]
  },
  {
   "cell_type": "code",
   "execution_count": 21,
   "id": "bf57f5d7-5489-4d0c-aff9-76b5853850b3",
   "metadata": {},
   "outputs": [],
   "source": [
    "#implement Composite Simpson's rule \n",
    "def compositeSimpson(f,a,b,n):\n",
    "    \"\"\"\n",
    "    Implementation of the Composite Simpson's rule for \n",
    "    numerical integration (the most common algorithm in use).\n",
    "    \"\"\"\n",
    "    h = (b-a)/n    # size of intervals \n",
    "    x0 = f(a) + f(b)    # evaluate function object at endpoints\n",
    "    x1 = 0    # summation of f(x2i-1)\n",
    "    x2 = 0    # summation of f(x2i)\n",
    "    for i in range(n):\n",
    "        x = a + i*h    # next subinterval \n",
    "        if i%2==0:\n",
    "            x2 = x2 + f(x)\n",
    "        else:\n",
    "            x1 = x1 + f(x)\n",
    "    x = h*(x0 + 2*x2 + 4*x1)/3    # compute approximation\n",
    "    return x"
   ]
  },
  {
   "cell_type": "code",
   "execution_count": 22,
   "id": "59fa3167-3787-433e-b864-0c2404923858",
   "metadata": {},
   "outputs": [],
   "source": [
    "# test it\n",
    "def g(x):\n",
    "    return math.sin(x)"
   ]
  },
  {
   "cell_type": "code",
   "execution_count": 23,
   "id": "ac866ba2-71f9-4b87-bb09-427a245bd8ef",
   "metadata": {},
   "outputs": [
    {
     "data": {
      "text/plain": [
       "2.0000103477057745"
      ]
     },
     "execution_count": 23,
     "metadata": {},
     "output_type": "execute_result"
    }
   ],
   "source": [
    "compositeSimpson(g,0,math.pi,18)"
   ]
  },
  {
   "cell_type": "markdown",
   "id": "48437d7a-9bac-4cd1-85d1-1b7e9923c5fe",
   "metadata": {},
   "source": [
    "It is implemented correctly.\n",
    "\n",
    "The subdivision approach can be utilized for all of the Newton-Cotes formulas.\n",
    "\n",
    "**Theorem 4.5** \n",
    "Let $f \\in C^2[a,b]$, $n$ be an even integer, $h=(b-a)/n$, and $x_j = a+jh\\,\\,\\,\\text{for}\\,\\,\\,j=0,1,\\ldots,n$.\n",
    "There exits a $\\mu \\in (a,b)$ for which the *Composite Trapezoidal rule* for $n$ subintervals can be written with its error term as, \n",
    "$$\\Rightarrow \\int^b_a f(x)dx=\\frac{h}{2}\\left[f(a)+2\\sum_{j=1}^{(n-1)}f(x_j)+f(b)\\right]\n",
    "-\\frac{b-a}{12}h^2f''(\\mu).$$\n",
    "\n",
    "Observe that unlike the Composite Simpson's rule, we are allowed to have $n$, the number of subintervals, be positive or a negative integer. \n",
    "\n",
    "**Theorem 4.6** \n",
    "Let $f \\in C^2[a,b]$, $n$ be an even integer, $h=(b-a)/(n+2)$, and $x_j = a+(j_1)h\\,\\,\\,\\text{for}\\,\\,\\,j=-1,0,1,\\ldots,n+1$.\n",
    "There exits a $\\mu \\in (a,b)$ for which the *Composite Midpoint rule* for $n+2$ subintervals can be written with its error term as, \n",
    "$$\\Rightarrow \\int^b_a f(x)dx=2h\\sum_{j=0}^{n/2}+\\frac{b-a}{6}h^2f''(\\mu).$$"
   ]
  },
  {
   "cell_type": "code",
   "execution_count": null,
   "id": "83f66c96-e80c-43c8-953b-a46e87de589b",
   "metadata": {},
   "outputs": [],
   "source": []
  }
 ],
 "metadata": {
  "kernelspec": {
   "display_name": "Python 3 (ipykernel)",
   "language": "python",
   "name": "python3"
  },
  "language_info": {
   "codemirror_mode": {
    "name": "ipython",
    "version": 3
   },
   "file_extension": ".py",
   "mimetype": "text/x-python",
   "name": "python",
   "nbconvert_exporter": "python",
   "pygments_lexer": "ipython3",
   "version": "3.9.9"
  }
 },
 "nbformat": 4,
 "nbformat_minor": 5
}
