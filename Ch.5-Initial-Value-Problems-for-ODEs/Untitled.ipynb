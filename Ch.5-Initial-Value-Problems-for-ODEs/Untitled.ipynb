{
 "cells": [
  {
   "cell_type": "markdown",
   "id": "ff7c7e41-def7-47e4-ba49-97658696fe51",
   "metadata": {},
   "source": [
    "# Runge-Kutta Method (Order Four)"
   ]
  },
  {
   "cell_type": "code",
   "execution_count": 29,
   "id": "cf2fc8d0-2426-4277-8333-295362624e5d",
   "metadata": {},
   "outputs": [],
   "source": [
    "\"\"\"\n",
    "RungeKutta4(f, a, b, N, α) - TODO Fill in the deets\n",
    "\"\"\"\n",
    "function RungeKutta4(f, a, b, N, α)\n",
    "    h = (b-a)/ N\n",
    "    t = a\n",
    "    w = α\n",
    "    vals = [w]   \n",
    "    \n",
    "    for i in 1:N\n",
    "        k1 = h * f(t,w)\n",
    "        k2 = h * f(t+(h/2), w + (k1/2))\n",
    "        k3 = h * f(t+(h/2), w + (k2/2))\n",
    "        k4 = h * f(t+h, w + k3)\n",
    "        w = w + ((k1+2k2+2k3+k4)/6)\n",
    "        append!(vals, w)\n",
    "        t = a + i*h\n",
    "    end\n",
    "    return vals\n",
    "end;"
   ]
  },
  {
   "cell_type": "code",
   "execution_count": 30,
   "id": "d9cde6a8-addd-417d-984c-11788342a864",
   "metadata": {},
   "outputs": [],
   "source": [
    "# implementation of IVP\n",
    "function f(t,y)\n",
    "    y - t^2 + 1\n",
    "end;"
   ]
  },
  {
   "cell_type": "code",
   "execution_count": 34,
   "id": "e124f78e-1b5e-463e-bd47-d7fab074d255",
   "metadata": {},
   "outputs": [],
   "source": [
    "approximations = RungeKutta4(f, 0, 2, 10, 0.5);"
   ]
  },
  {
   "cell_type": "code",
   "execution_count": 35,
   "id": "d45aabda-2c93-467c-ac6f-90f23179182e",
   "metadata": {},
   "outputs": [],
   "source": [
    "# compute exact values\n",
    "function y(t)\n",
    "    (t+1)^2 - 0.5ℯ^t\n",
    "end;"
   ]
  },
  {
   "cell_type": "code",
   "execution_count": 36,
   "id": "eca5919f-07b3-47fd-aca9-23cfe9d17c6e",
   "metadata": {},
   "outputs": [],
   "source": [
    "exact = y.(collect(0:.2:2));"
   ]
  },
  {
   "cell_type": "code",
   "execution_count": 37,
   "id": "1c18d47e-edb0-419f-a877-57d4488a061d",
   "metadata": {},
   "outputs": [],
   "source": [
    "errors = abs.(approximations - exact);"
   ]
  },
  {
   "cell_type": "code",
   "execution_count": 38,
   "id": "cbff33f9-3136-49fb-bace-1f5a65a89f8e",
   "metadata": {},
   "outputs": [
    {
     "data": {
      "text/plain": [
       "11-element Vector{Float64}:\n",
       " 0.0\n",
       " 5.2875865815815715e-6\n",
       " 1.1440512697857841e-5\n",
       " 1.858276314581353e-5\n",
       " 2.6850805822764556e-5\n",
       " 3.639304172597946e-5\n",
       " 4.736839949659455e-5\n",
       " 5.994372268292025e-5\n",
       " 7.428948403820357e-5\n",
       " 9.057321409233765e-5\n",
       " 0.00010894984202192148"
      ]
     },
     "execution_count": 38,
     "metadata": {},
     "output_type": "execute_result"
    }
   ],
   "source": [
    "errors"
   ]
  },
  {
   "cell_type": "code",
   "execution_count": null,
   "id": "d7c98043-a860-4849-a6ca-0db9378cdb0e",
   "metadata": {},
   "outputs": [],
   "source": []
  }
 ],
 "metadata": {
  "kernelspec": {
   "display_name": "Julia 1.8.3",
   "language": "julia",
   "name": "julia-1.8"
  },
  "language_info": {
   "file_extension": ".jl",
   "mimetype": "application/julia",
   "name": "julia",
   "version": "1.8.3"
  }
 },
 "nbformat": 4,
 "nbformat_minor": 5
}
