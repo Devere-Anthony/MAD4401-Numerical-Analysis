{
 "cells": [
  {
   "cell_type": "markdown",
   "id": "0f5b613b-5f3a-406c-8021-cc217398c4f4",
   "metadata": {},
   "source": [
    "# Euler's Method\n",
    "\n",
    "This notebook contains some exploratory work to understand the algorithm used for Euler's method. Transfer to a clean notebook/notes later. "
   ]
  },
  {
   "cell_type": "code",
   "execution_count": 14,
   "id": "e0ed3c52-2b01-4d1d-bbee-67f3f19e6ec1",
   "metadata": {},
   "outputs": [
    {
     "data": {
      "text/plain": [
       "f (generic function with 1 method)"
      ]
     },
     "execution_count": 14,
     "metadata": {},
     "output_type": "execute_result"
    }
   ],
   "source": [
    "# function to be tested\n",
    "function f(t,y)\n",
    "    y - t^2 + 1\n",
    "end"
   ]
  },
  {
   "cell_type": "code",
   "execution_count": 15,
   "id": "b91833bc-0a1e-4f53-9525-e8ec9684b1b6",
   "metadata": {},
   "outputs": [
    {
     "data": {
      "text/plain": [
       "EulersMethod (generic function with 1 method)"
      ]
     },
     "execution_count": 15,
     "metadata": {},
     "output_type": "execute_result"
    }
   ],
   "source": [
    "# Euler's Method \n",
    "function EulersMethod(f, a, b, N, α)\n",
    "    # Set up conidtions to and output the initial values\n",
    "    h = (b-a)/N    # step size \n",
    "    t = a    # set first mesh point to first point in interval \n",
    "    w = α    # set the initial value for w0\n",
    "#    println(\"w0 = \", α)    # simply print initial value \n",
    "    vals = [w]    # vector to return approximations\n",
    "    \n",
    "    # compute approximations for remaining mesh points\n",
    "    for i in 1:N\n",
    "        w = w + h*f(t,w)    # compute w_i\n",
    "        t = a + i*h    # compute t_i\n",
    "#        println(\"w\", i, \" = \", w)\n",
    "        # instead of printing the values of w, add them to a vector and return that instead\n",
    "        append!(vals, w)\n",
    "    end #for\n",
    "    return vals\n",
    "end"
   ]
  },
  {
   "cell_type": "code",
   "execution_count": 16,
   "id": "0b664d4a-a181-4c6d-b389-a9c45d392857",
   "metadata": {},
   "outputs": [],
   "source": [
    "approximations = EulersMethod(f,0,2,4,0.5);"
   ]
  },
  {
   "cell_type": "code",
   "execution_count": 17,
   "id": "6e9bab64-06c7-43d9-b006-754b23f840e8",
   "metadata": {},
   "outputs": [
    {
     "data": {
      "text/plain": [
       "5-element Vector{Float64}:\n",
       " 0.5\n",
       " 1.25\n",
       " 2.25\n",
       " 3.375\n",
       " 4.4375"
      ]
     },
     "execution_count": 17,
     "metadata": {},
     "output_type": "execute_result"
    }
   ],
   "source": [
    "approximations"
   ]
  },
  {
   "cell_type": "markdown",
   "id": "93b875e3-666a-4dec-b90e-338c46c9b920",
   "metadata": {},
   "source": [
    "---\n",
    "\n",
    "## Example 1 (from Burden p.268)"
   ]
  },
  {
   "cell_type": "code",
   "execution_count": 5,
   "id": "f5557e91-4be7-420e-a0d9-658331f702ad",
   "metadata": {},
   "outputs": [],
   "source": [
    "# compute approximated values for mesh points with given parameters\n",
    "approximations = EulersMethod(f, 0, 2, 10, 0.5);"
   ]
  },
  {
   "cell_type": "code",
   "execution_count": 6,
   "id": "b3eb1e14-bff7-46f9-b9fc-a9ee2c7a111b",
   "metadata": {},
   "outputs": [
    {
     "data": {
      "text/plain": [
       "11-element Vector{Float64}:\n",
       " 0.5\n",
       " 0.8\n",
       " 1.1520000000000001\n",
       " 1.5504000000000002\n",
       " 1.9884800000000002\n",
       " 2.4581760000000004\n",
       " 2.9498112000000005\n",
       " 3.4517734400000006\n",
       " 3.9501281280000007\n",
       " 4.428153753600001\n",
       " 4.865784504320001"
      ]
     },
     "execution_count": 6,
     "metadata": {},
     "output_type": "execute_result"
    }
   ],
   "source": [
    "approximations"
   ]
  },
  {
   "cell_type": "code",
   "execution_count": 13,
   "id": "78eab1fb-ca0e-4d26-835a-b8864a3d22ab",
   "metadata": {},
   "outputs": [],
   "source": [
    "# compute exact values\n",
    "function y(t)\n",
    "    (t+1)^2 - 0.5ℯ^t\n",
    "end;"
   ]
  },
  {
   "cell_type": "code",
   "execution_count": 8,
   "id": "1a207771-3556-468b-8ecf-470a4420f019",
   "metadata": {},
   "outputs": [],
   "source": [
    "exactVals = y.(collect(0:.2:2));"
   ]
  },
  {
   "cell_type": "code",
   "execution_count": 9,
   "id": "d07542af-a068-4a03-8802-654ddc15db3b",
   "metadata": {},
   "outputs": [
    {
     "data": {
      "text/plain": [
       "11-element Vector{Float64}:\n",
       " 0.5\n",
       " 0.829298620919915\n",
       " 1.2140876511793646\n",
       " 1.648940599804746\n",
       " 2.1272295357537665\n",
       " 2.6408590857704777\n",
       " 3.179941538631727\n",
       " 3.7324000165776625\n",
       " 4.283483787802443\n",
       " 4.815176267793525\n",
       " 5.305471950534675"
      ]
     },
     "execution_count": 9,
     "metadata": {},
     "output_type": "execute_result"
    }
   ],
   "source": [
    "exactVals"
   ]
  },
  {
   "cell_type": "code",
   "execution_count": 10,
   "id": "ddd08e85-2c6c-4bc0-bce2-5a237342df2a",
   "metadata": {},
   "outputs": [
    {
     "data": {
      "text/plain": [
       "11-element Vector{Float64}:\n",
       " 0.0\n",
       " 0.029298620919914975\n",
       " 0.062087651179364434\n",
       " 0.09854059980474572\n",
       " 0.13874953575376625\n",
       " 0.18268308577047732\n",
       " 0.2301303386317266\n",
       " 0.2806265765776619\n",
       " 0.3333556598024425\n",
       " 0.3870225141935242\n",
       " 0.43968744621467337"
      ]
     },
     "execution_count": 10,
     "metadata": {},
     "output_type": "execute_result"
    }
   ],
   "source": [
    "# compute absolute error between approximations and exact values \n",
    "abs_error = abs.(approximations - exactVals)"
   ]
  },
  {
   "cell_type": "markdown",
   "id": "bccfee67-a567-421c-a2c7-aaa004ec38dd",
   "metadata": {},
   "source": [
    "---"
   ]
  },
  {
   "cell_type": "code",
   "execution_count": 22,
   "id": "29868b41-0ebb-4c0c-9b98-e070665a0e56",
   "metadata": {},
   "outputs": [],
   "source": [
    "function f(t,y)\n",
    "    (t^-2)*(sin(2t)-2*t*y)\n",
    "end;"
   ]
  },
  {
   "cell_type": "code",
   "execution_count": 23,
   "id": "ae3c99cb-e1df-43ed-bae0-9a31b1054240",
   "metadata": {},
   "outputs": [
    {
     "data": {
      "text/plain": [
       "5-element Vector{Float64}:\n",
       " 0.25\n",
       " 0.3523243567064204\n",
       " 0.30715015708048526\n",
       " 0.220446772282531\n",
       " 0.1288266146761246"
      ]
     },
     "execution_count": 23,
     "metadata": {},
     "output_type": "execute_result"
    }
   ],
   "source": [
    "EulersMethod(f,1,2,4,0.25)"
   ]
  },
  {
   "cell_type": "code",
   "execution_count": null,
   "id": "f38a112a-5522-4e87-9e8d-bcd986f106e5",
   "metadata": {},
   "outputs": [],
   "source": []
  }
 ],
 "metadata": {
  "kernelspec": {
   "display_name": "Julia 1.8.3",
   "language": "julia",
   "name": "julia-1.8"
  },
  "language_info": {
   "file_extension": ".jl",
   "mimetype": "application/julia",
   "name": "julia",
   "version": "1.8.3"
  }
 },
 "nbformat": 4,
 "nbformat_minor": 5
}
