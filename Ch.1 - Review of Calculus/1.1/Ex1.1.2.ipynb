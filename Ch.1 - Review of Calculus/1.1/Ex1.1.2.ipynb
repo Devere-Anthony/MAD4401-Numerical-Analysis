{
 "cells": [
  {
   "cell_type": "markdown",
   "id": "cf3cc4d9-f688-4038-ae31-78f8e0e38c06",
   "metadata": {},
   "source": [
    "## Exercise 2. Show that following equations have at least one solution in the given intervals.\n",
    "\n",
    "a) $\\sqrt{x} - cosx = 0$ on $[0,1]$"
   ]
  },
  {
   "cell_type": "code",
   "execution_count": 1,
   "id": "c1f5f52f-8c9d-46c0-946a-71c92ee67777",
   "metadata": {},
   "outputs": [],
   "source": [
    "import math"
   ]
  },
  {
   "cell_type": "code",
   "execution_count": 9,
   "id": "e0593463-c407-4868-addf-ab7015339a1f",
   "metadata": {},
   "outputs": [],
   "source": [
    "def a(x, y):\n",
    "    solx = math.sqrt(x) - math.cos(x)\n",
    "    soly = math.sqrt(y) - math.cos(y)\n",
    "    return solx, soly"
   ]
  },
  {
   "cell_type": "code",
   "execution_count": 10,
   "id": "5cdbc482-d22c-4157-851d-982676e172a8",
   "metadata": {},
   "outputs": [
    {
     "data": {
      "text/plain": [
       "(-1.0, 0.45969769413186023)"
      ]
     },
     "execution_count": 10,
     "metadata": {},
     "output_type": "execute_result"
    }
   ],
   "source": [
    "a(0, 1)"
   ]
  },
  {
   "cell_type": "markdown",
   "id": "b4fac0c0-060a-4666-96c2-150fdbc113ec",
   "metadata": {},
   "source": [
    "Thus $a$ is increasing over the interval and $a(0) < a(1)$. There for by the IVT, there exists at least one solution in the interval. "
   ]
  },
  {
   "cell_type": "markdown",
   "id": "b6ab2b21-6b40-4521-b282-2dae12a61499",
   "metadata": {},
   "source": [
    "<br>b) $e^x - x^2 + 3x -2 = 0$ on [0,1]"
   ]
  },
  {
   "cell_type": "code",
   "execution_count": 14,
   "id": "e05592f1-4064-4643-a800-8e38bb307654",
   "metadata": {},
   "outputs": [],
   "source": [
    "def b(x, y):\n",
    "    solx = math.exp(x) - pow(x,2) + (3*x) - 2\n",
    "    soly = math.exp(y) - pow(y,2) + (3*y) - 2\n",
    "    return solx, soly"
   ]
  },
  {
   "cell_type": "code",
   "execution_count": 15,
   "id": "aaec9ed2-c247-4846-a2ad-9d543bcf2c60",
   "metadata": {},
   "outputs": [
    {
     "data": {
      "text/plain": [
       "(-1.0, 2.7182818284590446)"
      ]
     },
     "execution_count": 15,
     "metadata": {},
     "output_type": "execute_result"
    }
   ],
   "source": [
    "b(0,1)"
   ]
  },
  {
   "cell_type": "markdown",
   "id": "84df5a25-3770-485d-a2cf-d262d8edee12",
   "metadata": {},
   "source": [
    "$b$ is increasing over the interval so $b(0) < b(1)$. By IVT, there exist at least one solution in the given interval. "
   ]
  },
  {
   "cell_type": "markdown",
   "id": "da7d9e7f-5d7d-41b9-af1b-e28f87809fc1",
   "metadata": {},
   "source": [
    "<br>c) $-3tan(2x) + x = 0$ on $[0, 1]$"
   ]
  },
  {
   "cell_type": "code",
   "execution_count": 19,
   "id": "c25047a5-04ac-42c5-ba85-9e8084719ac1",
   "metadata": {},
   "outputs": [],
   "source": [
    "def c(x, y):\n",
    "    solx = -3 * math.tan(2*x) + x\n",
    "    soly = -3 * math.tan(2*y) + y\n",
    "    return solx, soly"
   ]
  },
  {
   "cell_type": "code",
   "execution_count": 20,
   "id": "1742743b-79bb-4cf8-98f9-b76f11b9f39a",
   "metadata": {},
   "outputs": [
    {
     "data": {
      "text/plain": [
       "(0.0, 7.555119589784557)"
      ]
     },
     "execution_count": 20,
     "metadata": {},
     "output_type": "execute_result"
    }
   ],
   "source": [
    "c(0,1)"
   ]
  },
  {
   "cell_type": "markdown",
   "id": "c60afb8c-bd4d-4625-92c9-67a5d301ce60",
   "metadata": {},
   "source": [
    "$c$ is increasing over the interval, $c(0) < c(1)$, thus there exists at least one solution. "
   ]
  },
  {
   "cell_type": "markdown",
   "id": "8ab8c473-4998-455a-96b6-9bfb83df9c5f",
   "metadata": {},
   "source": [
    "<br>d) $lnx -x^2 + \\frac{5}{2}x - 1 = 0$ on $[\\frac{1}{2}, 1]$"
   ]
  },
  {
   "cell_type": "code",
   "execution_count": 23,
   "id": "85df2ec9-e0be-43ee-979e-a5e5fb75e975",
   "metadata": {},
   "outputs": [],
   "source": [
    "def d(x,y):\n",
    "    solx = math.log(x) - pow(x,2) + (5/2)*x - 1 \n",
    "    soly = math.log(y) - pow(y,2) + (5/2)*y - 1\n",
    "    return solx, soly"
   ]
  },
  {
   "cell_type": "code",
   "execution_count": 24,
   "id": "61617bab-8700-4413-97c7-4751724dc38f",
   "metadata": {},
   "outputs": [
    {
     "data": {
      "text/plain": [
       "(-0.6931471805599453, 0.5)"
      ]
     },
     "execution_count": 24,
     "metadata": {},
     "output_type": "execute_result"
    }
   ],
   "source": [
    "d(0.5,1)"
   ]
  },
  {
   "cell_type": "markdown",
   "id": "58c099a4-8844-4b10-9d51-d26a3b4c0b34",
   "metadata": {},
   "source": [
    "$d$ is increasing, thus $d(0) < d(1)$. By IVT, there exists at least one solution in the given interval. "
   ]
  },
  {
   "cell_type": "code",
   "execution_count": null,
   "id": "551da774-a989-4b23-b4b0-e5b71682b167",
   "metadata": {},
   "outputs": [],
   "source": []
  }
 ],
 "metadata": {
  "kernelspec": {
   "display_name": "Python 3 (ipykernel)",
   "language": "python",
   "name": "python3"
  },
  "language_info": {
   "codemirror_mode": {
    "name": "ipython",
    "version": 3
   },
   "file_extension": ".py",
   "mimetype": "text/x-python",
   "name": "python",
   "nbconvert_exporter": "python",
   "pygments_lexer": "ipython3",
   "version": "3.9.12"
  }
 },
 "nbformat": 4,
 "nbformat_minor": 5
}
