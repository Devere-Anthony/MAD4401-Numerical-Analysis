{
 "cells": [
  {
   "cell_type": "markdown",
   "id": "22677c8c-033a-4d45-94c6-8507457219f9",
   "metadata": {},
   "source": [
    "## Use Third Taylor Polynomial to approximate the given functions. \n",
    "\n",
    "From the previous part of the problem, the third Taylor Polynomial is given by $1 + \\frac{1}{2}x - \\frac{1}{8}x^2 + \\frac{1}{16}x^3$"
   ]
  },
  {
   "cell_type": "code",
   "execution_count": 1,
   "id": "0aadf018-19b9-47a8-863c-a3510e781fd0",
   "metadata": {},
   "outputs": [],
   "source": [
    "import math"
   ]
  },
  {
   "cell_type": "code",
   "execution_count": 13,
   "id": "5f2411b2-ee05-4d27-a053-c1a024f8aecc",
   "metadata": {},
   "outputs": [],
   "source": [
    "# approximate using taylor polynomial above\n",
    "def tp(y):\n",
    "    x = y - 1\n",
    "    approx = 1 + (1/2)*x - (1/8)*pow(x,2) + (1/16)*pow(x,3)\n",
    "    error = math.sqrt(y) - approx\n",
    "    print(f'Approximation: {approx}, Error: {error}')"
   ]
  },
  {
   "cell_type": "code",
   "execution_count": 18,
   "id": "c9e77d11-4560-4c12-b331-35c95045a61b",
   "metadata": {},
   "outputs": [
    {
     "name": "stdout",
     "output_type": "stream",
     "text": [
      "Approximation: 0.7109375, Error: -0.0038307188134524273\n"
     ]
    }
   ],
   "source": [
    "# sqrt(0.5) -> x = -0.5, \n",
    "tp(0.5)"
   ]
  },
  {
   "cell_type": "code",
   "execution_count": 19,
   "id": "171d7117-ea3b-4b62-a26e-84359501db29",
   "metadata": {},
   "outputs": [
    {
     "name": "stdout",
     "output_type": "stream",
     "text": [
      "Approximation: 0.8662109375, Error: -0.0001855337155614034\n"
     ]
    }
   ],
   "source": [
    "# sqrt(0.75)\n",
    "tp(0.75)"
   ]
  },
  {
   "cell_type": "code",
   "execution_count": 20,
   "id": "23b213e8-3ba5-4d0a-b092-30871bd5ed20",
   "metadata": {},
   "outputs": [
    {
     "name": "stdout",
     "output_type": "stream",
     "text": [
      "Approximation: 1.1181640625, Error: -0.00013007375010509747\n"
     ]
    }
   ],
   "source": [
    "# sqrt(1.25)\n",
    "tp(1.25)"
   ]
  },
  {
   "cell_type": "code",
   "execution_count": 21,
   "id": "383de74b-dfad-45cc-a7f6-e59e9f51633d",
   "metadata": {},
   "outputs": [
    {
     "name": "stdout",
     "output_type": "stream",
     "text": [
      "Approximation: 1.2265625, Error: -0.0018176286084110593\n"
     ]
    }
   ],
   "source": [
    "# sqrt(1.5)\n",
    "tp(1.5)"
   ]
  }
 ],
 "metadata": {
  "kernelspec": {
   "display_name": "Python 3 (ipykernel)",
   "language": "python",
   "name": "python3"
  },
  "language_info": {
   "codemirror_mode": {
    "name": "ipython",
    "version": 3
   },
   "file_extension": ".py",
   "mimetype": "text/x-python",
   "name": "python",
   "nbconvert_exporter": "python",
   "pygments_lexer": "ipython3",
   "version": "3.9.12"
  }
 },
 "nbformat": 4,
 "nbformat_minor": 5
}
