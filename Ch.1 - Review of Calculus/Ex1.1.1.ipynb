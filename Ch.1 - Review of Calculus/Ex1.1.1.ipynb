{
 "cells": [
  {
   "cell_type": "code",
   "execution_count": 1,
   "id": "bea7c1d1-5b34-463c-9c25-775c3f731f9a",
   "metadata": {},
   "outputs": [],
   "source": [
    "import math"
   ]
  },
  {
   "cell_type": "markdown",
   "id": "50fccddf-b1f9-4cf9-852e-bf64415fd5c1",
   "metadata": {},
   "source": [
    "1. Show the following equations have at least one solution in the given intervals. (Use intermediate value theorem).\n",
    "\n",
    "a) $xcosx - 2x^2 + 3x - 1 = 0$ has at least one solution in $[0.2, 0.3]$ and $[1.2, 1.3]$"
   ]
  },
  {
   "cell_type": "code",
   "execution_count": 12,
   "id": "40624880-1971-46c3-808f-0f449815070d",
   "metadata": {},
   "outputs": [],
   "source": [
    "def f(x):\n",
    "    soln = x * math.cos(x) - (2 * x * x) + (3 * x) - 1\n",
    "    return soln"
   ]
  },
  {
   "cell_type": "code",
   "execution_count": 13,
   "id": "790cd429-f0a1-4a93-92a6-67296894b0c9",
   "metadata": {},
   "outputs": [
    {
     "data": {
      "text/plain": [
       "-0.28398668443175157"
      ]
     },
     "execution_count": 13,
     "metadata": {},
     "output_type": "execute_result"
    }
   ],
   "source": [
    "f(0.2)"
   ]
  },
  {
   "cell_type": "code",
   "execution_count": 14,
   "id": "209ee6c6-3ee7-49cc-afbb-897c8aca1349",
   "metadata": {},
   "outputs": [
    {
     "data": {
      "text/plain": [
       "0.0066009467376817454"
      ]
     },
     "execution_count": 14,
     "metadata": {},
     "output_type": "execute_result"
    }
   ],
   "source": [
    "f(0.3)"
   ]
  },
  {
   "cell_type": "code",
   "execution_count": 15,
   "id": "954c6d8c-1cd6-4ddb-9649-605ee8b89608",
   "metadata": {},
   "outputs": [
    {
     "data": {
      "text/plain": [
       "-0.13225152278803654"
      ]
     },
     "execution_count": 15,
     "metadata": {},
     "output_type": "execute_result"
    }
   ],
   "source": [
    "f(1.3)"
   ]
  },
  {
   "cell_type": "code",
   "execution_count": 16,
   "id": "b6f4e5ca-2acf-4f70-bf7c-54c045101760",
   "metadata": {},
   "outputs": [
    {
     "data": {
      "text/plain": [
       "0.154829305372008"
      ]
     },
     "execution_count": 16,
     "metadata": {},
     "output_type": "execute_result"
    }
   ],
   "source": [
    "f(1.2)"
   ]
  },
  {
   "cell_type": "markdown",
   "id": "a2e00883-1fd0-4e29-bfe1-5deadbf00d0e",
   "metadata": {},
   "source": [
    "<br>b) $(x-2)^2 - lnx = 0$ in $[1,2]$ and $[e,4]"
   ]
  },
  {
   "cell_type": "code",
   "execution_count": 17,
   "id": "0a5418ba-e743-435c-baa8-e0fb92734512",
   "metadata": {},
   "outputs": [],
   "source": [
    "def g(x):\n",
    "    soln = (x - 2)*(x-2) - math.log(x)\n",
    "    return soln"
   ]
  },
  {
   "cell_type": "code",
   "execution_count": 18,
   "id": "cc2b76f1-a113-4e00-bc90-8c368716a909",
   "metadata": {},
   "outputs": [
    {
     "data": {
      "text/plain": [
       "1.0"
      ]
     },
     "execution_count": 18,
     "metadata": {},
     "output_type": "execute_result"
    }
   ],
   "source": [
    "g(1)"
   ]
  },
  {
   "cell_type": "code",
   "execution_count": 19,
   "id": "ea93db3b-0edd-4e09-abd6-be5f7ac13879",
   "metadata": {},
   "outputs": [
    {
     "data": {
      "text/plain": [
       "-0.6931471805599453"
      ]
     },
     "execution_count": 19,
     "metadata": {},
     "output_type": "execute_result"
    }
   ],
   "source": [
    "g(2)"
   ]
  },
  {
   "cell_type": "code",
   "execution_count": 20,
   "id": "84ca09c2-6ab7-4b5a-9070-3e5b59151ea9",
   "metadata": {},
   "outputs": [
    {
     "data": {
      "text/plain": [
       "-0.48407121490553096"
      ]
     },
     "execution_count": 20,
     "metadata": {},
     "output_type": "execute_result"
    }
   ],
   "source": [
    "g(math.e)"
   ]
  },
  {
   "cell_type": "code",
   "execution_count": 21,
   "id": "5c3f9d2f-811c-4ef9-b23a-a16f2a07d62b",
   "metadata": {},
   "outputs": [
    {
     "data": {
      "text/plain": [
       "2.613705638880109"
      ]
     },
     "execution_count": 21,
     "metadata": {},
     "output_type": "execute_result"
    }
   ],
   "source": [
    "g(4)"
   ]
  },
  {
   "cell_type": "markdown",
   "id": "d3b49f45-2fe0-40b4-b406-6d42014043a4",
   "metadata": {},
   "source": [
    "<br>c) $2xcos(2x) - (x-2)^2% = 0$ over $[2,3]$ and $[3,4]$. "
   ]
  },
  {
   "cell_type": "code",
   "execution_count": 22,
   "id": "e02e605d-b28a-47b6-b830-ba6243d1ddd6",
   "metadata": {},
   "outputs": [],
   "source": [
    "def h(x):\n",
    "    soln = (2*x) * math.cos(2*x) - (x-2) * (x-2)\n",
    "    return soln"
   ]
  },
  {
   "cell_type": "code",
   "execution_count": 25,
   "id": "488dcef0-deec-4c2d-87b7-df78aa230ef5",
   "metadata": {},
   "outputs": [
    {
     "data": {
      "text/plain": [
       "-2.6145744834544478"
      ]
     },
     "execution_count": 25,
     "metadata": {},
     "output_type": "execute_result"
    }
   ],
   "source": [
    "# first interval\n",
    "h(2)"
   ]
  },
  {
   "cell_type": "code",
   "execution_count": 26,
   "id": "10fcf059-53c1-4274-a750-15b89e9a5493",
   "metadata": {},
   "outputs": [
    {
     "data": {
      "text/plain": [
       "4.761021719902196"
      ]
     },
     "execution_count": 26,
     "metadata": {},
     "output_type": "execute_result"
    }
   ],
   "source": [
    "h(3)"
   ]
  },
  {
   "cell_type": "markdown",
   "id": "33e90e95-cb59-4ec4-ad41-da486a07e8c5",
   "metadata": {},
   "source": [
    "Thus, $f(2) < f(3)$."
   ]
  },
  {
   "cell_type": "code",
   "execution_count": 27,
   "id": "d3035157-5a9f-4ce9-bfb5-23289be1dcfe",
   "metadata": {},
   "outputs": [
    {
     "data": {
      "text/plain": [
       "-5.164000270468908"
      ]
     },
     "execution_count": 27,
     "metadata": {},
     "output_type": "execute_result"
    }
   ],
   "source": [
    "h(4)"
   ]
  },
  {
   "cell_type": "markdown",
   "id": "ecf152eb-bccc-4080-9d0e-48cb051483b5",
   "metadata": {},
   "source": [
    "<br>d) $x - (lnx)^x = 0$ over $[4,5]$"
   ]
  },
  {
   "cell_type": "code",
   "execution_count": 29,
   "id": "5d2b07a5-664c-4afc-8630-5acd66b08d93",
   "metadata": {},
   "outputs": [],
   "source": [
    "def d(x):\n",
    "    soln = x - pow(math.log(x), x)\n",
    "    return soln"
   ]
  },
  {
   "cell_type": "code",
   "execution_count": 30,
   "id": "91d97268-c23c-466a-a065-6d632e836923",
   "metadata": {},
   "outputs": [
    {
     "data": {
      "text/plain": [
       "0.3066384226706651"
      ]
     },
     "execution_count": 30,
     "metadata": {},
     "output_type": "execute_result"
    }
   ],
   "source": [
    "d(4)"
   ]
  },
  {
   "cell_type": "code",
   "execution_count": 31,
   "id": "6f018405-d974-439a-9111-ab05f3de62b7",
   "metadata": {},
   "outputs": [
    {
     "data": {
      "text/plain": [
       "-5.798691578322238"
      ]
     },
     "execution_count": 31,
     "metadata": {},
     "output_type": "execute_result"
    }
   ],
   "source": [
    "d(5)"
   ]
  },
  {
   "cell_type": "code",
   "execution_count": null,
   "id": "8431093e-5df9-4f13-a296-d60a0752b4df",
   "metadata": {},
   "outputs": [],
   "source": []
  }
 ],
 "metadata": {
  "kernelspec": {
   "display_name": "Python 3 (ipykernel)",
   "language": "python",
   "name": "python3"
  },
  "language_info": {
   "codemirror_mode": {
    "name": "ipython",
    "version": 3
   },
   "file_extension": ".py",
   "mimetype": "text/x-python",
   "name": "python",
   "nbconvert_exporter": "python",
   "pygments_lexer": "ipython3",
   "version": "3.9.12"
  }
 },
 "nbformat": 4,
 "nbformat_minor": 5
}
