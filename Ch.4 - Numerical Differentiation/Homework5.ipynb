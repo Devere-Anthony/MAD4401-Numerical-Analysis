{
 "cells": [
  {
   "cell_type": "markdown",
   "id": "551f6396-3715-47a3-82f5-e7685899219d",
   "metadata": {},
   "source": [
    "# Homework 5\n",
    "\n",
    "## Question 1 \n",
    "\n",
    "Consider the function $f(x)=\\sin{x}$.\n",
    "\n",
    "(a) Compute the *forward difference* approximation of $f'(0.5)$ using $h=0.1$.\n",
    "\n",
    "Recall, the *forward difference* approximation is given by, \n",
    "$$f'(x_0)=\\frac{f(x_0+h)-f(x_0)}{h}-\\frac{h}{2}f''(\\xi).$$"
   ]
  },
  {
   "cell_type": "code",
   "execution_count": 2,
   "id": "a43bd0c6-1bc2-41d1-9fbd-8f33335d0177",
   "metadata": {},
   "outputs": [],
   "source": [
    "import numpy as np\n",
    "import math"
   ]
  },
  {
   "cell_type": "code",
   "execution_count": 3,
   "id": "66ee2264-5c12-45fb-89f9-494ea5a5229c",
   "metadata": {},
   "outputs": [],
   "source": [
    "# implement forward difference formula \n",
    "def forwardDifference(f,x0,h):\n",
    "    \"\"\"\n",
    "    forwardDifference - computes the forward difference given by\n",
    "    the forward difference formula for numerical approximation\n",
    "    of a function's derivative; takes a function object, \n",
    "    evaluation point, and value for h in the difference\n",
    "    quotient.\n",
    "    \"\"\"\n",
    "    return (f(x0+h)-f(x0))/h"
   ]
  },
  {
   "cell_type": "code",
   "execution_count": 7,
   "id": "9365c572-1ae9-4da2-97ce-5057907ef3d0",
   "metadata": {},
   "outputs": [],
   "source": [
    "# implement given function \n",
    "def f(x):\n",
    "    return math.sin(x)"
   ]
  },
  {
   "cell_type": "code",
   "execution_count": 8,
   "id": "5ec05f85-48e6-41b7-950d-4701ab0e5cef",
   "metadata": {},
   "outputs": [
    {
     "data": {
      "text/plain": [
       "0.8521693479083237"
      ]
     },
     "execution_count": 8,
     "metadata": {},
     "output_type": "execute_result"
    }
   ],
   "source": [
    "# compute forward difference approximation at x0=0.5, h=0.1\n",
    "forwardDifference(f,0.5,0.1)"
   ]
  },
  {
   "cell_type": "markdown",
   "id": "0af9c1bc-cab7-425c-9a04-ceae1aedfb46",
   "metadata": {},
   "source": [
    "Thus the forward approximation $\\approx 0.8521693479083237$.\n",
    "\n",
    "(b) Compute the *backward difference* approximation of $f'(0.7)$ using $h=-0.1$. \n",
    "\n",
    "Recall, the *backward difference* approximation is given by,\n",
    "$$f'(x_0)=\\frac{f(x_0)-f(x_0-h)}{h}+\\frac{h}{2}f''(\\xi).$$"
   ]
  },
  {
   "cell_type": "code",
   "execution_count": 9,
   "id": "91ec7b35-f106-47f4-9d11-3d9901faabe3",
   "metadata": {},
   "outputs": [],
   "source": [
    "# implement backward difference formula\n",
    "def backwardDifference(f,x0,h):\n",
    "    \"\"\"\n",
    "    backwardDifference - computes the backward difference given by\n",
    "    the backward difference formula for numerical approximation\n",
    "    of a function's derivative; takes a function object, \n",
    "    evaluation point, and value for h in the difference\n",
    "    quotient.\n",
    "    \"\"\"\n",
    "    return (f(x0)-f(x0-h))/h"
   ]
  },
  {
   "cell_type": "code",
   "execution_count": 10,
   "id": "c2f7be5c-6a47-4e39-99d8-65a11dfdf94b",
   "metadata": {},
   "outputs": [
    {
     "data": {
      "text/plain": [
       "0.7957521384265565"
      ]
     },
     "execution_count": 10,
     "metadata": {},
     "output_type": "execute_result"
    }
   ],
   "source": [
    "# compute backward difference approximation at x0=0.7, h=0.1\n",
    "# (h=-0.1 if using the forward difference version)\n",
    "backwardDifference(f,0.7,0.1)"
   ]
  },
  {
   "cell_type": "markdown",
   "id": "013d7e02-3708-43ad-b798-459868a79ba4",
   "metadata": {},
   "source": [
    "Thus the backward approximation $\\approx 0.7957521384265565$.\n",
    "\n",
    "---\n",
    "\n",
    "## Question 2\n",
    "\n",
    "Compute the actual error produced by the approximations in problem 1, and find the error bounds using the error formula.\n",
    "\n",
    "To compute the actual error, we need the exact value of the derivative at $0.5$ and $0.7$, then find the difference from our approximated values.\n",
    "The first derivative of $f(x)=\\sin{x}$ is $f'(x)=\\cos{x}$. "
   ]
  },
  {
   "cell_type": "code",
   "execution_count": 32,
   "id": "d1f98771-a48d-47f6-ba92-218c79edb57d",
   "metadata": {},
   "outputs": [],
   "source": [
    "# implement first derivative (cos(x))\n",
    "def fp(x):\n",
    "    \"\"\"\n",
    "    Simply evaluates cosine function at x\n",
    "    \"\"\"\n",
    "    return math.cos(x)"
   ]
  },
  {
   "cell_type": "code",
   "execution_count": 33,
   "id": "f221ac5a-82ee-4294-9d4b-075ad0eec1da",
   "metadata": {},
   "outputs": [],
   "source": [
    "# vectorize first derivative function to allow for vector arguments\n",
    "fpv = np.vectorize(fp)"
   ]
  },
  {
   "cell_type": "code",
   "execution_count": 34,
   "id": "c84bc1de-aa90-4456-b8b4-f488964ef1af",
   "metadata": {},
   "outputs": [
    {
     "data": {
      "text/plain": [
       "array([0.87758256, 0.76484219])"
      ]
     },
     "execution_count": 34,
     "metadata": {},
     "output_type": "execute_result"
    }
   ],
   "source": [
    "# compute exact values \n",
    "vals = np.array([0.5,0.7])\n",
    "fpv(vals)"
   ]
  },
  {
   "cell_type": "markdown",
   "id": "4a314ea6-4803-4f8c-bdf8-5364071426cb",
   "metadata": {},
   "source": [
    "Hence our exact value for $f'(0.5)=0.87758256$ and the exact value for $f'(0.7)=0.76484219$"
   ]
  },
  {
   "cell_type": "code",
   "execution_count": 35,
   "id": "b82bcf36-bd39-4053-a3f4-1e0e57f3fe46",
   "metadata": {},
   "outputs": [],
   "source": [
    "# implement error function to compute both at same time \n",
    "def error(exact,approx):\n",
    "    \"\"\"\n",
    "    Simply computes the actual error using a numeric vector \n",
    "    of approximated values and a numeric vector of exact values\n",
    "    \"\"\"\n",
    "    return math.fabs(exact-approx)"
   ]
  },
  {
   "cell_type": "code",
   "execution_count": 36,
   "id": "edf0fa14-7a90-4d35-b8c6-b1d9b99ad643",
   "metadata": {},
   "outputs": [
    {
     "data": {
      "text/plain": [
       "0.0254132139820491"
      ]
     },
     "execution_count": 36,
     "metadata": {},
     "output_type": "execute_result"
    }
   ],
   "source": [
    "# compute actual error for x0=0.5 (used forward error to approximate)\n",
    "error(fp(0.5),forwardDifference(f,0.5,0.1))"
   ]
  },
  {
   "cell_type": "markdown",
   "id": "b832fe44-5ea0-4782-8d1a-06ca5b427262",
   "metadata": {},
   "source": [
    "Thus the actual error for our forward difference approximation of $f'(0.5)$ using $h=0.1$ is $\\approx 0.0254132139820491$."
   ]
  },
  {
   "cell_type": "code",
   "execution_count": 37,
   "id": "df027a58-a97b-4105-af00-8696eb9a98ec",
   "metadata": {},
   "outputs": [
    {
     "data": {
      "text/plain": [
       "0.03090995114206796"
      ]
     },
     "execution_count": 37,
     "metadata": {},
     "output_type": "execute_result"
    }
   ],
   "source": [
    "# compute actual error for x0=0.7 (used backward error to approximate)\n",
    "error(fp(0.7),backwardDifference(f,0.7,0.1))"
   ]
  },
  {
   "cell_type": "markdown",
   "id": "b7b00eaf-e1d3-49cd-a608-af28fb73dd34",
   "metadata": {},
   "source": [
    "Thus the actual error for our backward difference approximation is $\\approx 0.03090995114206796.$\n",
    "\n",
    "Note that for both of these values when computed by hand and using four decimals differ slightly at about $0.0255$ and $0.0312$. \n",
    "These slight differences are possibly due to some rounding or truncation error in conjunction with having to divide by small values in the difference quotient. \n",
    "\n",
    "To compute the error bounds for these approximations, we'll use the last term in both the forward and back difference formulas. The error is bounded by $\\frac{M|h|}{2}$ where $M$ is a bound on $|f''(x)|$ for $x_0<x<x_0+h$ for the forward difference and $x_0-h<x<x_0$ for the backward difference. \n",
    "\n",
    "For this particular problem, our second derivative is given by,\n",
    "$$f''(x)=-\\sin{x}.$$\n",
    "\n",
    "Then for the approximation of $f'(0.5)$ using $h=0.1$, the error bound is estimated by, \n",
    "$$ \\Rightarrow \\frac{|hf''(\\xi)|}{2} = \\frac{|h|}{2}|f''(\\xi)| = \\frac{0.1}{2}\\left|\\sup \\limits_{0.5<\\xi<0.6}(-\\sin{\\xi})\\right| = \\frac{0.1}{2}\\left|-\\sin{0.6}\\right| \n",
    "\\approx 0.02823.$$\n",
    "\n",
    "For the approximation of $f'(0.7)$ using $h=0.1$, the error bound is estimated by, \n",
    "$$ \\Rightarrow \\frac{|hf''(\\xi)|}{2} = \\frac{|h|}{2}|f''(\\xi)| = \\frac{0.1}{2}\\left|\\sup \\limits_{0.6<\\xi<0.7}(-\\sin{\\xi})\\right| = \\frac{0.1}{2}\\left|-\\sin{0.7}\\right| \n",
    "\\approx 0.03221.$$"
   ]
  },
  {
   "cell_type": "code",
   "execution_count": null,
   "id": "8ffe77b7-6bb4-45e1-bea1-d3b0ab77b606",
   "metadata": {},
   "outputs": [],
   "source": []
  }
 ],
 "metadata": {
  "kernelspec": {
   "display_name": "Python 3 (ipykernel)",
   "language": "python",
   "name": "python3"
  },
  "language_info": {
   "codemirror_mode": {
    "name": "ipython",
    "version": 3
   },
   "file_extension": ".py",
   "mimetype": "text/x-python",
   "name": "python",
   "nbconvert_exporter": "python",
   "pygments_lexer": "ipython3",
   "version": "3.9.13"
  }
 },
 "nbformat": 4,
 "nbformat_minor": 5
}
