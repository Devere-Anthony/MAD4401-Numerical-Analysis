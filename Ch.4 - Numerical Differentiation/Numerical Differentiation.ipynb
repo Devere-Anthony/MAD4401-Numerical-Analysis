{
 "cells": [
  {
   "cell_type": "markdown",
   "id": "e6378c82-03db-4a9d-8b1b-5ca92324ef60",
   "metadata": {},
   "source": [
    "# 4.1 - Numerical Differentiation\n",
    "\n",
    "This section covers different methods used for numerical differentiation of possibly complicated functions. \n",
    "\n",
    "**NOTE:** The derivations of these formulae can be found in the typed up pdf notes or in Burden's Numerical Analysis text.\n",
    "\n",
    "The *forward-difference formula* is given by, \n",
    "$$f'(x_0)=\\frac{f(x_0+h)-f(x_0)}{h}-\\frac{h}{2}f''(\\xi).$$\n",
    "\n",
    "This formula's error is bounded by $\\frac{M|h|}{2}$ where $M$ is a bound on $|f''(x)|$ for $x_0 < x < x_0+h$. \n",
    "\n",
    "The *backward-difference formula* is given by,\n",
    "$$f'(x_0)=\\frac{f(x_0)-f(x_0-h)}{h}+\\frac{h}{2}f''(\\xi).$$\n",
    "\n",
    "This formula's error is bounded by $\\frac{M|h|}{2}$ where $M$ is a bound on $|f''(x)|$ for $x_0-h < x < x_0$. \n",
    "\n",
    "The *centered-difference formula* is given by,\n",
    "$$f'(x_0)=\\frac{f(x_0+h)-f(x_0-h)}{2h}-\\frac{h^2}{6}f'''(\\xi).$$\n",
    "\n",
    "#### Example 1\n",
    "\n",
    "Use the *forward-difference formula* to approximate the derivative of $f(x)=\\ln{x}$ at $x_0=1.8$ using\n",
    "(i) $h=0.1$, (ii) $h=0.05$, and (iii) $h=0.01$ and determine the bounds for the approximation errors."
   ]
  },
  {
   "cell_type": "code",
   "execution_count": 1,
   "id": "f44be87e-f91c-4e2f-bd87-112ffe0d2508",
   "metadata": {},
   "outputs": [],
   "source": [
    "import numpy as np\n",
    "import math "
   ]
  },
  {
   "cell_type": "code",
   "execution_count": 3,
   "id": "dc4a7d3c-9f0a-4517-86d8-301e17804a42",
   "metadata": {},
   "outputs": [],
   "source": [
    "# implement forward-difference formula for this example\n",
    "def fd(x,h):\n",
    "    return ((math.log(x+h)-math.log(x))/h)"
   ]
  },
  {
   "cell_type": "code",
   "execution_count": 4,
   "id": "72d3df7f-abfc-4b02-97b9-666f33259890",
   "metadata": {},
   "outputs": [],
   "source": [
    "# evaluation point \n",
    "x = 1.8"
   ]
  },
  {
   "cell_type": "code",
   "execution_count": 5,
   "id": "1c59522d-e203-4166-901b-6755493d9d31",
   "metadata": {},
   "outputs": [
    {
     "data": {
      "text/plain": [
       "0.5406722127027574"
      ]
     },
     "execution_count": 5,
     "metadata": {},
     "output_type": "execute_result"
    }
   ],
   "source": [
    "# h=0.1\n",
    "fd(x,0.1)"
   ]
  },
  {
   "cell_type": "code",
   "execution_count": 6,
   "id": "c2d26ecc-af6c-4bd2-aa19-6ec0787ea48e",
   "metadata": {},
   "outputs": [
    {
     "data": {
      "text/plain": [
       "0.5479794837622887"
      ]
     },
     "execution_count": 6,
     "metadata": {},
     "output_type": "execute_result"
    }
   ],
   "source": [
    "# h=0.05\n",
    "fd(x,0.05)"
   ]
  },
  {
   "cell_type": "code",
   "execution_count": 7,
   "id": "a63c6a92-373b-4758-96f2-f92a6c4b3630",
   "metadata": {},
   "outputs": [
    {
     "data": {
      "text/plain": [
       "0.5540180375615322"
      ]
     },
     "execution_count": 7,
     "metadata": {},
     "output_type": "execute_result"
    }
   ],
   "source": [
    "# h=0.01\n",
    "fd(x,0.01)"
   ]
  },
  {
   "cell_type": "markdown",
   "id": "75436b90-e860-436d-87c6-ee02a7a7dc06",
   "metadata": {},
   "source": [
    "<br>To compute the error bound, we must use the second derivative of the given function,\n",
    "$$f(x)=\\ln{x} \\Rightarrow f'(x)=\\frac{-1}{x^2}.$$\n",
    "\n",
    "Since we are using the *forward-difference formula*, we know that for the error term must be $x_0 < x < x_0+h$.\n",
    "Here $x_0=1.8$ thus $x_0+h=1.9$.\n",
    "\n",
    "So, to compute a bound for this approximation error,\n",
    "$$ \\Rightarrow \\frac{|hf''(\\xi)|}{2} = \\frac{|h|}{2 \\xi^2} < \\frac{0.1}{2(1.8)^2}\\approx 0.0154.$$\n",
    "\n",
    "**NOTE:** Some steps are skipped to compute this error bound, fill in the details as need. Recall, we wanted to maximize our second derivative."
   ]
  },
  {
   "cell_type": "code",
   "execution_count": 8,
   "id": "5907ff3a-de54-4061-8535-a8f81dcb9f91",
   "metadata": {},
   "outputs": [],
   "source": [
    "# implement function to compute error bound\n",
    "def fderr(x,h):\n",
    "    return math.fabs(((h/2)*(-1/x**2)))"
   ]
  },
  {
   "cell_type": "code",
   "execution_count": 11,
   "id": "f581064c-5589-45fb-a3f7-35e5d7ac167f",
   "metadata": {},
   "outputs": [
    {
     "data": {
      "text/plain": [
       "0.015432098765432098"
      ]
     },
     "execution_count": 11,
     "metadata": {},
     "output_type": "execute_result"
    }
   ],
   "source": [
    "# x=1.8, h=0.1\n",
    "fderr(x,0.1)"
   ]
  },
  {
   "cell_type": "code",
   "execution_count": 12,
   "id": "fe825c66-8f3d-4ec0-a381-2e6296a30659",
   "metadata": {},
   "outputs": [
    {
     "data": {
      "text/plain": [
       "0.007716049382716049"
      ]
     },
     "execution_count": 12,
     "metadata": {},
     "output_type": "execute_result"
    }
   ],
   "source": [
    "# x=1.8, h=0.05\n",
    "fderr(x,0.05)"
   ]
  },
  {
   "cell_type": "code",
   "execution_count": 13,
   "id": "f6a7f2de-1c5e-4ed2-b6ae-5592c0ba0bb4",
   "metadata": {},
   "outputs": [
    {
     "data": {
      "text/plain": [
       "0.0015432098765432098"
      ]
     },
     "execution_count": 13,
     "metadata": {},
     "output_type": "execute_result"
    }
   ],
   "source": [
    "# x=1.8, h=0.01\n",
    "fderr(x,0.01)"
   ]
  },
  {
   "cell_type": "markdown",
   "id": "22ce2ca2-e5fd-4d6e-83a7-455f273a6c35",
   "metadata": {},
   "source": [
    "<br>Since $f'(x)=\\frac{1}{x}$, the exact value of $f'(1.8) \\approx 0.555...$. This shows the error bounds are close to the true approximation error.\n",
    "\n",
    "To compute the *true* approximation error, \n",
    "$$|f'(x) - f'(x_0)|,$$\n",
    "(i.e. the difference in the value of the function at x and the value of computed using the approximated derivative)"
   ]
  },
  {
   "cell_type": "code",
   "execution_count": 14,
   "id": "3801b3a1-500c-44a6-8cc3-37d6b8b88ce3",
   "metadata": {},
   "outputs": [
    {
     "data": {
      "text/plain": [
       "0.014883342852798132"
      ]
     },
     "execution_count": 14,
     "metadata": {},
     "output_type": "execute_result"
    }
   ],
   "source": [
    "# compute the true approximation error for x=1.8, h=0.1\n",
    "math.fabs((1/x)-(fd(x,0.1)))"
   ]
  },
  {
   "cell_type": "code",
   "execution_count": 15,
   "id": "52df2e10-261f-48fd-a37d-0bf9450874b6",
   "metadata": {},
   "outputs": [
    {
     "data": {
      "text/plain": [
       "0.007576071793266914"
      ]
     },
     "execution_count": 15,
     "metadata": {},
     "output_type": "execute_result"
    }
   ],
   "source": [
    "# compute the true approximation error for x=1.8, h=0.05\n",
    "math.fabs((1/x)-(fd(x,0.05)))"
   ]
  },
  {
   "cell_type": "code",
   "execution_count": 16,
   "id": "1bb654cf-bff2-49b7-9da0-9487a1a0d523",
   "metadata": {},
   "outputs": [
    {
     "data": {
      "text/plain": [
       "0.0015375179940233519"
      ]
     },
     "execution_count": 16,
     "metadata": {},
     "output_type": "execute_result"
    }
   ],
   "source": [
    "# compute the true approximation error for x=1.8, h=0.01\n",
    "math.fabs((1/x)-(fd(x,0.01)))"
   ]
  },
  {
   "cell_type": "markdown",
   "id": "a52809f3-d54b-4ff2-966e-7a6fe1cad1ad",
   "metadata": {},
   "source": [
    "Wow, they really are close!"
   ]
  },
  {
   "cell_type": "markdown",
   "id": "43145027-eea5-4729-81cd-71fab80a43a2",
   "metadata": {},
   "source": [
    "<br>We can use the methods learned from the Lagrange Interpolating Polynomial to help obtain general derivative approximation formulas. \n",
    "\n",
    "Suppose we're give a set of $(n+1)$ distinct numbers $\\{x_0,x_1,\\ldots,x_n\\}$ in some interval $I$. Also suppose our given function $f \\in C^{n+1}(I)$.\n",
    "Recall from Theorem 3.3 (Lagrange Interpolating Polynomials) that we can approximate a function using,\n",
    "$$ f(x) = \\sum_{k=0}^{n}f(x_k)L_k(x)+\\frac{(x-x_0)\\dots(x-x_n)}{(n+1)!}f^{n+1}(\\xi),$$\n",
    "where $\\xi \\in I$.\n",
    "\n",
    "We can then differentiate our Lagrange Interpolating Polynomial. In the derivative, we'll have issues estimating truncation error \n",
    "unless our $x$ is one of the distinct numbers given in the set. When this happens, the terms involving the derivative of the error drop. \n",
    "We then have what is known as the *(n+1)-point formula* to approximate $f'(x_j)$ where $x_j \\in \\{x_0,\\ldots,x_n\\}$.\n",
    "$$f'(x_j) = \\sum_{k=0}^{n}f(x_k)L'_k(x_j)+\\frac{f^{n+1}(\\xi(x_j))}{(n+1)!}\\prod^{n}_{k=0, k \\neq j}(x_j-x_k).$$\n",
    "\n",
    "Generally, more evaluation points produces greater accuracy; however, there may be trade-offs in the number of functional evaluations and growth of round-off error. \n",
    "\n",
    "**NOTE:** The derivation of useful three-point formulas are contained in the text and/or in the typed up notes. Consult them as needed. "
   ]
  },
  {
   "cell_type": "markdown",
   "id": "9532a559-ab89-4145-b66d-f519acb317f6",
   "metadata": {},
   "source": [
    "## Three-Point Formulas \n",
    "\n",
    "There are two three-point formulas that are of concern.\n",
    "\n",
    "### Three-Point Endpoint Formula\n",
    "$$f'(x_0)=\\frac{1}{2h}\\left[-3f(x_0)+4f(x_0+h)-f(x_0+2h)\\right]+\\frac{h^2}{3}f^{(3)}(\\xi_0),$$\n",
    "where $\\xi_0$ lies between $x_0$ and $x_0+2h$.\n",
    "\n",
    "### Three-Point Midpoint Formula \n",
    "$$f'(x_0)=\\frac{1}{2h}\\left[f(x_0+h)-f(x_0-h)\\right]+\\frac{h^2}{6}f^{(3)}(\\xi_1),$$\n",
    "where $\\xi_1$ lies between $x_0-h$ and $x_0+h$.\n",
    "\n",
    "A point to note is that the errors for these equations are both $O(h^2)$, but the midpoint error is approximately half of the endpoint formula.\n",
    "\n",
    "The approximation for the endpoint formula is more useful near the ends of the interval since information about $f$ outside of the interval may not be available. \n",
    "\n",
    "## Five-Point Formulas\n",
    "\n",
    "These formulas use five evaluation points instead of the three above. They have a common error term that is $O(h^4)$. \n",
    "\n",
    "### Five-Point Midpoint Formula \n",
    "$$f'(x_0) = \\frac{1}{12h}\\left[f(x_0-2h)-8f(x_0-h)+8f(x_0+h)-f(x_0+2h)\\right]+\\frac{h^4}{30}f^{(5)}(\\xi),$$\n",
    "where $\\xi$ lies between $x_0-2h$ and $x_0+2h$.\n",
    "\n",
    "### Five-Point Endpoint Formula\n",
    "$$f'(x_0) = \\frac{1}{12h}\\left[-25f(x_0)+48f(x_0+h)-36f(x_0+2h)+16f(x_0+3h)-3f(x_0+4h)\\right]+\\frac{h^4}{5}f^{(5)}(\\xi),$$\n",
    "where $\\xi$ lies between $x_0$ and $x_0+4h$."
   ]
  },
  {
   "cell_type": "code",
   "execution_count": null,
   "id": "99461bea-e96c-4888-abb8-6da93c822376",
   "metadata": {},
   "outputs": [],
   "source": []
  }
 ],
 "metadata": {
  "kernelspec": {
   "display_name": "Python 3 (ipykernel)",
   "language": "python",
   "name": "python3"
  },
  "language_info": {
   "codemirror_mode": {
    "name": "ipython",
    "version": 3
   },
   "file_extension": ".py",
   "mimetype": "text/x-python",
   "name": "python",
   "nbconvert_exporter": "python",
   "pygments_lexer": "ipython3",
   "version": "3.9.13"
  }
 },
 "nbformat": 4,
 "nbformat_minor": 5
}
