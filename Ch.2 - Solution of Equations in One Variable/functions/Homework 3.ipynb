{
 "cells": [
  {
   "cell_type": "code",
   "execution_count": 1,
   "id": "a656712f-c1e7-40f1-9e74-bd0d4b28ed16",
   "metadata": {},
   "outputs": [],
   "source": [
    "import numpy as np \n",
    "import sympy as sp\n",
    "import math\n",
    "from ipynb.fs.full.iterative_methods import *"
   ]
  },
  {
   "cell_type": "markdown",
   "id": "73fbb159-d51a-48fe-b7b8-bb5afabcfacf",
   "metadata": {},
   "source": [
    "--- \n",
    "\n",
    "## Problem 3\n",
    "Use Newton's method to find solutions accurate to within $10^{-4}$ for the following problem,\n",
    "$$ x^3 - 2x^2 - 5 = 0,\\,\\,\\,x \\in [1,4].$$"
   ]
  },
  {
   "cell_type": "code",
   "execution_count": 2,
   "id": "1ec2ec12-a6e9-44f9-af77-a37c97d5dc2c",
   "metadata": {},
   "outputs": [],
   "source": [
    "# define function \n",
    "x = sp.symbols('x')\n",
    "func = (x*x*x) - (2*x*x) - 5"
   ]
  },
  {
   "cell_type": "code",
   "execution_count": 3,
   "id": "3f68782f-7c32-4e37-ac72-9b7b6844a309",
   "metadata": {},
   "outputs": [
    {
     "data": {
      "text/latex": [
       "$\\displaystyle x^{3} - 2 x^{2} - 5$"
      ],
      "text/plain": [
       "x**3 - 2*x**2 - 5"
      ]
     },
     "execution_count": 3,
     "metadata": {},
     "output_type": "execute_result"
    }
   ],
   "source": [
    "func"
   ]
  },
  {
   "cell_type": "code",
   "execution_count": 8,
   "id": "8e28f54f-ef8e-4ccb-8dce-7a75f26b1495",
   "metadata": {},
   "outputs": [
    {
     "name": "stdout",
     "output_type": "stream",
     "text": [
      "N\t\tPn\n",
      "----------------------------------------------\n",
      "1\t\t3.25\n",
      "2\t\t2.811036789297659\n",
      "3\t\t2.697989502468529\n",
      "4\t\t2.6906771528603617\n",
      "\n",
      "After 4 iterations and error tolerance 0.0001\n",
      "the approximated root is 2.6906771528603617.\n"
     ]
    }
   ],
   "source": [
    "# p0 = 2\n",
    "newtonMethod(2, 100, func, 0.0001)"
   ]
  },
  {
   "cell_type": "code",
   "execution_count": 9,
   "id": "0758b872-7bad-4801-b2f9-835040e28076",
   "metadata": {},
   "outputs": [
    {
     "name": "stdout",
     "output_type": "stream",
     "text": [
      "N\t\tPn\n",
      "----------------------------------------------\n",
      "1\t\t2.7142857142857144\n",
      "2\t\t2.6909515167228415\n",
      "3\t\t2.6906474992568943\n",
      "\n",
      "After 3 iterations and error tolerance 0.0001\n",
      "the approximated root is 2.6906474992568943.\n"
     ]
    }
   ],
   "source": [
    "# p0 = 2.5\n",
    "newtonMethod(2.5, 100, func, 0.0001)"
   ]
  },
  {
   "cell_type": "code",
   "execution_count": 11,
   "id": "57b18f81-6e16-4807-9bee-2d5c7a6d4996",
   "metadata": {},
   "outputs": [
    {
     "name": "stdout",
     "output_type": "stream",
     "text": [
      "N\t\tPn\n",
      "----------------------------------------------\n",
      "1\t\t2.6906476804618067\n",
      "\n",
      "After 1 iterations and error tolerance 0.0001\n",
      "the approximated root is 2.6906476804618067.\n"
     ]
    }
   ],
   "source": [
    "# p0 = 2.69\n",
    "newtonMethod(2.69, 100, func, 0.0001)"
   ]
  },
  {
   "cell_type": "code",
   "execution_count": 12,
   "id": "8155c5c6-773d-402a-bcdb-3de3c0cca6d2",
   "metadata": {},
   "outputs": [
    {
     "name": "stdout",
     "output_type": "stream",
     "text": [
      "N\t\tPn\n",
      "----------------------------------------------\n",
      "1\t\t2.7333333333333334\n",
      "2\t\t2.6916247257710673\n",
      "3\t\t2.6906479769300162\n",
      "\n",
      "After 3 iterations and error tolerance 0.0001\n",
      "the approximated root is 2.6906479769300162.\n"
     ]
    }
   ],
   "source": [
    "# p0 = 3\n",
    "newtonMethod(3, 100, func, 0.0001)"
   ]
  },
  {
   "cell_type": "code",
   "execution_count": 13,
   "id": "83991483-0fc6-4a41-a9aa-7a0012355034",
   "metadata": {},
   "outputs": [
    {
     "name": "stdout",
     "output_type": "stream",
     "text": [
      "N\t\tPn\n",
      "----------------------------------------------\n",
      "1\t\t-5.0\n",
      "2\t\t-3.105263157894737\n",
      "3\t\t-1.7937858983897073\n",
      "4\t\t-0.7712643594642501\n",
      "5\t\t0.594038366674229\n",
      "6\t\t-3.577575730649256\n",
      "7\t\t-2.1282993172828815\n",
      "8\t\t-1.0560162494472352\n",
      "9\t\t0.054743278689767916\n",
      "10\t\t-23.784511787562405\n",
      "11\t\t-15.643125422170678\n",
      "12\t\t-10.217705491762906\n",
      "13\t\t-6.6011112023606735\n",
      "14\t\t-4.184040522642873\n",
      "15\t\t-2.5486433237950648\n",
      "16\t\t-1.3847433572227172\n",
      "17\t\t-0.3671392188646079\n",
      "18\t\t2.4728324557293426\n",
      "19\t\t2.7222804675706396\n",
      "20\t\t2.691188664218553\n",
      "21\t\t2.6906476102946812\n",
      "\n",
      "After 21 iterations and error tolerance 0.0001\n",
      "the approximated root is 2.6906476102946812.\n"
     ]
    }
   ],
   "source": [
    "# p0 = 1\n",
    "newtonMethod(1, 100, func, 0.0001)"
   ]
  },
  {
   "cell_type": "markdown",
   "id": "5f6bf0a6-e007-417f-b6f8-b6fc78e8c748",
   "metadata": {},
   "source": [
    "Before submission, choose maybe 5 different starting points for $p_0$ and post them for the homework. \n",
    "This will show that different values of the initial approximation are important in determining how quickly the algorithm with converge.\n",
    "\n",
    "---\n",
    "\n",
    "## Problem 4\n",
    "\n",
    "Consider the equation $4x^2 - e^x - e^{-x} = 0$. Use Newton's method to approximate the solution to within $10^{-5}$ with the following values of $p_0$,\n",
    "\n",
    "* $p_0 = 3$\n",
    "* $p_0 = 1$"
   ]
  },
  {
   "cell_type": "code",
   "execution_count": 37,
   "id": "735a28e5-36ec-4301-8476-8d17fa387359",
   "metadata": {},
   "outputs": [],
   "source": [
    "# define function \n",
    "x = sp.symbols('x')\n",
    "func = (4*x*x)-sp.exp(x)-sp.exp(-x)"
   ]
  },
  {
   "cell_type": "code",
   "execution_count": 38,
   "id": "fd43f67a-d551-4b3e-baa3-7bf6ba3d092a",
   "metadata": {},
   "outputs": [
    {
     "data": {
      "text/latex": [
       "$\\displaystyle 4 x^{2} - e^{x} - e^{- x}$"
      ],
      "text/plain": [
       "4*x**2 - exp(x) - exp(-x)"
      ]
     },
     "execution_count": 38,
     "metadata": {},
     "output_type": "execute_result"
    }
   ],
   "source": [
    "func"
   ]
  },
  {
   "cell_type": "code",
   "execution_count": 39,
   "id": "3b850741-431d-4872-a24d-e12223db49d4",
   "metadata": {},
   "outputs": [
    {
     "data": {
      "text/latex": [
       "$\\displaystyle 8 x - e^{x} + e^{- x}$"
      ],
      "text/plain": [
       "8*x - exp(x) + exp(-x)"
      ]
     },
     "execution_count": 39,
     "metadata": {},
     "output_type": "execute_result"
    }
   ],
   "source": [
    "func_diff = sp.Derivative(func, x)\n",
    "func_diff.doit()"
   ]
  },
  {
   "cell_type": "code",
   "execution_count": 40,
   "id": "8cd9e3dc-24f2-46e2-8eb0-b7987b42a3f9",
   "metadata": {},
   "outputs": [
    {
     "name": "stdout",
     "output_type": "stream",
     "text": [
      "N\t\tPn\n",
      "----------------------------------------------\n",
      "1\t\t-1.0019361613022864\n",
      "2\t\t-0.8385205483091717\n",
      "3\t\t-0.8246057692142937\n",
      "4\t\t-0.8244985916713463\n",
      "\n",
      "After 4 iterations and error tolerance 1e-05\n",
      "the approximated root is -0.8244985916713463.\n"
     ]
    }
   ],
   "source": [
    "# p0 = 3\n",
    "newtonMethod(3, 100, func, 0.00001)"
   ]
  },
  {
   "cell_type": "code",
   "execution_count": 41,
   "id": "f0f925b7-4540-437d-9f0e-64848277df1e",
   "metadata": {},
   "outputs": [
    {
     "name": "stdout",
     "output_type": "stream",
     "text": [
      "N\t\tPn\n",
      "----------------------------------------------\n",
      "1\t\t0.8382471119158565\n",
      "2\t\t0.8246016670341486\n",
      "3\t\t0.8244985911923535\n",
      "\n",
      "After 3 iterations and error tolerance 1e-05\n",
      "the approximated root is 0.8244985911923535.\n"
     ]
    }
   ],
   "source": [
    "# p0 = 1\n",
    "newtonMethod(1, 100, func, 0.00001)"
   ]
  },
  {
   "cell_type": "code",
   "execution_count": null,
   "id": "ccfd21f8-9a44-46b8-9bf3-ecf7b7d67cd5",
   "metadata": {},
   "outputs": [],
   "source": []
  }
 ],
 "metadata": {
  "kernelspec": {
   "display_name": "Python 3 (ipykernel)",
   "language": "python",
   "name": "python3"
  },
  "language_info": {
   "codemirror_mode": {
    "name": "ipython",
    "version": 3
   },
   "file_extension": ".py",
   "mimetype": "text/x-python",
   "name": "python",
   "nbconvert_exporter": "python",
   "pygments_lexer": "ipython3",
   "version": "3.9.13"
  }
 },
 "nbformat": 4,
 "nbformat_minor": 5
}
