{
 "cells": [
  {
   "cell_type": "code",
   "execution_count": 1,
   "id": "3707d326-3fed-4da4-b4e9-d1f7723b8821",
   "metadata": {},
   "outputs": [],
   "source": [
    "import numpy as np \n",
    "import sympy as sp"
   ]
  },
  {
   "cell_type": "code",
   "execution_count": 2,
   "id": "a26b08be-b09d-4ab2-83be-1719ccfbedbc",
   "metadata": {},
   "outputs": [],
   "source": [
    "# Bisection Method\n",
    "def bisection(a, b, t, n, func):\n",
    "    ''' Arguments: a = lower interval, b = upper interval, t = error tolerance,\n",
    "    n = maximum number of iterations, func = mathematical function to evaluate using bisection method'''\n",
    "    counter = 0\n",
    "    fa = func(a)\n",
    "    p = a + (b-a)/2 \n",
    "    l = a\n",
    "    u = b\n",
    "    print(f\"n\\ta\\t\\t\\tb\\t\\t\\tp (approx.)\\t\\t\\tf(p)\\t\\t\\t\\tError\")\n",
    "    print(\"__________________________________________________________________________________________________________________________________________\")\n",
    "    while counter < n:\n",
    "        p = a + (b-a)/2\n",
    "        fp = func(p)\n",
    "        if (fp == 0) or ((b-a)/2 < t):    # if exact root found or error tolerance is reached\n",
    "            counter += 1\n",
    "            print(f\"{counter:>02}\\t{a:<16}\\t{b:<11}\\t\\t{p:<16}\\t\\t{func(p):<16}\\t\\t{b-p:<16}\")\n",
    "            break\n",
    "        elif (fa * fp > 0):    # same signs, shift right\n",
    "            print(f\"{counter+1:>02}\\t{a:<16}\\t{b:<11}\\t\\t{p:<16}\\t\\t{func(p):<16}\\t\\t{b-p:<16}\")\n",
    "            a = p\n",
    "            fa = fp\n",
    "        else:    # different signs, shift left\n",
    "            print(f\"{counter+1:>02}\\t{a:<16}\\t{b:<11}\\t\\t{p:<16}\\t\\t{func(p):<16}\\t\\t{b-p:<16}\")\n",
    "            b = p\n",
    "        counter += 1\n",
    "    print(f\"\\nAfter {counter} iterations, the approximation for the root in [{l},{u}] is ~{p}\\nwith error {b-p}\")"
   ]
  },
  {
   "cell_type": "code",
   "execution_count": 3,
   "id": "74676a7d-c0f3-40fc-ac11-e1a000b89e9c",
   "metadata": {},
   "outputs": [],
   "source": [
    "# overload function, iteration only \n",
    "def fixedPoint(p0, n, f):\n",
    "    counter = 0\n",
    "    print(f\"n\\tP\")\n",
    "    print(\"______________________________\")\n",
    "    while counter < n:\n",
    "        p = f(p0)    # evaluate function at p0\n",
    "        counter = counter + 1\n",
    "        p0 = p\n",
    "        print(f\"{counter:>02}\\t{p0:<16}\")\n",
    "    print(f\"\\nThe approximated value of P after {n} iterations is: {p}\")"
   ]
  },
  {
   "cell_type": "code",
   "execution_count": 4,
   "id": "80ac90c4-5ee1-4b19-9bb1-332c67fa1244",
   "metadata": {},
   "outputs": [],
   "source": [
    "def newtonMethod(p0, n0, func, error=None):\n",
    "    '''Iterative root-finding approximation method.'''\n",
    "    x = sp.symbols('x')\n",
    "    counter = 0 \n",
    "    func_diff = sp.Derivative(func, x)    # compute derivative\n",
    "    if error:    # execute if user enters error bounds\n",
    "        #print(\"N\\t\\tPn\\t\\t\\tError\")\n",
    "        print(\"N\\t\\tPn\")\n",
    "        print(\"----------------------------------------------\")\n",
    "        while counter < n0:\n",
    "            p = p0 - (func.subs(x,p0)/func_diff.doit_numerically(p0))\n",
    "            p = float(p)    # convert back to a float\n",
    "            if (np.fabs(p-p0) < error):    # absolute error < error tolerance \n",
    "                print(f\"\\nAfter {counter} iterations and error tolerance {error}\\nthe approximated root is {p0}.\")\n",
    "                break\n",
    "            else:\n",
    "                counter = counter + 1\n",
    "                err = np.fabs(p - p0)\n",
    "                p0 = p    # update p0 to next approximation to be evaluated next iteration\n",
    "                print(f\"{counter}\\t\\t{p}\")\n",
    "    else:    # execute if user only wants iterations (no error bounds)\n",
    "        print(\"N\\t\\tPn\")\n",
    "        print(\"-----------------------------------\")\n",
    "        while counter < n0:\n",
    "            p = p0 - (func.subs(x,p0)/func_diff.doit_numerically(p0))\n",
    "            p = float(p)    # convert back to a float\n",
    "            counter = counter + 1\n",
    "            p0 = p    # update p0 to next approximation to be evaluated next iteration\n",
    "            print(f\"{counter}\\t\\t{p}\")\n",
    "        print(f\"\\nAfter {counter} iterations the approximated root is {p}.\")"
   ]
  },
  {
   "cell_type": "code",
   "execution_count": null,
   "id": "de25f106-d472-4af3-8506-be6f4f583715",
   "metadata": {},
   "outputs": [],
   "source": []
  }
 ],
 "metadata": {
  "kernelspec": {
   "display_name": "Python 3 (ipykernel)",
   "language": "python",
   "name": "python3"
  },
  "language_info": {
   "codemirror_mode": {
    "name": "ipython",
    "version": 3
   },
   "file_extension": ".py",
   "mimetype": "text/x-python",
   "name": "python",
   "nbconvert_exporter": "python",
   "pygments_lexer": "ipython3",
   "version": "3.9.13"
  }
 },
 "nbformat": 4,
 "nbformat_minor": 5
}
