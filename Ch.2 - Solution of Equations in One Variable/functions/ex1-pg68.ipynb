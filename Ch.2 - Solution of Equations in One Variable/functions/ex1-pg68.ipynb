{
 "cells": [
  {
   "cell_type": "code",
   "execution_count": 1,
   "id": "a911c858-b2fd-4a3e-9b80-73fc544c80f6",
   "metadata": {},
   "outputs": [],
   "source": [
    "import numpy as np \n",
    "import sympy as sp\n",
    "import math\n",
    "from ipynb.fs.full.iterative_methods import *"
   ]
  },
  {
   "cell_type": "markdown",
   "id": "4ffcc9f9-d4d9-41af-be77-a45868eb2da2",
   "metadata": {},
   "source": [
    "## Example 1 (p.68) \n",
    "\n",
    "(a) Use fixed-point iteration method implemented here to approximate a root of $f(x)=\\cos{x}-x=0$.\n",
    "\n",
    "The example in the text performed 7 iterations with $p_0 = \\frac{\\pi}{4}$. We'll do the same. \n",
    "\n",
    "Recall, in order to use fixed-point iteration, we need a function $g(x)$ such that $g(x)=x$. For this function, we let\n",
    "$g(x)=\\cos{x}$."
   ]
  },
  {
   "cell_type": "code",
   "execution_count": 2,
   "id": "dd6f9b27-7310-463c-81b8-be840353ef87",
   "metadata": {},
   "outputs": [],
   "source": [
    "# define function \n",
    "def g(x):\n",
    "    return (math.cos(x))"
   ]
  },
  {
   "cell_type": "code",
   "execution_count": 3,
   "id": "13479186-c4ef-4124-8625-0011fad9b912",
   "metadata": {},
   "outputs": [],
   "source": [
    "# define p0\n",
    "p0 = math.pi/4"
   ]
  },
  {
   "cell_type": "code",
   "execution_count": 4,
   "id": "c392e952-5480-413b-a2b5-412ca2a2265d",
   "metadata": {},
   "outputs": [
    {
     "name": "stdout",
     "output_type": "stream",
     "text": [
      "n\tP\n",
      "______________________________\n",
      "01\t0.7071067811865476\n",
      "02\t0.7602445970756301\n",
      "03\t0.7246674808891262\n",
      "04\t0.7487198857894842\n",
      "05\t0.7325608445922418\n",
      "06\t0.7434642113152936\n",
      "07\t0.736128256500852\n",
      "\n",
      "The approximated value of P after 7 iterations is: 0.736128256500852\n"
     ]
    }
   ],
   "source": [
    "fixedPoint(p0, 7, g)"
   ]
  },
  {
   "cell_type": "markdown",
   "id": "1dd750ab-9508-4557-b67a-4ef859b29326",
   "metadata": {},
   "source": [
    "<br>So, using fixed-point iteration we are able to conclude the root is approximately $p\\approx 0.74$.\n",
    "\n",
    "<br>(b) Approximate a root of $f(x)=\\cos{x}-x$ using Newton's Method."
   ]
  },
  {
   "cell_type": "code",
   "execution_count": 5,
   "id": "d057341c-d3cb-4c99-8fbc-f60f3d731501",
   "metadata": {},
   "outputs": [],
   "source": [
    "# Create function symbolically to be evaluated numerically \n",
    "x = sp.symbols('x')\n",
    "func = sp.cos(x)-x   "
   ]
  },
  {
   "cell_type": "code",
   "execution_count": 6,
   "id": "4918f19b-ccd2-4ffb-b07f-8d6b930b8ca4",
   "metadata": {},
   "outputs": [
    {
     "data": {
      "text/latex": [
       "$\\displaystyle - x + \\cos{\\left(x \\right)}$"
      ],
      "text/plain": [
       "-x + cos(x)"
      ]
     },
     "execution_count": 6,
     "metadata": {},
     "output_type": "execute_result"
    }
   ],
   "source": [
    "func"
   ]
  },
  {
   "cell_type": "code",
   "execution_count": 32,
   "id": "ca5d231b-b6cd-4e1c-b087-ab9e8b23c594",
   "metadata": {},
   "outputs": [
    {
     "name": "stdout",
     "output_type": "stream",
     "text": [
      "N\t\tPn\t\t\tError\n",
      "----------------------------------------------\n",
      "1\t\t0.7395361335152383\t0.04586202988221\n",
      "2\t\t0.7390851781060102\t0.0004509554092281265\n",
      "3\t\t0.7390851332151611\t4.4890849038026204e-08\n",
      "4\t\t0.7390851332151607\t4.440892098500626e-16\n"
     ]
    }
   ],
   "source": [
    "newtonMethod(p0, 4, func, 0.0000000000000001)"
   ]
  },
  {
   "cell_type": "markdown",
   "id": "009d8c1d-1b85-483a-90a8-10c082f66f03",
   "metadata": {},
   "source": [
    "<br>Here, the method achieved a good approximation for the root of $f$ after only 3 iterations. "
   ]
  }
 ],
 "metadata": {
  "kernelspec": {
   "display_name": "Python 3 (ipykernel)",
   "language": "python",
   "name": "python3"
  },
  "language_info": {
   "codemirror_mode": {
    "name": "ipython",
    "version": 3
   },
   "file_extension": ".py",
   "mimetype": "text/x-python",
   "name": "python",
   "nbconvert_exporter": "python",
   "pygments_lexer": "ipython3",
   "version": "3.9.13"
  }
 },
 "nbformat": 4,
 "nbformat_minor": 5
}
