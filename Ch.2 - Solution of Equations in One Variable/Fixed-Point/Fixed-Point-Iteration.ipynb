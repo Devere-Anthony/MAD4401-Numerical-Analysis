{
 "cells": [
  {
   "cell_type": "markdown",
   "id": "9d480d1e-3a55-4660-bd08-860721794a00",
   "metadata": {},
   "source": [
    "# Fixed-Point Iteration \n",
    "\n",
    "**TODO:** Come back and fill in some notes regarding fixed-point iteration, for now just implement the algorithm such that I can use it to work on the exercises from the homework/text."
   ]
  },
  {
   "cell_type": "code",
   "execution_count": 1,
   "id": "02a27079-2c24-444f-8a34-6a85d20a7496",
   "metadata": {},
   "outputs": [],
   "source": [
    "import numpy as np\n",
    "import math"
   ]
  },
  {
   "cell_type": "code",
   "execution_count": 2,
   "id": "46c475e8-86e3-4204-bd94-9e91efa75052",
   "metadata": {},
   "outputs": [],
   "source": [
    "# define g (from illustration on p.60 of text)\n",
    "def g(x): \n",
    "    return ((1/2) * math.pow((10-x*x*x), (1/2)))"
   ]
  },
  {
   "cell_type": "markdown",
   "id": "76579897-5730-4d33-b71b-405bd0f007cf",
   "metadata": {},
   "source": [
    "<br>**TODO:** Create an overloaded version of this function that takes multiple functions and evaluates them at and evaluate them at $p_0$ so that one can compare different versions of the function $g(x)$."
   ]
  },
  {
   "cell_type": "code",
   "execution_count": 3,
   "id": "81281122-7cd7-4af8-861f-0882ba78bd5e",
   "metadata": {},
   "outputs": [],
   "source": [
    "# overload this function, include iterations and error\n",
    "def fixedPoint(p0, error, n, f):\n",
    "    counter = 0\n",
    "    while counter < n:\n",
    "        p = f(p0)    # evaluate function at p0\n",
    "        if math.fabs(p - p0) < error:    # reached error threshold\n",
    "            return p\n",
    "        else:\n",
    "            counter = counter + 1\n",
    "            p0 = p\n",
    "            print(f\"{counter:>02}\\t{p0:<16}\\t{p:<11}\")\n",
    "    print(f\"The method failed after {n} iterations\")"
   ]
  },
  {
   "cell_type": "code",
   "execution_count": 4,
   "id": "e09501bd-3992-47fd-b318-7b4edf486aac",
   "metadata": {},
   "outputs": [],
   "source": [
    "# overload function, iteration only \n",
    "def fixedPoint(p0, n, f):\n",
    "    counter = 0\n",
    "    print(f\"n\\tP\")\n",
    "    print(\"______________________________\")\n",
    "    while counter < n:\n",
    "        p = f(p0)    # evaluate function at p0\n",
    "        counter = counter + 1\n",
    "        p0 = p\n",
    "        print(f\"{counter:>02}\\t{p0:<16}\")\n",
    "    print(f\"\\nThe approximated value of P after {n} iterations is: {p}\")"
   ]
  },
  {
   "cell_type": "code",
   "execution_count": 5,
   "id": "8e148548-6197-4ec3-a920-77ba9bcc21b8",
   "metadata": {},
   "outputs": [
    {
     "name": "stdout",
     "output_type": "stream",
     "text": [
      "n\tP\n",
      "______________________________\n",
      "01\t1.286953767623375\n",
      "02\t1.4025408035395783\n",
      "03\t1.3454583740232942\n",
      "04\t1.3751702528160383\n",
      "05\t1.360094192761733\n",
      "06\t1.3678469675921328\n",
      "07\t1.3638870038840212\n",
      "08\t1.36591673339004\n",
      "09\t1.364878217193677\n",
      "10\t1.365410061169957\n",
      "11\t1.3651378206692129\n",
      "12\t1.3652772085244786\n",
      "13\t1.3652058502970472\n",
      "14\t1.3652423837188388\n",
      "15\t1.3652236802252822\n",
      "16\t1.3652332557424998\n",
      "17\t1.365228353462627\n",
      "18\t1.3652308632436367\n",
      "19\t1.3652295783339587\n",
      "20\t1.3652302361581812\n",
      "21\t1.3652298993777325\n",
      "22\t1.3652300717962909\n",
      "23\t1.365229983524674\n",
      "24\t1.3652300287163228\n",
      "25\t1.36523000557995\n",
      "26\t1.3652300174248766\n",
      "27\t1.365230011360733\n",
      "28\t1.3652300144653395\n",
      "29\t1.3652300128759012\n",
      "30\t1.365230013689632\n",
      "\n",
      "The approximated value of P after 30 iterations is: 1.365230013689632\n"
     ]
    }
   ],
   "source": [
    "# test function using example from book\n",
    "fixedPoint(1.5, 30, g)"
   ]
  },
  {
   "cell_type": "markdown",
   "id": "1f70b326-0eb6-48b8-9093-e771cbf2be58",
   "metadata": {
    "tags": []
   },
   "source": [
    "---\n",
    "\n",
    "## Exercise Set 2.2\n",
    "\n",
    "This section implements solutions to some of the exercises and homework from the section 2.2 exercise set.\n",
    "\n",
    "<br>\n",
    "2. (a) Perform four iterations if possible on each of the functions $g$ defined in Exercise 1. \n",
    "\n",
    "Let $p_0=1$ and $p_{n+1}=g(p_n)$ for $n = 0,1,2,3$.\n",
    "\n",
    "To start, let's provide a Python implementation for each of the four functions. \n",
    "\n",
    "* $g_1(x) = (3 + x - 2x^2)^{\\frac{1}{4}}$\n",
    "\n",
    "* $g_2(x) = \\left(\\frac{x+3-x^4}{2}\\right)^\\frac{1}{2}$\n",
    "\n",
    "* $g_3(x) = \\left(\\frac{x+3}{x^2+2}\\right)^\\frac{1}{2}$\n",
    "\n",
    "* $g_4(x) = \\frac{3x^4+2x^2+3}{4x^3+4x-1}$"
   ]
  },
  {
   "cell_type": "code",
   "execution_count": 6,
   "id": "45620e10-5c47-4662-8e32-360a1b0a733e",
   "metadata": {},
   "outputs": [],
   "source": [
    "def g1(x):\n",
    "    return math.pow(3+x-(2*x*x), (1/4))"
   ]
  },
  {
   "cell_type": "code",
   "execution_count": 7,
   "id": "971ff035-8b03-4a5b-8413-34b38982634c",
   "metadata": {},
   "outputs": [],
   "source": [
    "def g2(x):\n",
    "    return math.pow((x+3-math.pow(x,4))/2, (1/2))"
   ]
  },
  {
   "cell_type": "code",
   "execution_count": 8,
   "id": "7f96555a-2e51-45be-bb29-c7e8e7af53b5",
   "metadata": {},
   "outputs": [],
   "source": [
    "def g3(x):\n",
    "    return math.pow((x+3)/(x*x+2), (1/2))"
   ]
  },
  {
   "cell_type": "code",
   "execution_count": 9,
   "id": "aece0b1d-3215-429c-822a-ea19428fb79e",
   "metadata": {},
   "outputs": [],
   "source": [
    "def g4(x):\n",
    "    return (3*math.pow(x,4) + 2*math.pow(x,2) + 3)/(4*math.pow(x,3) + 4*x - 1)"
   ]
  },
  {
   "cell_type": "code",
   "execution_count": 10,
   "id": "37089d46-b674-4c05-9874-0a8b13b5faf6",
   "metadata": {},
   "outputs": [
    {
     "name": "stdout",
     "output_type": "stream",
     "text": [
      "n\tP\n",
      "______________________________\n",
      "01\t1.189207115002721\n",
      "02\t1.0800577526675623\n",
      "03\t1.1496714305893827\n",
      "04\t1.1078205295102599\n",
      "\n",
      "The approximated value of P after 4 iterations is: 1.1078205295102599\n"
     ]
    }
   ],
   "source": [
    "# compute four iterations with g1\n",
    "fixedPoint(1, 4, g1)"
   ]
  },
  {
   "cell_type": "code",
   "execution_count": 11,
   "id": "5209ccc9-c6b7-48bf-91d8-2a7f3368b07b",
   "metadata": {},
   "outputs": [
    {
     "name": "stdout",
     "output_type": "stream",
     "text": [
      "n\tP\n",
      "______________________________\n",
      "01\t1.224744871391589\n",
      "02\t0.9936661590774817\n",
      "03\t1.228568645274987\n",
      "04\t0.9875064291508866\n",
      "\n",
      "The approximated value of P after 4 iterations is: 0.9875064291508866\n"
     ]
    }
   ],
   "source": [
    "# compute four iterations with g2\n",
    "fixedPoint(1, 4, g2)"
   ]
  },
  {
   "cell_type": "code",
   "execution_count": 12,
   "id": "2e4d2388-b18f-4a8e-b6fa-7c09efec8cd4",
   "metadata": {},
   "outputs": [
    {
     "name": "stdout",
     "output_type": "stream",
     "text": [
      "n\tP\n",
      "______________________________\n",
      "01\t1.1547005383792515\n",
      "02\t1.116427409872122\n",
      "03\t1.1260522330022757\n",
      "04\t1.1236388847132548\n",
      "\n",
      "The approximated value of P after 4 iterations is: 1.1236388847132548\n"
     ]
    }
   ],
   "source": [
    "fixedPoint(1, 4, g3)"
   ]
  },
  {
   "cell_type": "code",
   "execution_count": 13,
   "id": "778a62de-a9bc-417b-8c49-a61b96a4d855",
   "metadata": {},
   "outputs": [
    {
     "name": "stdout",
     "output_type": "stream",
     "text": [
      "n\tP\n",
      "______________________________\n",
      "01\t1.1428571428571428\n",
      "02\t1.1244816900178953\n",
      "03\t1.1241231639401488\n",
      "04\t1.124123029704334\n",
      "\n",
      "The approximated value of P after 4 iterations is: 1.124123029704334\n"
     ]
    }
   ],
   "source": [
    "fixedPoint(1, 4, g4)"
   ]
  },
  {
   "cell_type": "markdown",
   "id": "8f18650d-2e48-4759-8972-a26b6d6daf78",
   "metadata": {},
   "source": [
    "<br>\n",
    "(b) which function do you think gives the best approximation to the solution?\n",
    "\n",
    "<br>So, we want to figure out which one has the best approximation to the root for the function $f(x)=x^4+2x^2-x-3$?\n",
    "\n",
    "Does this mean we need to use another method to compute the zero, if so, how do we go about it?\n",
    "\n",
    "<br>First attempt, let's use the bisection method to find an approximation and then compare the approximation found with that to the approximations found using functions with fixed-point iteration. "
   ]
  },
  {
   "cell_type": "markdown",
   "id": "e03451fa-7e34-47a5-872c-64eb0f5248a9",
   "metadata": {},
   "source": [
    "<br>**MAJOR TODO:** Start putting these functions in modules to easily import them instead of copy/paste when I need to call them."
   ]
  },
  {
   "cell_type": "code",
   "execution_count": 14,
   "id": "fe95f998-373b-42fc-86e9-aca950d6a7cf",
   "metadata": {},
   "outputs": [],
   "source": [
    "# define our function f\n",
    "def f(x):\n",
    "    return (math.pow(x,4) + 2*math.pow(x,2) - x - 3)"
   ]
  },
  {
   "cell_type": "code",
   "execution_count": 15,
   "id": "9db9bc65-a542-412c-be9d-a0d21c3d9014",
   "metadata": {},
   "outputs": [],
   "source": [
    "# create function for bisection method algorithm\n",
    "def bisection(a, b, t, n, func):\n",
    "    counter = 0\n",
    "    fa = func(a)\n",
    "    p = a + (b-a)/2 \n",
    "    l = a\n",
    "    u = b\n",
    "    print(f\"n\\ta\\t\\t\\tb\\t\\t\\tp (approx.)\\t\\t\\tf(p)\\t\\t\\t\\tError\")\n",
    "    print(\"__________________________________________________________________________________________________________________________________________\")\n",
    "    while counter < n:\n",
    "        p = a + (b-a)/2\n",
    "        fp = func(p)\n",
    "        if (fp == 0) or ((b-a)/2 < t):    # if exact root found or error tolerance is reached\n",
    "            counter += 1\n",
    "            print(f\"{counter:>02}\\t{a:<16}\\t{b:<11}\\t\\t{p:<16}\\t\\t{func(p):<16}\\t\\t{b-p:<16}\")\n",
    "            break\n",
    "        elif (fa * fp > 0):    # same signs, shift right\n",
    "            print(f\"{counter+1:>02}\\t{a:<16}\\t{b:<11}\\t\\t{p:<16}\\t\\t{func(p):<16}\\t\\t{b-p:<16}\")\n",
    "            a = p\n",
    "            fa = fp\n",
    "        else:    # different signs, shift left\n",
    "            print(f\"{counter+1:>02}\\t{a:<16}\\t{b:<11}\\t\\t{p:<16}\\t\\t{func(p):<16}\\t\\t{b-p:<16}\")\n",
    "            b = p\n",
    "        counter += 1\n",
    "    print(f\"\\nAfter {counter} iterations, the approximation for the root in [{l},{u}] is ~{p}\\nwith error {b-p}\")"
   ]
  },
  {
   "cell_type": "markdown",
   "id": "3da777c3-91ed-48c7-ad50-b2aa1b2eb70d",
   "metadata": {},
   "source": [
    "<br>The graph of $g_1$ intersects $y=x$ at two different points, let's use the interval $[1,1.5]$ to try and get a \"good\" approximation for the root for $f$. "
   ]
  },
  {
   "cell_type": "code",
   "execution_count": 16,
   "id": "543b23b2-b5de-41f4-b80f-b99eee080e6e",
   "metadata": {},
   "outputs": [
    {
     "name": "stdout",
     "output_type": "stream",
     "text": [
      "n\ta\t\t\tb\t\t\tp (approx.)\t\t\tf(p)\t\t\t\tError\n",
      "__________________________________________________________________________________________________________________________________________\n",
      "01\t1               \t1.5        \t\t1.25            \t\t1.31640625      \t\t0.25            \n",
      "02\t1               \t1.25       \t\t1.125           \t\t0.008056640625  \t\t0.125           \n",
      "03\t1               \t1.125      \t\t1.0625          \t\t-0.5302581787109375\t\t0.0625          \n",
      "04\t1.0625          \t1.125      \t\t1.09375         \t\t-0.2700643539428711\t\t0.03125         \n",
      "05\t1.09375         \t1.125      \t\t1.109375        \t\t-0.1332949995994568\t\t0.015625        \n",
      "06\t1.109375        \t1.125      \t\t1.1171875       \t\t-0.06319832429289818\t\t0.0078125       \n",
      "07\t1.1171875       \t1.125      \t\t1.12109375      \t\t-0.027716427808627486\t\t0.00390625      \n",
      "08\t1.12109375      \t1.125      \t\t1.123046875     \t\t-0.009866390362731181\t\t0.001953125     \n",
      "09\t1.123046875     \t1.125      \t\t1.1240234375    \t\t-0.0009140116153503186\t\t0.0009765625    \n",
      "10\t1.1240234375    \t1.125      \t\t1.12451171875   \t\t0.003569028747790526\t\t0.00048828125   \n",
      "11\t1.1240234375    \t1.12451171875\t\t1.124267578125  \t\t0.0013269373233164572\t\t0.000244140625  \n",
      "12\t1.1240234375    \t1.124267578125\t\t1.1241455078125 \t\t0.00020632006779663925\t\t0.0001220703125 \n",
      "13\t1.1240234375    \t1.1241455078125\t\t1.12408447265625\t\t-0.000353881467256123\t\t6.103515625e-05 \n",
      "14\t1.12408447265625\t1.1241455078125\t\t1.124114990234375\t\t-7.378962348258966e-05\t\t3.0517578125e-05\n",
      "15\t1.124114990234375\t1.1241455078125\t\t1.1241302490234375\t\t6.626299117051815e-05\t\t1.52587890625e-05\n",
      "16\t1.124114990234375\t1.1241302490234375\t\t1.1241226196289062\t\t-3.7638738970002805e-06\t\t7.62939453125e-06\n",
      "17\t1.1241226196289062\t1.1241302490234375\t\t1.1241264343261719\t\t3.1249419201628825e-05\t\t3.814697265625e-06\n",
      "18\t1.1241226196289062\t1.1241264343261719\t\t1.124124526977539\t\t1.3742737793087656e-05\t\t1.9073486328125e-06\n",
      "19\t1.1241226196289062\t1.124124526977539\t\t1.1241235733032227\t\t4.989423233681123e-06\t\t9.5367431640625e-07\n",
      "20\t1.1241226196289062\t1.1241235733032227\t\t1.1241230964660645\t\t6.127724896387576e-07\t\t4.76837158203125e-07\n",
      "21\t1.1241226196289062\t1.1241230964660645\t\t1.1241228580474854\t\t-1.575551248578222e-06\t\t2.384185791015625e-07\n",
      "22\t1.1241228580474854\t1.1241230964660645\t\t1.124122977256775\t\t-4.813895149169412e-07\t\t1.1920928955078125e-07\n",
      "23\t1.124122977256775\t1.1241230964660645\t\t1.1241230368614197\t\t6.569145316603908e-08\t\t5.960464477539063e-08\n",
      "24\t1.124122977256775\t1.1241230368614197\t\t1.1241230070590973\t\t-2.0784903931314602e-07\t\t2.9802322387695312e-08\n",
      "25\t1.1241230070590973\t1.1241230368614197\t\t1.1241230219602585\t\t-7.107879529399952e-08\t\t1.4901161193847656e-08\n",
      "26\t1.1241230219602585\t1.1241230368614197\t\t1.124123029410839\t\t-2.6936719521586383e-09\t\t7.450580596923828e-09\n",
      "\n",
      "After 26 iterations, the approximation for the root in [1,1.5] is ~1.124123029410839\n",
      "with error 7.450580596923828e-09\n"
     ]
    }
   ],
   "source": [
    "bisection(1, 1.5, 0.00000001, 100, f)"
   ]
  },
  {
   "cell_type": "markdown",
   "id": "7173a73f-5586-4a5d-bb49-5f957d8ee263",
   "metadata": {},
   "source": [
    "<br>So, using the bisection method, $g_1$ appears to be converging to 1.124..., therefore, let's use this as a comparison for the results of our function.\n",
    "\n",
    "Comparing the results from the bisection method with a very small error, one can see that the functions $g_3$ and $g_4$ provided good approximations of the actual root for our function $f$. However, I would say $g_4$ performed the best as it gave a very accurate approximation and converged to the approximation faster than $g_3$. It offered a good approximation after only 3 iterations.  "
   ]
  },
  {
   "cell_type": "markdown",
   "id": "c9a00c52-4d0f-4384-9d0b-f1f8c9d97ad7",
   "metadata": {},
   "source": [
    "---\n",
    "\n",
    "## Question 3\n",
    "\n",
    "Use Fixed-Point Theorem to show \n",
    "$$g(x)=\\frac{1}{10}\\left(\\frac{5}{x^2}+2x+9\\right)$$\n",
    "has a unique fixed point on $[1,3]$.\n",
    "\n",
    "To go about this we need to use the theorem to show existence of a fixed-point in the interval and then we need to show uniqueness of the fixed-point in the interval. "
   ]
  },
  {
   "cell_type": "code",
   "execution_count": 26,
   "id": "b9f87ef4-b282-4407-8b1b-39eba253acaa",
   "metadata": {},
   "outputs": [],
   "source": [
    "# implement g(x) as a Python function \n",
    "def g(x):\n",
    "    return ((1/10) * ((5/(x*x))+2*x+9))"
   ]
  },
  {
   "cell_type": "code",
   "execution_count": 27,
   "id": "4e3f7042-d18a-475c-b1ba-cd9adb33c13c",
   "metadata": {},
   "outputs": [
    {
     "data": {
      "text/plain": [
       "1.6"
      ]
     },
     "execution_count": 27,
     "metadata": {},
     "output_type": "execute_result"
    }
   ],
   "source": [
    "g(1)    # evaluate g(x) at first endpoint"
   ]
  },
  {
   "cell_type": "code",
   "execution_count": 28,
   "id": "4f80d6e2-34e6-4061-ba2e-7ed69d483c7b",
   "metadata": {},
   "outputs": [
    {
     "data": {
      "text/plain": [
       "1.5555555555555556"
      ]
     },
     "execution_count": 28,
     "metadata": {},
     "output_type": "execute_result"
    }
   ],
   "source": [
    "g(3)"
   ]
  },
  {
   "cell_type": "code",
   "execution_count": null,
   "id": "b8322361-49da-4291-b3be-ac4a35767f0f",
   "metadata": {},
   "outputs": [],
   "source": []
  }
 ],
 "metadata": {
  "kernelspec": {
   "display_name": "Python 3 (ipykernel)",
   "language": "python",
   "name": "python3"
  },
  "language_info": {
   "codemirror_mode": {
    "name": "ipython",
    "version": 3
   },
   "file_extension": ".py",
   "mimetype": "text/x-python",
   "name": "python",
   "nbconvert_exporter": "python",
   "pygments_lexer": "ipython3",
   "version": "3.9.9"
  }
 },
 "nbformat": 4,
 "nbformat_minor": 5
}
