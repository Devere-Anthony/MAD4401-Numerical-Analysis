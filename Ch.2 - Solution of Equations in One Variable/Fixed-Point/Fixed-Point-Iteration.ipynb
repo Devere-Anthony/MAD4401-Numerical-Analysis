{
 "cells": [
  {
   "cell_type": "markdown",
   "id": "9d480d1e-3a55-4660-bd08-860721794a00",
   "metadata": {},
   "source": [
    "# Fixed-Point Iteration \n",
    "\n",
    "**TODO:** Come back and fill in some notes regarding fixed-point iteration, for now just implement the algorithm such that I can use it to work on the exercises from the homework/text."
   ]
  },
  {
   "cell_type": "code",
   "execution_count": 2,
   "id": "02a27079-2c24-444f-8a34-6a85d20a7496",
   "metadata": {},
   "outputs": [],
   "source": [
    "import numpy as np\n",
    "import math"
   ]
  },
  {
   "cell_type": "code",
   "execution_count": 23,
   "id": "46c475e8-86e3-4204-bd94-9e91efa75052",
   "metadata": {},
   "outputs": [],
   "source": [
    "# define g (from illustration on p.60 of text)\n",
    "def g(x): \n",
    "    return ((1/2) * math.pow((10-x*x*x), (1/2)))"
   ]
  },
  {
   "cell_type": "markdown",
   "id": "76579897-5730-4d33-b71b-405bd0f007cf",
   "metadata": {},
   "source": [
    "<br>**TODO:** Create an overloaded version of this function that takes multiple functions and evaluates them at and evaluate them at $p_0$ so that one can compare different versions of the function $g(x)$."
   ]
  },
  {
   "cell_type": "code",
   "execution_count": 31,
   "id": "81281122-7cd7-4af8-861f-0882ba78bd5e",
   "metadata": {},
   "outputs": [],
   "source": [
    "# overload this function, include iterations and error\n",
    "def fixedPoint(p0, error, n, f):\n",
    "    counter = 0\n",
    "    while counter < n:\n",
    "        p = f(p0)    # evaluate function at p0\n",
    "        if math.fabs(p - p0) < error:    # reached error threshold\n",
    "            return p\n",
    "        else:\n",
    "            counter = counter + 1\n",
    "            p0 = p\n",
    "            print(f\"{counter:>02}\\t{p0:<16}\\t{p:<11}\")\n",
    "    print(f\"The method failed after {n} iterations\")"
   ]
  },
  {
   "cell_type": "code",
   "execution_count": 53,
   "id": "e09501bd-3992-47fd-b318-7b4edf486aac",
   "metadata": {},
   "outputs": [],
   "source": [
    "# overload function, iteration only \n",
    "def fixedPoint(p0, n, f):\n",
    "    counter = 0\n",
    "    print(f\"n\\tP\")\n",
    "    print(\"______________________________\")\n",
    "    while counter < n:\n",
    "        p = f(p0)    # evaluate function at p0\n",
    "        counter = counter + 1\n",
    "        p0 = p\n",
    "        print(f\"{counter:>02}\\t{p0:<16}\")\n",
    "    print(f\"\\nThe approximated value of P after {n} iterations is: {p}\")"
   ]
  },
  {
   "cell_type": "code",
   "execution_count": 54,
   "id": "8e148548-6197-4ec3-a920-77ba9bcc21b8",
   "metadata": {},
   "outputs": [
    {
     "name": "stdout",
     "output_type": "stream",
     "text": [
      "n\tP\n",
      "______________________________\n",
      "01\t1.286953767623375\n",
      "02\t1.4025408035395783\n",
      "03\t1.3454583740232942\n",
      "04\t1.3751702528160383\n",
      "05\t1.360094192761733\n",
      "06\t1.3678469675921328\n",
      "07\t1.3638870038840212\n",
      "08\t1.36591673339004\n",
      "09\t1.364878217193677\n",
      "10\t1.365410061169957\n",
      "11\t1.3651378206692129\n",
      "12\t1.3652772085244786\n",
      "13\t1.3652058502970472\n",
      "14\t1.3652423837188388\n",
      "15\t1.3652236802252822\n",
      "16\t1.3652332557424998\n",
      "17\t1.365228353462627\n",
      "18\t1.3652308632436367\n",
      "19\t1.3652295783339587\n",
      "20\t1.3652302361581812\n",
      "21\t1.3652298993777325\n",
      "22\t1.3652300717962909\n",
      "23\t1.365229983524674\n",
      "24\t1.3652300287163228\n",
      "25\t1.36523000557995\n",
      "26\t1.3652300174248766\n",
      "27\t1.365230011360733\n",
      "28\t1.3652300144653395\n",
      "29\t1.3652300128759012\n",
      "30\t1.365230013689632\n",
      "\n",
      "The approximated value of P after 30 iterations is: 1.365230013689632\n"
     ]
    }
   ],
   "source": [
    "# test function using example from book\n",
    "fixedPoint(1.5, 30, g)"
   ]
  },
  {
   "cell_type": "markdown",
   "id": "1f70b326-0eb6-48b8-9093-e771cbf2be58",
   "metadata": {
    "tags": []
   },
   "source": [
    "---\n",
    "\n",
    "## Exercise Set 2.2\n",
    "\n",
    "This section implements solutions to some of the exercises and homework from the section 2.2 exercise set.\n",
    "\n",
    "<br>\n",
    "2. (a) Perform four iterations if possible on each of the functions $g$ defined in Exercise 1. \n",
    "\n",
    "Let $p_0=1$ and $p_{n+1}=g(p_n)$ for $n = 0,1,2,3$.\n",
    "\n",
    "To start, let's provide a Python implementation for each of the four functions. \n",
    "\n",
    "* $g_1(x) = (3 + x - 2x^2)^{\\frac{1}{4}}$\n",
    "\n",
    "* $g_2(x) = \\left(\\frac{x+3-x^4}{2}\\right)^\\frac{1}{2}$\n",
    "\n",
    "* $g_3(x) = \\left(\\frac{x+3}{x^2+2}\\right)^\\frac{1}{2}$\n",
    "\n",
    "* $g_4(x) = \\frac{3x^4+2x^2+3}{4x^3+4x-1}$"
   ]
  },
  {
   "cell_type": "code",
   "execution_count": 56,
   "id": "45620e10-5c47-4662-8e32-360a1b0a733e",
   "metadata": {},
   "outputs": [],
   "source": [
    "def g1(x):\n",
    "    return math.pow(3+x-(2*x*x), (1/4))"
   ]
  },
  {
   "cell_type": "code",
   "execution_count": 58,
   "id": "971ff035-8b03-4a5b-8413-34b38982634c",
   "metadata": {},
   "outputs": [],
   "source": [
    "def g2(x):\n",
    "    return math.pow((x+3-math.pow(x,4))/2, (1/2))"
   ]
  },
  {
   "cell_type": "code",
   "execution_count": 61,
   "id": "7f96555a-2e51-45be-bb29-c7e8e7af53b5",
   "metadata": {},
   "outputs": [],
   "source": [
    "def g3(x):\n",
    "    return math.pow((x+3)/(x*x+2), (1/2))"
   ]
  },
  {
   "cell_type": "code",
   "execution_count": 64,
   "id": "aece0b1d-3215-429c-822a-ea19428fb79e",
   "metadata": {},
   "outputs": [],
   "source": [
    "def g4(x):\n",
    "    return (3*math.pow(x,4) + 2*math.pow(x,2) + 3)/(4*math.pow(x,3) + 4*x - 1)"
   ]
  },
  {
   "cell_type": "code",
   "execution_count": null,
   "id": "298a8dfb-b39b-4238-8a16-702dcfe9835e",
   "metadata": {},
   "outputs": [],
   "source": []
  }
 ],
 "metadata": {
  "kernelspec": {
   "display_name": "Python 3 (ipykernel)",
   "language": "python",
   "name": "python3"
  },
  "language_info": {
   "codemirror_mode": {
    "name": "ipython",
    "version": 3
   },
   "file_extension": ".py",
   "mimetype": "text/x-python",
   "name": "python",
   "nbconvert_exporter": "python",
   "pygments_lexer": "ipython3",
   "version": "3.9.13"
  }
 },
 "nbformat": 4,
 "nbformat_minor": 5
}
