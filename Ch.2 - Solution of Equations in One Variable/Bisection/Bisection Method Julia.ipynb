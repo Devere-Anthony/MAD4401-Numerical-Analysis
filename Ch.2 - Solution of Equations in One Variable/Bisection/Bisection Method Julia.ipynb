{
 "cells": [
  {
   "cell_type": "markdown",
   "id": "337f56cd-648e-4c84-a4ef-f155bafbae10",
   "metadata": {},
   "source": [
    "# The Bisection Method \n",
    "\n",
    "Attempt to translate Python implementation to a Julia implementation. "
   ]
  },
  {
   "cell_type": "code",
   "execution_count": 24,
   "id": "36211ca1-778b-433e-8500-b1c516fb6b2c",
   "metadata": {},
   "outputs": [],
   "source": [
    "function f(x)\n",
    "    x^3 + 4x^2 - 10\n",
    "end;"
   ]
  },
  {
   "cell_type": "code",
   "execution_count": 25,
   "id": "152a14ec-230e-4957-8c43-e393e9a51bb9",
   "metadata": {},
   "outputs": [],
   "source": [
    "function bisection(a, b, t, n, func)\n",
    "    counter = 0\n",
    "    fa = func(a)\n",
    "    p = a + (b-a)/2\n",
    "    l = a\n",
    "    u = b\n",
    "    while counter < n\n",
    "        p = a + (b-a)/2\n",
    "        fp = func(p)\n",
    "        if (fp == 0) || ((b-a/2) < t)\n",
    "            counter = counter + 1\n",
    "            println(p)\n",
    "        elseif (fa * fp > 0)\n",
    "            println(p)\n",
    "            a = p\n",
    "            fa = fp\n",
    "        else\n",
    "            println(p)\n",
    "            b = p\n",
    "        end # if-elif-else\n",
    "        counter = counter + 1\n",
    "    end  # while\n",
    "    println(\"After \", counter, \" iterations, the approximation for the root in [1,2] is ~\", p, \".\")\n",
    "end;"
   ]
  },
  {
   "cell_type": "code",
   "execution_count": 26,
   "id": "3466ffe8-4428-44ab-abec-e6c4001dca77",
   "metadata": {},
   "outputs": [
    {
     "name": "stdout",
     "output_type": "stream",
     "text": [
      "1.5\n",
      "1.25\n",
      "1.375\n",
      "1.3125\n",
      "1.34375\n",
      "1.359375\n",
      "1.3671875\n",
      "1.36328125\n",
      "1.365234375\n",
      "1.3642578125\n",
      "1.36474609375\n",
      "1.364990234375\n",
      "1.3651123046875\n",
      "1.36517333984375\n",
      "1.365203857421875\n",
      "After 15 iterations, the approximation for the root in [1,2] is ~1.365203857421875.\n"
     ]
    }
   ],
   "source": [
    "bisection(1,2, 0.0001, 15, f)"
   ]
  },
  {
   "cell_type": "code",
   "execution_count": 22,
   "id": "aa8908b4-fd9d-4b6a-a883-8871ff1f8be7",
   "metadata": {},
   "outputs": [],
   "source": [
    "function g(x)\n",
    "    sqrt(x) - cos(x)\n",
    "end;"
   ]
  },
  {
   "cell_type": "code",
   "execution_count": 23,
   "id": "2c593b02-8cb6-4b6f-9187-9add91073892",
   "metadata": {},
   "outputs": [
    {
     "name": "stdout",
     "output_type": "stream",
     "text": [
      "0.5\n",
      "0.75\n",
      "0.625\n",
      "After 3 iterations, the approximation for the root in [1,2] is ~0.625.\n"
     ]
    }
   ],
   "source": [
    "bisection(0, 1, 0.0001, 3, g)"
   ]
  }
 ],
 "metadata": {
  "kernelspec": {
   "display_name": "Julia 1.8.3",
   "language": "julia",
   "name": "julia-1.8"
  },
  "language_info": {
   "file_extension": ".jl",
   "mimetype": "application/julia",
   "name": "julia",
   "version": "1.8.3"
  }
 },
 "nbformat": 4,
 "nbformat_minor": 5
}
