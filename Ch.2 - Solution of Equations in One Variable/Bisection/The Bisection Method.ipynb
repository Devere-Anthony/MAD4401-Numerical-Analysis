{
 "cells": [
  {
   "cell_type": "markdown",
   "id": "285ac623-aa41-49ec-bd28-1caee811f062",
   "metadata": {},
   "source": [
    "# The Bisection Method\n",
    "\n",
    "Chapter 2.1 of the text covers one of the most basic problems, the root-finding problem.\n",
    "\n",
    "---\n",
    "\n",
    "## Bisection Technique \n",
    "\n",
    "This technique makes use of the Intermediate Value Theorem (IVT). The notes are written and recorded elsewhere. To demonstrate this method. \n",
    "\n",
    "In the following example, we'll show that $f(x) = x^3 + 4x^2 - 10$ has a root in $[1,2]$ using the Bisection method to determine an approximation to the root that is accurate to at least within $10^{-4}$."
   ]
  },
  {
   "cell_type": "code",
   "execution_count": 3,
   "id": "fc2530e3-380e-4c5c-80fc-d7098894eab4",
   "metadata": {},
   "outputs": [],
   "source": [
    "# create a function that evaluates f at x\n",
    "def f(x):\n",
    "    return ((x*x*x) + (4*x*x) - 10)"
   ]
  },
  {
   "cell_type": "code",
   "execution_count": 72,
   "id": "a28bdf0e-7ee1-4d90-98af-2f4126862cb1",
   "metadata": {},
   "outputs": [],
   "source": [
    "# create function for bisection method algorithm\n",
    "def bisection(a, b, t, n, func):\n",
    "    counter = 0\n",
    "    fa = func(a)\n",
    "    p = a + (b-a)/2 \n",
    "    l = a\n",
    "    u = b\n",
    "    print(f\"n\\ta\\t\\t\\tb\\t\\t\\tp (approx.)\\t\\t\\tf(p)\\t\\t\\t\\tError (bn - an)\")\n",
    "    print(\"__________________________________________________________________________________________________________________________________________\")\n",
    "    while counter < n:\n",
    "        p = a + (b-a)/2\n",
    "        fp = func(p)\n",
    "        if (fp == 0) or ((b-a)/2 < t):    # if exact root found or error tolerance is reached\n",
    "            counter += 1\n",
    "            print(f\"{counter:>02}\\t{a:<16}\\t{b:<11}\\t\\t{p:<16}\\t\\t{func(p):<16}\\t\\t{b-p:<16}\")\n",
    "            break\n",
    "        elif (fa * fp > 0):    # same signs, shift right\n",
    "            print(f\"{counter+1:>02}\\t{a:<16}\\t{b:<11}\\t\\t{p:<16}\\t\\t{func(p):<16}\\t\\t{b-p:<16}\")\n",
    "            a = p\n",
    "            fa = fp\n",
    "        else:    # different signs, shift left\n",
    "            print(f\"{counter+1:>02}\\t{a:<16}\\t{b:<11}\\t\\t{p:<16}\\t\\t{func(p):<16}\\t\\t{b-p:<16}\")\n",
    "            b = p\n",
    "        counter += 1\n",
    "    print(f\"\\nAfter {counter} iterations, the approximation for the root in [{l},{u}] is ~{p}\\nwith error {b-p}\")"
   ]
  },
  {
   "cell_type": "code",
   "execution_count": 73,
   "id": "abe27de6-431c-4b8d-b64d-e8aa5758bf53",
   "metadata": {},
   "outputs": [
    {
     "name": "stdout",
     "output_type": "stream",
     "text": [
      "n\ta\t\t\tb\t\t\tp (approx.)\t\t\tf(p)\t\t\t\tError (bn - an)\n",
      "__________________________________________________________________________________________________________________________________________\n",
      "01\t1               \t2          \t\t1.5             \t\t2.375           \t\t0.5             \n",
      "02\t1               \t1.5        \t\t1.25            \t\t-1.796875       \t\t0.25            \n",
      "03\t1.25            \t1.5        \t\t1.375           \t\t0.162109375     \t\t0.125           \n",
      "04\t1.25            \t1.375      \t\t1.3125          \t\t-0.848388671875 \t\t0.0625          \n",
      "05\t1.3125          \t1.375      \t\t1.34375         \t\t-0.350982666015625\t\t0.03125         \n",
      "06\t1.34375         \t1.375      \t\t1.359375        \t\t-0.09640884399414062\t\t0.015625        \n",
      "07\t1.359375        \t1.375      \t\t1.3671875       \t\t0.03235578536987305\t\t0.0078125       \n",
      "08\t1.359375        \t1.3671875  \t\t1.36328125      \t\t-0.03214997053146362\t\t0.00390625      \n",
      "09\t1.36328125      \t1.3671875  \t\t1.365234375     \t\t7.202476263046265e-05\t\t0.001953125     \n",
      "10\t1.36328125      \t1.365234375\t\t1.3642578125    \t\t-0.01604669075459242\t\t0.0009765625    \n",
      "11\t1.3642578125    \t1.365234375\t\t1.36474609375   \t\t-0.007989262812770903\t\t0.00048828125   \n",
      "12\t1.36474609375   \t1.365234375\t\t1.364990234375  \t\t-0.003959101522923447\t\t0.000244140625  \n",
      "13\t1.364990234375  \t1.365234375\t\t1.3651123046875 \t\t-0.0019436590100667672\t\t0.0001220703125 \n",
      "\n",
      "After 13 iterations, the approximation for the root in [1,2] is ~1.3651123046875\n",
      "with error 0.0001220703125\n"
     ]
    }
   ],
   "source": [
    "bisection(1, 2, 0.0001, 13, f)"
   ]
  },
  {
   "cell_type": "code",
   "execution_count": 74,
   "id": "2251e043-1e9f-4c0f-8898-d71f4bdd40f9",
   "metadata": {},
   "outputs": [
    {
     "name": "stdout",
     "output_type": "stream",
     "text": [
      "n\ta\t\t\tb\t\t\tp (approx.)\t\t\tf(p)\t\t\t\tError (bn - an)\n",
      "__________________________________________________________________________________________________________________________________________\n",
      "01\t1               \t2          \t\t1.5             \t\t2.375           \t\t0.5             \n",
      "02\t1               \t1.5        \t\t1.25            \t\t-1.796875       \t\t0.25            \n",
      "03\t1.25            \t1.5        \t\t1.375           \t\t0.162109375     \t\t0.125           \n",
      "04\t1.25            \t1.375      \t\t1.3125          \t\t-0.848388671875 \t\t0.0625          \n",
      "05\t1.3125          \t1.375      \t\t1.34375         \t\t-0.350982666015625\t\t0.03125         \n",
      "06\t1.34375         \t1.375      \t\t1.359375        \t\t-0.09640884399414062\t\t0.015625        \n",
      "07\t1.359375        \t1.375      \t\t1.3671875       \t\t0.03235578536987305\t\t0.0078125       \n",
      "08\t1.359375        \t1.3671875  \t\t1.36328125      \t\t-0.03214997053146362\t\t0.00390625      \n",
      "09\t1.36328125      \t1.3671875  \t\t1.365234375     \t\t7.202476263046265e-05\t\t0.001953125     \n",
      "10\t1.36328125      \t1.365234375\t\t1.3642578125    \t\t-0.01604669075459242\t\t0.0009765625    \n",
      "11\t1.3642578125    \t1.365234375\t\t1.36474609375   \t\t-0.007989262812770903\t\t0.00048828125   \n",
      "12\t1.36474609375   \t1.365234375\t\t1.364990234375  \t\t-0.003959101522923447\t\t0.000244140625  \n",
      "13\t1.364990234375  \t1.365234375\t\t1.3651123046875 \t\t-0.0019436590100667672\t\t0.0001220703125 \n",
      "14\t1.3651123046875 \t1.365234375\t\t1.36517333984375\t\t-0.000935847281880342\t\t6.103515625e-05 \n",
      "\n",
      "After 14 iterations, the approximation for the root in [1,2] is ~1.36517333984375\n",
      "with error 6.103515625e-05\n"
     ]
    }
   ],
   "source": [
    "# 1000 iterations max, but will converge way before then \n",
    "bisection(1, 2, 0.0001, 1000, f)"
   ]
  },
  {
   "cell_type": "markdown",
   "id": "62c1dfd1-2ba2-482a-8011-65f2fd8369eb",
   "metadata": {},
   "source": [
    "---\n",
    "\n",
    "## Homework 1\n",
    "\n",
    "The following cells contain stuff related to a homework assignment. \n",
    "\n",
    "**NOTE:** Question 4 requires a \"formal\" response, thus it was done on paper and will be typed up with the rest of this in LaTeX.\n",
    "\n",
    "1) Use the bisection method to find the third approximation $p_3$ for the solution of $f(x) = \\sqrt{x} - \\cos(x) = 0$ on $[0,1]$."
   ]
  },
  {
   "cell_type": "code",
   "execution_count": 81,
   "id": "93fead1e-c985-4b64-9d84-0c58df0164f4",
   "metadata": {},
   "outputs": [],
   "source": [
    "import math\n",
    "import numpy as np"
   ]
  },
  {
   "cell_type": "code",
   "execution_count": 76,
   "id": "6438045e-e745-41fb-9faa-0fffcae1efce",
   "metadata": {},
   "outputs": [],
   "source": [
    "# first let's define a python function for our mathematical function\n",
    "def g(x):\n",
    "    return (math.sqrt(x) - math.cos(x))"
   ]
  },
  {
   "cell_type": "code",
   "execution_count": 77,
   "id": "48a35b68-f216-4322-8cd5-e2ca0ac36679",
   "metadata": {},
   "outputs": [
    {
     "name": "stdout",
     "output_type": "stream",
     "text": [
      "n\ta\t\t\tb\t\t\tp (approx.)\t\t\tf(p)\t\t\t\tError (bn - an)\n",
      "__________________________________________________________________________________________________________________________________________\n",
      "01\t0               \t1          \t\t0.5             \t\t-0.17047578070382519\t\t0.5             \n",
      "02\t0.5             \t1          \t\t0.75            \t\t0.1343365349106177\t\t0.25            \n",
      "03\t0.5             \t0.75       \t\t0.625           \t\t-0.020393704463123052\t\t0.125           \n",
      "\n",
      "After 3 iterations, the approximation for the root in [0,1] is ~0.625\n",
      "with error 0.125\n"
     ]
    }
   ],
   "source": [
    "# TODO: Call the bisection function to check work solved by hand\n",
    "bisection(0, 1, 0.0001, 3, g)"
   ]
  },
  {
   "cell_type": "markdown",
   "id": "c070f52c-0d43-4d0f-b326-3e983be1951e",
   "metadata": {},
   "source": [
    "<br>\n",
    "<br>2. (a) Find an upper bound on the number of iterations to achieve $10^-3$ accuracy on $[1,2]$ for $\\sqrt{3}$."
   ]
  },
  {
   "cell_type": "code",
   "execution_count": 78,
   "id": "9db352ac-f0c5-4a67-8dd2-12c5777a2b23",
   "metadata": {},
   "outputs": [],
   "source": [
    "def h(x):\n",
    "    return (x*x - 3)"
   ]
  },
  {
   "cell_type": "code",
   "execution_count": 85,
   "id": "e8cddb59-40a9-4e6a-833c-3476bf990c11",
   "metadata": {},
   "outputs": [],
   "source": [
    "def exactError(x, val):\n",
    "    return np.fabs(x - val)"
   ]
  },
  {
   "cell_type": "code",
   "execution_count": 79,
   "id": "23a822b3-5f67-4697-ab20-eaf47175ee48",
   "metadata": {},
   "outputs": [
    {
     "name": "stdout",
     "output_type": "stream",
     "text": [
      "n\ta\t\t\tb\t\t\tp (approx.)\t\t\tf(p)\t\t\t\tError (bn - an)\n",
      "__________________________________________________________________________________________________________________________________________\n",
      "01\t1               \t2          \t\t1.5             \t\t-0.75           \t\t0.5             \n",
      "02\t1.5             \t2          \t\t1.75            \t\t0.0625          \t\t0.25            \n",
      "03\t1.5             \t1.75       \t\t1.625           \t\t-0.359375       \t\t0.125           \n",
      "04\t1.625           \t1.75       \t\t1.6875          \t\t-0.15234375     \t\t0.0625          \n",
      "05\t1.6875          \t1.75       \t\t1.71875         \t\t-0.0458984375   \t\t0.03125         \n",
      "06\t1.71875         \t1.75       \t\t1.734375        \t\t0.008056640625  \t\t0.015625        \n",
      "07\t1.71875         \t1.734375   \t\t1.7265625       \t\t-0.01898193359375\t\t0.0078125       \n",
      "08\t1.7265625       \t1.734375   \t\t1.73046875      \t\t-0.0054779052734375\t\t0.00390625      \n",
      "09\t1.73046875      \t1.734375   \t\t1.732421875     \t\t0.001285552978515625\t\t0.001953125     \n",
      "10\t1.73046875      \t1.732421875\t\t1.7314453125    \t\t-0.0020971298217773438\t\t0.0009765625    \n",
      "\n",
      "After 10 iterations, the approximation for the root in [1,2] is ~1.7314453125\n",
      "with error 0.0009765625\n"
     ]
    }
   ],
   "source": [
    "bisection(1, 2, 0.001, 1000, h)"
   ]
  },
  {
   "cell_type": "code",
   "execution_count": 89,
   "id": "874b417e-629f-46b2-8cb1-1fbeb35e1522",
   "metadata": {},
   "outputs": [],
   "source": [
    "# array with first four approximations \n",
    "arr = np.array([1.5, 1.75, 1.625, 1.6875])"
   ]
  },
  {
   "cell_type": "code",
   "execution_count": 90,
   "id": "47a96621-ddb2-4940-84d9-b8a8873f909c",
   "metadata": {},
   "outputs": [
    {
     "data": {
      "text/plain": [
       "array([0.23205081, 0.01794919, 0.10705081, 0.04455081])"
      ]
     },
     "execution_count": 90,
     "metadata": {},
     "output_type": "execute_result"
    }
   ],
   "source": [
    "# compute exact error \n",
    "exactError(arr, math.sqrt(3))"
   ]
  },
  {
   "cell_type": "markdown",
   "id": "7a7a79f9-c01b-4f67-b045-529ac03c6b8c",
   "metadata": {},
   "source": [
    "<br>\n",
    "<br>3. Use Theorem 2.1 to find a bound for the number of iterations needed to achieve an approximation with accuracy $10^-3$ to the solution of $x^3 + x -3 = 0$ lying in the interval $[1,4]$."
   ]
  },
  {
   "cell_type": "code",
   "execution_count": 91,
   "id": "22750444-4fc1-4502-9a4d-89ff360fa21b",
   "metadata": {},
   "outputs": [],
   "source": [
    "def r(x):\n",
    "    return (x*x*x + x - 4)"
   ]
  },
  {
   "cell_type": "code",
   "execution_count": 92,
   "id": "dd441a13-ae54-4b5e-b58e-a8f3adf51349",
   "metadata": {},
   "outputs": [
    {
     "name": "stdout",
     "output_type": "stream",
     "text": [
      "n\ta\t\t\tb\t\t\tp (approx.)\t\t\tf(p)\t\t\t\tError (bn - an)\n",
      "__________________________________________________________________________________________________________________________________________\n",
      "01\t1               \t4          \t\t2.5             \t\t14.125          \t\t1.5             \n",
      "02\t1               \t2.5        \t\t1.75            \t\t3.109375        \t\t0.75            \n",
      "03\t1               \t1.75       \t\t1.375           \t\t-0.025390625    \t\t0.375           \n",
      "04\t1.375           \t1.75       \t\t1.5625          \t\t1.377197265625  \t\t0.1875          \n",
      "05\t1.375           \t1.5625     \t\t1.46875         \t\t0.637176513671875\t\t0.09375         \n",
      "06\t1.375           \t1.46875    \t\t1.421875        \t\t0.2965202331542969\t\t0.046875        \n",
      "07\t1.375           \t1.421875   \t\t1.3984375       \t\t0.13326025009155273\t\t0.0234375       \n",
      "08\t1.375           \t1.3984375  \t\t1.38671875      \t\t0.05336350202560425\t\t0.01171875      \n",
      "09\t1.375           \t1.38671875 \t\t1.380859375     \t\t0.013844214379787445\t\t0.005859375     \n",
      "10\t1.375           \t1.380859375\t\t1.3779296875    \t\t-0.005808685906231403\t\t0.0029296875    \n",
      "11\t1.3779296875    \t1.380859375\t\t1.37939453125   \t\t0.004008884658105671\t\t0.00146484375   \n",
      "12\t1.3779296875    \t1.37939453125\t\t1.378662109375  \t\t-0.0009021193400258198\t\t0.000732421875  \n",
      "\n",
      "After 12 iterations, the approximation for the root in [1,4] is ~1.378662109375\n",
      "with error 0.000732421875\n"
     ]
    }
   ],
   "source": [
    "bisection(1, 4, 0.001, 1000, r)"
   ]
  }
 ],
 "metadata": {
  "kernelspec": {
   "display_name": "Python 3 (ipykernel)",
   "language": "python",
   "name": "python3"
  },
  "language_info": {
   "codemirror_mode": {
    "name": "ipython",
    "version": 3
   },
   "file_extension": ".py",
   "mimetype": "text/x-python",
   "name": "python",
   "nbconvert_exporter": "python",
   "pygments_lexer": "ipython3",
   "version": "3.9.13"
  }
 },
 "nbformat": 4,
 "nbformat_minor": 5
}
