{
 "cells": [
  {
   "cell_type": "markdown",
   "id": "11591c2f-7960-40f8-9c0e-a1b891964b9b",
   "metadata": {},
   "source": [
    "# Newton's Method and Its Extensions\n",
    "\n",
    "## Newton's Method \n",
    "The notes for Newton's Method exist on a separate document. This notebook will only cover the computational implementation to find a solution to $f(x)=0$ given an initial approximation $p_0$. "
   ]
  },
  {
   "cell_type": "code",
   "execution_count": 1,
   "id": "531faae5-3c2f-462e-8b38-8a5db63ca2b9",
   "metadata": {},
   "outputs": [],
   "source": [
    "import sympy as sp\n",
    "import numpy as np"
   ]
  },
  {
   "cell_type": "code",
   "execution_count": 2,
   "id": "ac54eaf0-0070-4e2b-9d07-86af4d752e05",
   "metadata": {},
   "outputs": [],
   "source": [
    "# create function to be evalutated\n",
    "x = sp.symbols('x')\n",
    "func = sp.cos(x)-x    "
   ]
  },
  {
   "cell_type": "code",
   "execution_count": 3,
   "id": "0952757b-4f96-4fe8-9a49-22d10f9ebd07",
   "metadata": {},
   "outputs": [],
   "source": [
    "def newtonMethod(p0, n0, func, error=None):\n",
    "    '''Iterative root-finding approximation method.'''\n",
    "    counter = 0 \n",
    "    func_diff = sp.Derivative(func, x)    # compute derivative\n",
    "    if error:    # execute if user enters error bounds\n",
    "        print(\"N\\t\\tPn\\t\\t\\tError\")\n",
    "        print(\"----------------------------------------------\")\n",
    "        while counter < n0:\n",
    "            p = p0 - (func.subs(x,p0)/func_diff.doit_numerically(p0))\n",
    "            p = float(p)    # convert back to a float\n",
    "            if (np.fabs(p-p0) < error):    # absolute error < error tolerance \n",
    "                print(f\"\\nAfter {counter} iterations and error tolerance {error:f}\\nthe approximated root is {p}.\")\n",
    "                break\n",
    "            else:\n",
    "                counter = counter + 1\n",
    "                err = np.fabs(p - p0)\n",
    "                p0 = p    # update p0 to next approximation to be evaluated next iteration\n",
    "                print(f\"{counter}\\t\\t{p}\\t{err}\")\n",
    "    else:    # execute if user only wants iterations (no error bounds)\n",
    "        print(\"N\\t\\tPn\")\n",
    "        print(\"-----------------------------------\")\n",
    "        while counter < n0:\n",
    "            p = p0 - (func.subs(x,p0)/func_diff.doit_numerically(p0))\n",
    "            p = float(p)    # convert back to a float\n",
    "            counter = counter + 1\n",
    "            p0 = p    # update p0 to next approximation to be evaluated next iteration\n",
    "            print(f\"{counter}\\t\\t{p}\")\n",
    "        print(f\"\\nAfter {counter} iterations the approximated root is {p}.\")"
   ]
  },
  {
   "cell_type": "code",
   "execution_count": 4,
   "id": "4d64e5f3-eaac-4650-97e8-bc238fe7444b",
   "metadata": {},
   "outputs": [],
   "source": [
    "# our initial guess \n",
    "y = np.pi/4"
   ]
  },
  {
   "cell_type": "code",
   "execution_count": 5,
   "id": "b2264d35-eda4-4bcb-8d0a-2574cbc4d612",
   "metadata": {},
   "outputs": [
    {
     "name": "stdout",
     "output_type": "stream",
     "text": [
      "N\t\tPn\n",
      "-----------------------------------\n",
      "1\t\t0.7395361335152383\n",
      "2\t\t0.7390851781060102\n",
      "3\t\t0.7390851332151611\n",
      "4\t\t0.7390851332151607\n",
      "\n",
      "After 4 iterations the approximated root is 0.7390851332151607.\n"
     ]
    }
   ],
   "source": [
    "# Newton's Method only using iterations\n",
    "newtonMethod(y, 4, func)"
   ]
  },
  {
   "cell_type": "code",
   "execution_count": 6,
   "id": "a03d2006-9f7d-4587-aaf3-b2c5658e0513",
   "metadata": {},
   "outputs": [
    {
     "name": "stdout",
     "output_type": "stream",
     "text": [
      "N\t\tPn\t\t\tError\n",
      "----------------------------------------------\n",
      "1\t\t0.7395361335152383\t0.04586202988221\n",
      "2\t\t0.7390851781060102\t0.0004509554092281265\n",
      "\n",
      "After 2 iterations and error tolerance 0.000001\n",
      "the approximated root is 0.7390851332151611.\n"
     ]
    }
   ],
   "source": [
    "# Newton's Method using an error tolerance of 10^-6\n",
    "newtonMethod(y, 10, func, 0.000001)"
   ]
  }
 ],
 "metadata": {
  "kernelspec": {
   "display_name": "Python 3 (ipykernel)",
   "language": "python",
   "name": "python3"
  },
  "language_info": {
   "codemirror_mode": {
    "name": "ipython",
    "version": 3
   },
   "file_extension": ".py",
   "mimetype": "text/x-python",
   "name": "python",
   "nbconvert_exporter": "python",
   "pygments_lexer": "ipython3",
   "version": "3.9.13"
  }
 },
 "nbformat": 4,
 "nbformat_minor": 5
}
