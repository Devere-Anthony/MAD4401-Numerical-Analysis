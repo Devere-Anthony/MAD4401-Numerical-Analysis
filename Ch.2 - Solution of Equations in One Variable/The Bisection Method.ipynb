{
 "cells": [
  {
   "cell_type": "markdown",
   "id": "285ac623-aa41-49ec-bd28-1caee811f062",
   "metadata": {},
   "source": [
    "# The Bisection Method\n",
    "\n",
    "Chapter 2.1 of the text covers one of the most basic problems, the root-finding problem.\n",
    "\n",
    "---\n",
    "\n",
    "## Bisection Technique \n",
    "\n",
    "This technique makes use of the Intermediate Value Theorem (IVT). The notes are written and recorded elsewhere. To demonstrate this method. \n",
    "\n",
    "In the following example, we'll show that $f(x) = x^3 + 4x^2 - 10$ has a root in $[1,2]$ using the Bisection method to determine an approximation to the root that is accurate to at least within $10^{-4}$."
   ]
  },
  {
   "cell_type": "code",
   "execution_count": 3,
   "id": "fc2530e3-380e-4c5c-80fc-d7098894eab4",
   "metadata": {},
   "outputs": [],
   "source": [
    "# create a function that evaluates f at x\n",
    "def f(x):\n",
    "    return ((x*x*x) + (4*x*x) - 10)"
   ]
  },
  {
   "cell_type": "code",
   "execution_count": 59,
   "id": "a28bdf0e-7ee1-4d90-98af-2f4126862cb1",
   "metadata": {},
   "outputs": [],
   "source": [
    "# create function for bisection method algorithm\n",
    "def bisection(a, b, t, n, func):\n",
    "    counter = 0\n",
    "    fa = func(a)\n",
    "    p = a + (b-a)/2 \n",
    "    l = a\n",
    "    u = b\n",
    "    print(f\"n\\ta\\t\\t\\tb\\t\\t\\tp (approx.)\\t\\t\\tf(p)\\t\\t\\t\\tError\")\n",
    "    print(\"__________________________________________________________________________________________________________________________________________\")\n",
    "    while counter < n:\n",
    "        p = a + (b-a)/2\n",
    "        fp = func(p)\n",
    "        if (fp == 0) or ((b-a)/2 < t):    # if exact root found or error tolerance is reached\n",
    "            counter += 1\n",
    "            print(f\"{counter:>02}\\t{a:<16}\\t{b:<11}\\t\\t{p:<16}\\t\\t{func(p):<16}\\t\\t{b-p:<16}\")\n",
    "            break\n",
    "        elif (fa * fp > 0):    # same signs, shift right\n",
    "            print(f\"{counter+1:>02}\\t{a:<16}\\t{b:<11}\\t\\t{p:<16}\\t\\t{func(p):<16}\\t\\t{b-p:<16}\")\n",
    "            a = p\n",
    "            fa = fp\n",
    "        else:    # different signs, shift left\n",
    "            print(f\"{counter+1:>02}\\t{a:<16}\\t{b:<11}\\t\\t{p:<16}\\t\\t{func(p):<16}\\t\\t{b-p:<16}\")\n",
    "            b = p\n",
    "        counter += 1\n",
    "    print(f\"\\nAfter {counter} iterations, the approximation for the root in [{l},{u}] is ~{p}\\nwith error {b-p}\")"
   ]
  },
  {
   "cell_type": "code",
   "execution_count": 60,
   "id": "abe27de6-431c-4b8d-b64d-e8aa5758bf53",
   "metadata": {},
   "outputs": [
    {
     "name": "stdout",
     "output_type": "stream",
     "text": [
      "n\ta\t\t\tb\t\t\tp (approx.)\t\t\tf(p)\t\t\t\tError\n",
      "__________________________________________________________________________________________________________________________________________\n",
      "01\t1               \t2          \t\t1.5             \t\t2.375           \t\t0.5             \n",
      "02\t1               \t1.5        \t\t1.25            \t\t-1.796875       \t\t0.25            \n",
      "03\t1.25            \t1.5        \t\t1.375           \t\t0.162109375     \t\t0.125           \n",
      "04\t1.25            \t1.375      \t\t1.3125          \t\t-0.848388671875 \t\t0.0625          \n",
      "05\t1.3125          \t1.375      \t\t1.34375         \t\t-0.350982666015625\t\t0.03125         \n",
      "06\t1.34375         \t1.375      \t\t1.359375        \t\t-0.09640884399414062\t\t0.015625        \n",
      "07\t1.359375        \t1.375      \t\t1.3671875       \t\t0.03235578536987305\t\t0.0078125       \n",
      "08\t1.359375        \t1.3671875  \t\t1.36328125      \t\t-0.03214997053146362\t\t0.00390625      \n",
      "09\t1.36328125      \t1.3671875  \t\t1.365234375     \t\t7.202476263046265e-05\t\t0.001953125     \n",
      "10\t1.36328125      \t1.365234375\t\t1.3642578125    \t\t-0.01604669075459242\t\t0.0009765625    \n",
      "11\t1.3642578125    \t1.365234375\t\t1.36474609375   \t\t-0.007989262812770903\t\t0.00048828125   \n",
      "12\t1.36474609375   \t1.365234375\t\t1.364990234375  \t\t-0.003959101522923447\t\t0.000244140625  \n",
      "13\t1.364990234375  \t1.365234375\t\t1.3651123046875 \t\t-0.0019436590100667672\t\t0.0001220703125 \n",
      "\n",
      "After 13 iterations, the approximation for the root in [1,2] is ~1.3651123046875\n",
      "with error 0.0001220703125\n"
     ]
    }
   ],
   "source": [
    "bisection(1, 2, 0.0001, 13, f)"
   ]
  },
  {
   "cell_type": "code",
   "execution_count": 61,
   "id": "2251e043-1e9f-4c0f-8898-d71f4bdd40f9",
   "metadata": {},
   "outputs": [
    {
     "name": "stdout",
     "output_type": "stream",
     "text": [
      "n\ta\t\t\tb\t\t\tp (approx.)\t\t\tf(p)\t\t\t\tError\n",
      "__________________________________________________________________________________________________________________________________________\n",
      "01\t1               \t2          \t\t1.5             \t\t2.375           \t\t0.5             \n",
      "02\t1               \t1.5        \t\t1.25            \t\t-1.796875       \t\t0.25            \n",
      "03\t1.25            \t1.5        \t\t1.375           \t\t0.162109375     \t\t0.125           \n",
      "04\t1.25            \t1.375      \t\t1.3125          \t\t-0.848388671875 \t\t0.0625          \n",
      "05\t1.3125          \t1.375      \t\t1.34375         \t\t-0.350982666015625\t\t0.03125         \n",
      "06\t1.34375         \t1.375      \t\t1.359375        \t\t-0.09640884399414062\t\t0.015625        \n",
      "07\t1.359375        \t1.375      \t\t1.3671875       \t\t0.03235578536987305\t\t0.0078125       \n",
      "08\t1.359375        \t1.3671875  \t\t1.36328125      \t\t-0.03214997053146362\t\t0.00390625      \n",
      "09\t1.36328125      \t1.3671875  \t\t1.365234375     \t\t7.202476263046265e-05\t\t0.001953125     \n",
      "10\t1.36328125      \t1.365234375\t\t1.3642578125    \t\t-0.01604669075459242\t\t0.0009765625    \n",
      "11\t1.3642578125    \t1.365234375\t\t1.36474609375   \t\t-0.007989262812770903\t\t0.00048828125   \n",
      "12\t1.36474609375   \t1.365234375\t\t1.364990234375  \t\t-0.003959101522923447\t\t0.000244140625  \n",
      "13\t1.364990234375  \t1.365234375\t\t1.3651123046875 \t\t-0.0019436590100667672\t\t0.0001220703125 \n",
      "14\t1.3651123046875 \t1.365234375\t\t1.36517333984375\t\t-0.000935847281880342\t\t6.103515625e-05 \n",
      "\n",
      "After 14 iterations, the approximation for the root in [1,2] is ~1.36517333984375\n",
      "with error 6.103515625e-05\n"
     ]
    }
   ],
   "source": [
    "# 1000 iterations max, but will converge way before then \n",
    "bisection(1, 2, 0.0001, 1000, f)"
   ]
  },
  {
   "cell_type": "markdown",
   "id": "62c1dfd1-2ba2-482a-8011-65f2fd8369eb",
   "metadata": {},
   "source": [
    "---\n",
    "\n",
    "## Homework 1\n",
    "\n",
    "The following cells contain stuff related to a homework assignment. \n",
    "\n",
    "1) Use the bisection method to find the third approximation $p_3$ for the solution of $f(x) = \\sqrt{x} - \\cos(x) = 0$ on $[0,1]$."
   ]
  },
  {
   "cell_type": "code",
   "execution_count": 62,
   "id": "93fead1e-c985-4b64-9d84-0c58df0164f4",
   "metadata": {},
   "outputs": [],
   "source": [
    "import math"
   ]
  },
  {
   "cell_type": "code",
   "execution_count": 63,
   "id": "6438045e-e745-41fb-9faa-0fffcae1efce",
   "metadata": {},
   "outputs": [],
   "source": [
    "# first let's define a python function for our mathematical function\n",
    "def g(x):\n",
    "    return (math.sqrt(x) - math.cos(x))"
   ]
  },
  {
   "cell_type": "code",
   "execution_count": 64,
   "id": "48a35b68-f216-4322-8cd5-e2ca0ac36679",
   "metadata": {},
   "outputs": [
    {
     "name": "stdout",
     "output_type": "stream",
     "text": [
      "n\ta\t\t\tb\t\t\tp (approx.)\t\t\tf(p)\t\t\t\tError\n",
      "__________________________________________________________________________________________________________________________________________\n",
      "01\t0               \t1          \t\t0.5             \t\t-0.17047578070382519\t\t0.5             \n",
      "02\t0.5             \t1          \t\t0.75            \t\t0.1343365349106177\t\t0.25            \n",
      "03\t0.5             \t0.75       \t\t0.625           \t\t-0.020393704463123052\t\t0.125           \n",
      "\n",
      "After 3 iterations, the approximation for the root in [0,1] is ~0.625\n",
      "with error 0.125\n"
     ]
    }
   ],
   "source": [
    "# TODO: Call the bisection function to check work solved by hand\n",
    "bisection(0, 1, 0.0001, 3, g)"
   ]
  },
  {
   "cell_type": "code",
   "execution_count": null,
   "id": "36f5a5e1-d66a-49fa-99c9-23798d9a775b",
   "metadata": {},
   "outputs": [],
   "source": []
  }
 ],
 "metadata": {
  "kernelspec": {
   "display_name": "Python 3 (ipykernel)",
   "language": "python",
   "name": "python3"
  },
  "language_info": {
   "codemirror_mode": {
    "name": "ipython",
    "version": 3
   },
   "file_extension": ".py",
   "mimetype": "text/x-python",
   "name": "python",
   "nbconvert_exporter": "python",
   "pygments_lexer": "ipython3",
   "version": "3.9.13"
  }
 },
 "nbformat": 4,
 "nbformat_minor": 5
}
