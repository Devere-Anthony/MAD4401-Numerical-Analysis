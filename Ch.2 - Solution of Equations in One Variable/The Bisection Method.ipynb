{
 "cells": [
  {
   "cell_type": "markdown",
   "id": "285ac623-aa41-49ec-bd28-1caee811f062",
   "metadata": {},
   "source": [
    "# The Bisection Method\n",
    "\n",
    "Chapter 2.1 of the text covers one of the most basic problems, the root-finding problem.\n",
    "\n",
    "---\n",
    "\n",
    "## Bisection Technique \n",
    "\n",
    "This technique makes use of the Intermediate Value Theorem (IVT). The notes are written and recorded elsewhere. To demonstrate this method. \n",
    "\n",
    "In the following example, we'll show that $f(x) = x^3 + 4x^2 - 10$ has a root in $[1,2]$ using the Bisection method to determine an approximation to the root that is accurate to at least within $10^{-4}$."
   ]
  },
  {
   "cell_type": "code",
   "execution_count": 34,
   "id": "fc2530e3-380e-4c5c-80fc-d7098894eab4",
   "metadata": {},
   "outputs": [],
   "source": [
    "# create a function that evaluates f at x\n",
    "def f(x):\n",
    "    return ((x*x*x) + (4*x*x) - 10)"
   ]
  },
  {
   "cell_type": "code",
   "execution_count": 125,
   "id": "a28bdf0e-7ee1-4d90-98af-2f4126862cb1",
   "metadata": {},
   "outputs": [
    {
     "name": "stdout",
     "output_type": "stream",
     "text": [
      "n\ta\t\t\tb\t\tp\t\t\tf(p)\n",
      "01\t1               \t1.5        \t1.5             \t2.375               \n",
      "02\t1.25            \t1.5        \t1.25            \t-1.796875           \n",
      "03\t1.25            \t1.375      \t1.375           \t0.162109375         \n",
      "04\t1.3125          \t1.375      \t1.3125          \t-0.848388671875     \n",
      "05\t1.34375         \t1.375      \t1.34375         \t-0.350982666015625  \n",
      "06\t1.359375        \t1.375      \t1.359375        \t-0.09640884399414062\n",
      "07\t1.359375        \t1.3671875  \t1.3671875       \t0.03235578536987305 \n",
      "08\t1.36328125      \t1.3671875  \t1.36328125      \t-0.03214997053146362\n",
      "09\t1.36328125      \t1.365234375\t1.365234375     \t7.202476263046265e-05\n",
      "10\t1.3642578125    \t1.365234375\t1.3642578125    \t-0.01604669075459242\n",
      "11\t1.36474609375   \t1.365234375\t1.36474609375   \t-0.007989262812770903\n",
      "12\t1.364990234375  \t1.365234375\t1.364990234375  \t-0.003959101522923447\n",
      "13\t1.3651123046875 \t1.365234375\t1.3651123046875 \t-0.0019436590100667672\n"
     ]
    }
   ],
   "source": [
    "# create variables needed for input, output, and counter\n",
    "counter = 0    # start at 1, we're working with mathematics here, not computer science \n",
    "a = 1    # lower\n",
    "b = 2    # upper \n",
    "tol = 0.0001    # error tolerance \n",
    "n = 13    # set max number of interations (arbitrary and unecessary for this example however)\n",
    "p = 0    # approximation of root\n",
    "fa = f(a)\n",
    "\n",
    "print(f\"n\\ta\\t\\t\\tb\\t\\tp\\t\\t\\tf(p)\")\n",
    "while counter < n:\n",
    "    p = a + (b-a)/2\n",
    "    fp = f(p)\n",
    "    if (fp == 0) or ((b-a)/2 < tol):    # if exact root found or error tolerance is reached\n",
    "       break\n",
    "    if (fa * fp > 0):    # same signs, shift right\n",
    "        a = p\n",
    "        fa = fp\n",
    "    else:    # different signs, shift left\n",
    "        b = p\n",
    "    print(f\"{counter+1:>02}\\t{a:<16}\\t{b:<11}\\t{p:<16}\\t{f(p):<20}\")\n",
    "    counter += 1"
   ]
  },
  {
   "cell_type": "code",
   "execution_count": 122,
   "id": "4101ac3f-9883-487a-8169-fd488e731b63",
   "metadata": {},
   "outputs": [
    {
     "name": "stdout",
     "output_type": "stream",
     "text": [
      "After 13 iterations, the approximation for the root is 1.3651123046875.\n"
     ]
    }
   ],
   "source": [
    "print(f\"After {n-1} iterations, the approximation for the root is {p}.\")"
   ]
  }
 ],
 "metadata": {
  "kernelspec": {
   "display_name": "Python 3 (ipykernel)",
   "language": "python",
   "name": "python3"
  },
  "language_info": {
   "codemirror_mode": {
    "name": "ipython",
    "version": 3
   },
   "file_extension": ".py",
   "mimetype": "text/x-python",
   "name": "python",
   "nbconvert_exporter": "python",
   "pygments_lexer": "ipython3",
   "version": "3.9.13"
  }
 },
 "nbformat": 4,
 "nbformat_minor": 5
}
