{
 "cells": [
  {
   "cell_type": "markdown",
   "id": "285ac623-aa41-49ec-bd28-1caee811f062",
   "metadata": {},
   "source": [
    "# The Bisection Method\n",
    "\n",
    "Chapter 2.1 of the text covers one of the most basic problems, the root-finding problem.\n",
    "\n",
    "---\n",
    "\n",
    "## Bisection Technique \n",
    "\n",
    "This technique makes use of the Intermediate Value Theorem (IVT). The notes are written and recorded elsewhere. To demonstrate this method. \n",
    "\n",
    "In the following example, we'll show that $f(x) = x^3 + 4x^2 - 10$ has a root in $[1,2]$ using the Bisection method to determine an approximation to the root that is accurate to at least within $10^{-4}$."
   ]
  },
  {
   "cell_type": "code",
   "execution_count": 1,
   "id": "fc2530e3-380e-4c5c-80fc-d7098894eab4",
   "metadata": {},
   "outputs": [],
   "source": [
    "# create a function that evaluates f at x\n",
    "def f(x):\n",
    "    return ((x*x*x) + (4*x*x) - 10)"
   ]
  },
  {
   "cell_type": "code",
   "execution_count": 4,
   "id": "a28bdf0e-7ee1-4d90-98af-2f4126862cb1",
   "metadata": {},
   "outputs": [],
   "source": [
    "# create function for bisection method algorithm\n",
    "def bisection(a, b, t, n):\n",
    "    counter = 0\n",
    "    fa = f(a)\n",
    "    p = 0\n",
    "    print(f\"n\\ta\\t\\t\\tb\\t\\tp (approx.)\\t\\t\\tf(p)\")\n",
    "    print(\"___________________________________________________________________________________________\")\n",
    "    while counter < n:\n",
    "        p = a + (b-a)/2\n",
    "        fp = f(p)\n",
    "        if (fp == 0) or ((b-a)/2 < t):    # if exact root found or error tolerance is reached\n",
    "            counter += 1\n",
    "            print(f\"{counter:>02}\\t{a:<16}\\t{b:<11}\\t{p:<16}\\t{f(p):<16}\")\n",
    "            break\n",
    "        elif (fa * fp > 0):    # same signs, shift right\n",
    "            a = p\n",
    "            fa = fp\n",
    "        else:    # different signs, shift left\n",
    "            b = p\n",
    "        counter += 1\n",
    "        print(f\"{counter:>02}\\t{a:<16}\\t{b:<11}\\t{p:<16}\\t{f(p):<16}\")\n",
    "    print(f\"\\nAfter {counter} iterations, the approximation for the root is {p}.\")"
   ]
  },
  {
   "cell_type": "code",
   "execution_count": 3,
   "id": "abe27de6-431c-4b8d-b64d-e8aa5758bf53",
   "metadata": {},
   "outputs": [
    {
     "name": "stdout",
     "output_type": "stream",
     "text": [
      "n\ta\t\t\tb\t\tp (approx.)\t\t\tf(p)\n",
      "___________________________________________________________________________________________\n"
     ]
    },
    {
     "ename": "NameError",
     "evalue": "name 'tol' is not defined",
     "output_type": "error",
     "traceback": [
      "\u001b[0;31m---------------------------------------------------------------------------\u001b[0m",
      "\u001b[0;31mNameError\u001b[0m                                 Traceback (most recent call last)",
      "Input \u001b[0;32mIn [3]\u001b[0m, in \u001b[0;36m<cell line: 1>\u001b[0;34m()\u001b[0m\n\u001b[0;32m----> 1\u001b[0m \u001b[43mbisection\u001b[49m\u001b[43m(\u001b[49m\u001b[38;5;241;43m1\u001b[39;49m\u001b[43m,\u001b[49m\u001b[43m \u001b[49m\u001b[38;5;241;43m2\u001b[39;49m\u001b[43m,\u001b[49m\u001b[43m \u001b[49m\u001b[38;5;241;43m0.0001\u001b[39;49m\u001b[43m,\u001b[49m\u001b[43m \u001b[49m\u001b[38;5;241;43m13\u001b[39;49m\u001b[43m)\u001b[49m\n",
      "Input \u001b[0;32mIn [2]\u001b[0m, in \u001b[0;36mbisection\u001b[0;34m(a, b, t, n)\u001b[0m\n\u001b[1;32m      9\u001b[0m p \u001b[38;5;241m=\u001b[39m a \u001b[38;5;241m+\u001b[39m (b\u001b[38;5;241m-\u001b[39ma)\u001b[38;5;241m/\u001b[39m\u001b[38;5;241m2\u001b[39m\n\u001b[1;32m     10\u001b[0m fp \u001b[38;5;241m=\u001b[39m f(p)\n\u001b[0;32m---> 11\u001b[0m \u001b[38;5;28;01mif\u001b[39;00m (fp \u001b[38;5;241m==\u001b[39m \u001b[38;5;241m0\u001b[39m) \u001b[38;5;129;01mor\u001b[39;00m ((b\u001b[38;5;241m-\u001b[39ma)\u001b[38;5;241m/\u001b[39m\u001b[38;5;241m2\u001b[39m \u001b[38;5;241m<\u001b[39m \u001b[43mtol\u001b[49m):    \u001b[38;5;66;03m# if exact root found or error tolerance is reached\u001b[39;00m\n\u001b[1;32m     12\u001b[0m     counter \u001b[38;5;241m+\u001b[39m\u001b[38;5;241m=\u001b[39m \u001b[38;5;241m1\u001b[39m\n\u001b[1;32m     13\u001b[0m     \u001b[38;5;28mprint\u001b[39m(\u001b[38;5;124mf\u001b[39m\u001b[38;5;124m\"\u001b[39m\u001b[38;5;132;01m{\u001b[39;00mcounter\u001b[38;5;132;01m:\u001b[39;00m\u001b[38;5;124m>02\u001b[39m\u001b[38;5;132;01m}\u001b[39;00m\u001b[38;5;130;01m\\t\u001b[39;00m\u001b[38;5;132;01m{\u001b[39;00ma\u001b[38;5;132;01m:\u001b[39;00m\u001b[38;5;124m<16\u001b[39m\u001b[38;5;132;01m}\u001b[39;00m\u001b[38;5;130;01m\\t\u001b[39;00m\u001b[38;5;132;01m{\u001b[39;00mb\u001b[38;5;132;01m:\u001b[39;00m\u001b[38;5;124m<11\u001b[39m\u001b[38;5;132;01m}\u001b[39;00m\u001b[38;5;130;01m\\t\u001b[39;00m\u001b[38;5;132;01m{\u001b[39;00mp\u001b[38;5;132;01m:\u001b[39;00m\u001b[38;5;124m<16\u001b[39m\u001b[38;5;132;01m}\u001b[39;00m\u001b[38;5;130;01m\\t\u001b[39;00m\u001b[38;5;132;01m{\u001b[39;00mf(p)\u001b[38;5;132;01m:\u001b[39;00m\u001b[38;5;124m<16\u001b[39m\u001b[38;5;132;01m}\u001b[39;00m\u001b[38;5;124m\"\u001b[39m)\n",
      "\u001b[0;31mNameError\u001b[0m: name 'tol' is not defined"
     ]
    }
   ],
   "source": [
    "bisection(1, 2, 0.0001, 13)"
   ]
  },
  {
   "cell_type": "code",
   "execution_count": null,
   "id": "2251e043-1e9f-4c0f-8898-d71f4bdd40f9",
   "metadata": {},
   "outputs": [],
   "source": [
    "# 1000 iterations max, but will converge way before then \n",
    "bisection(1, 2, 0.0001, 1000)"
   ]
  }
 ],
 "metadata": {
  "kernelspec": {
   "display_name": "Python 3 (ipykernel)",
   "language": "python",
   "name": "python3"
  },
  "language_info": {
   "codemirror_mode": {
    "name": "ipython",
    "version": 3
   },
   "file_extension": ".py",
   "mimetype": "text/x-python",
   "name": "python",
   "nbconvert_exporter": "python",
   "pygments_lexer": "ipython3",
   "version": "3.9.13"
  }
 },
 "nbformat": 4,
 "nbformat_minor": 5
}
