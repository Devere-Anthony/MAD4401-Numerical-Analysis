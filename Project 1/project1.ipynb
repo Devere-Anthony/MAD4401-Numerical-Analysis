{
 "cells": [
  {
   "cell_type": "markdown",
   "id": "0e2a2912-f5bc-4141-ba91-ba91152a795e",
   "metadata": {},
   "source": [
    "# MAD4401 - Project 1\n",
    "\n",
    "Consider the problem of finding the roots of the following function:\n",
    "\n",
    "$$f(x) = \\frac{1}{100}(4x^4-44x^3+61x^2+270x-525).$$\n",
    "\n",
    "---\n",
    "\n",
    "## Problem 1\n",
    "\n",
    "Graph the function on the interval $[-3,9]$. Include the graph and the code used to generate the graph in your write-up and answer the following questions based on the graph. "
   ]
  },
  {
   "cell_type": "code",
   "execution_count": null,
   "id": "e51d11b5-0dd3-4524-91f0-75fc3b124ff4",
   "metadata": {},
   "outputs": [],
   "source": [
    "import matplotlib.pyplot as plt\n",
    "import numpy as np \n",
    "import math\n",
    "import sympy as sp"
   ]
  },
  {
   "cell_type": "code",
   "execution_count": null,
   "id": "f904cfcb-18d8-4846-a6f1-5d54c1ce88bd",
   "metadata": {},
   "outputs": [],
   "source": [
    "# implement given function \n",
    "def f(x):\n",
    "    return (1/100)*(4*math.pow(x,4) - (44*math.pow(x,3)) + (61*math.pow(x,2)) + (270*x) - 525)"
   ]
  },
  {
   "cell_type": "code",
   "execution_count": null,
   "id": "9f5a852a-a944-4fa1-95ad-a1234aabb9e6",
   "metadata": {},
   "outputs": [],
   "source": [
    "# graph f(x) on [-3,9]\n",
    "x = np.linspace(-4, 10, 100)    # generate 1000 evenly spaced points on (-10,10) \n",
    "vf = np.vectorize(f)    # create vectorized implementation of this function \n",
    "\n",
    "# plot graphic \n",
    "plt.plot(x, vf(x), 'k')    # plot vf(x) vs x\n",
    "plt.plot([-4,10], [0,0], 'k--')    # plot horizontal line across \n",
    "plt.axis([-4, 10, -12 , f(9.05)]);   # adjust axes to fit only interval\n",
    "\n",
    "\n",
    "# other plot asthetics \n",
    "plt.title(r'$f(x) = \\frac{1}{100}(4x^4-44x^3+61x^2+270x-525)$')\n",
    "plt.xlabel('x')\n",
    "plt.ylabel('f(x)');\n",
    "\n",
    "# plot points of interest \n",
    "plt.plot(-3, f(-3), 'ro')\n",
    "plt.text(-2.75, 7, r'f(-3) = 4.83')    # add label to point\n",
    "plt.plot(9, f(9),'ro')\n",
    "plt.text(6.3, 9.75, r'f(9) = 10.14')   # add label to point\n",
    "plt.plot(-2.477, f(-2.477), 'bo')\n",
    "plt.plot(2.5, f(2.5), 'bo')\n",
    "plt.plot(8.477, f(8.477), 'bo');"
   ]
  },
  {
   "cell_type": "markdown",
   "id": "c8b3a441-b9cb-41da-ac07-d9cbb98472b7",
   "metadata": {
    "tags": []
   },
   "source": [
    "<br>\n",
    "(a) From the graph of $f$, we see that $f$ has a root on the interval $[-3,-2]$. Will the bisection method starting with the interval $[-3,-2]$ converge to this root? Why or why not? "
   ]
  },
  {
   "cell_type": "code",
   "execution_count": null,
   "id": "6ab975cf-b76e-4ef5-8918-6cdfa61b7f58",
   "metadata": {},
   "outputs": [],
   "source": [
    "# narrow graph to specified interval of [-3,-2]\n",
    "\n",
    "x = np.linspace(-3.5, -1.5, 1000)    # generate 1000 evenly spaced points on (-10,10) \n",
    "vf = np.vectorize(f)    # create vectorized implementation of this function \n",
    "\n",
    "plt.plot(x, vf(x), 'k')    # plot vf(x) vs x\n",
    "plt.plot([-3.5,-1.5], [0,0], 'k--')    # plot horizontal line across \n",
    "plt.axis([-3.5,-1.5, f(-1.5), f(-3.5)]);   # adjust axes to fit only interval\n",
    "\n",
    "# other plot asthetics \n",
    "plt.title(r'$f(x) = \\frac{1}{100}(4x^4-44x^3+61x^2+270x-525)$')\n",
    "plt.xlabel('x')\n",
    "plt.ylabel('f(x)');\n",
    "\n",
    "# points of interest \n",
    "plt.plot(-3, f(-3), 'ro')\n",
    "plt.text(-2.95, 7, r'f(-3) = 4.83')\n",
    "plt.plot(-2, f(-2), 'ro')\n",
    "plt.text(-1.95, -4, r'f(-2) = -4.53');\n",
    "plt.plot(-2.477, f(-2.477), 'bo');\n",
    "plt.text(-2.477, 0.5, r'$c$');"
   ]
  },
  {
   "cell_type": "markdown",
   "id": "d0aac7ab-5fc8-4b29-a444-75c2e641ec5b",
   "metadata": {},
   "source": [
    "<br>Based on the graph above, the bisection method will converge to the root on $[-3,-2]$. \n",
    "Observe $f \\in C[-3,-2]$ and $f(-3)f(-2)<0$.\n",
    "Thus by the Intermediate Value Theorem, $\\exists c \\in [-3,-2] \\ni f(c)=0$.\n",
    "By inspection there only exists one root in this interval. \n",
    "Therefore, the bisection method will converge to this root, $c$. \n",
    "\n",
    "<br>\n",
    "(b) From the graph of $f$ we see that $f$ has a root on the interval $[2,3]$. Will the bisection method starting with the interval $[2,3]$ converge to this root? Why or why not?"
   ]
  },
  {
   "cell_type": "code",
   "execution_count": null,
   "id": "64dd3698-c5be-4133-8554-1bace8c1a51c",
   "metadata": {},
   "outputs": [],
   "source": [
    "# narrow graph to specified interval of [-2,-3]\n",
    "\n",
    "x = np.linspace(1, 4, 1000)    # generate 1000 evenly spaced points on (-10,10) \n",
    "vf = np.vectorize(f)    # create vectorized implementation of this function \n",
    "\n",
    "plt.plot(x, vf(x), 'k')    # plot vf(x) vs x\n",
    "plt.plot([1, 4], [0,0], 'k--')    # plot horizontal line across \n",
    "plt.axis([1, 4, -1.25, 0.25]);   # adjust axes to fit only interval\n",
    "\n",
    "# other plot asthetics \n",
    "plt.title(r'$f(x) = \\frac{1}{100}(4x^4-44x^3+61x^2+270x-525)$')\n",
    "plt.xlabel('x')\n",
    "plt.ylabel('f(x)');\n",
    "\n",
    "# points of interest \n",
    "plt.plot(2, f(2), 'ro')\n",
    "plt.text(1.42, f(2), r'$f(2) = -0.29$')\n",
    "plt.plot(3, f(3), 'ro')\n",
    "plt.text(3.05, f(3), r'$f(3) = -0.3$')\n",
    "plt.plot(2.5, f(2.5), 'bo');"
   ]
  },
  {
   "cell_type": "markdown",
   "id": "4fe08aa0-5058-446b-ae19-f22a1c98694f",
   "metadata": {},
   "source": [
    "<br>While there is a unique root in this interval, the Intermediate Value Theorem doesn't hold. The function $f$ does not change sign over the given interval, therefore the bisection method will not converge. \n",
    "\n",
    "<br>\n",
    "(c) For the root on the interval $[-3,-2]$, do you expect linear or quadratic convergence of Newton's method? Why? \n",
    "\n",
    "**NOTE:** Figure out this mathematically tomorrow morning. Look at taking the derivatives and see which hypotheses need to hold for linear or quadratic convergence. "
   ]
  },
  {
   "cell_type": "markdown",
   "id": "8c980c7d-e1e9-467b-9fde-37ccdf230cf3",
   "metadata": {},
   "source": [
    "--- \n",
    "\n",
    "## Problem 2\n",
    "\n",
    "Create you own code to implement the bisection method. Include the code in your write-up and perform the following tasks. \n",
    "\n",
    "(a) Apply the bisection method starting with the interval $[-3,-2]$ to find the root with accuracy $10^{-5}$. "
   ]
  },
  {
   "cell_type": "code",
   "execution_count": null,
   "id": "a7bbbcd0-91bc-46f4-b0f8-e35c3f9bc24f",
   "metadata": {},
   "outputs": [],
   "source": [
    "# Bisection Method\n",
    "def bisection(func, a, b, *, tol = None, maxiter = None):\n",
    "    '''\n",
    "    Function accepts as input a function f that implements f(x), the endpoints\n",
    "    a and b of an interval [a,b]. Function allows for Bisection method implementation \n",
    "    using only a maximum number of iterations, a maximum absolute error tolerance, \n",
    "    or the option to use both as potential stopping points for execution. \n",
    "    No return value, function prints to standard out\n",
    "    the number of iterations, a, b, current approximation, and absolute error.\n",
    "    '''\n",
    "    if (f(a)*f(b)>0):    # ensure IVT holds before executing function \n",
    "        raise ValueError(f\"Error: f(x) does not change signs on [{a},{b}] \"\n",
    "                         f\"or more than one root exists in [{a},{b}].\")\n",
    "    counter = 0\n",
    "    fa = func(a)\n",
    "    p = a + (b-a)/2 \n",
    "    l = a\n",
    "    u = b\n",
    "    print(f\"n\\ta\\t\\t\\tb\\t\\t\\t\\tpn (midpoint)\\t\\t\\t\\t(1/2)(b-a)\")\n",
    "    print(\"__________________________________________________________________________________________________________________________________________\")\n",
    "    if (tol and maxiter == None):    # executed if no max iteration entered\n",
    "        while True:\n",
    "            p = a + (b-a)/2\n",
    "            fp = func(p)\n",
    "            if (fp == 0) or ((b-a)/2 < tol):    # if exact root found or error tolerance is reached\n",
    "                counter += 1\n",
    "                print(f\"{counter:>02}\\t{a:<16}\\t{b:<16}\\t\\t{p:<16}\\t\\t\\t{b-p:<16}\")\n",
    "                break\n",
    "            elif (fa * fp > 0):    # same signs, shift right\n",
    "                print(f\"{counter+1:>02}\\t{a:<16}\\t{b:<16}\\t\\t{p:<16}\\t\\t\\t{b-p:<16}\")\n",
    "                a = p\n",
    "                fa = fp\n",
    "            else:    # different signs, shift left\n",
    "                print(f\"{counter+1:>02}\\t{a:<16}\\t{b:<16}\\t\\t{p:<16}\\t\\t\\t{b-p:<16}\")\n",
    "                b = p\n",
    "            counter += 1\n",
    "        print(f\"\\nAfter {counter} iterations, the approximation for the root in [{l},{u}] is ~ {p}\\nwith error {b-p}\")\n",
    "    elif (maxiter and tol == None):    # executed if no error tolerance entered. \n",
    "        while counter < maxiter:\n",
    "            p = a + (b-a)/2\n",
    "            fp = func(p)\n",
    "            if (fa * fp > 0):    # same signs, shift right\n",
    "            \n",
    "                print(f\"{counter+1:>02}\\t{a:<16}\\t{b:<16}\\t\\t{p:<16}\\t\\t\\t{b-p:<16}\")\n",
    "                a = p\n",
    "                fa = fp\n",
    "            else:    # different signs, shift left\n",
    "                print(f\"{counter+1:>02}\\t{a:<16}\\t{b:<16}\\t\\t{p:<16}\\t\\t\\t{b-p:<16}\")\n",
    "                b = p\n",
    "            counter += 1\n",
    "        print(f\"\\nAfter {counter} iterations, the approximation for the root in [{l},{u}] is ~ {p}\\nwith error {b-p}\")\n",
    "    else:    # execute if both max iterations and error tolerance are desired \n",
    "        while counter < maxiter:\n",
    "            p = a + (b-a)/2\n",
    "            fp = func(p)\n",
    "            if (fp == 0) or ((b-a)/2 < tol):    # if exact root found or error tolerance is reached\n",
    "                counter += 1\n",
    "                print(f\"{counter:>02}\\t{a:<16}\\t{b:<16}\\t\\t{p:<16}\\t\\t\\t{b-p:<16}\")\n",
    "                break\n",
    "            if (fa * fp > 0):    # same signs, shift right\n",
    "            \n",
    "                print(f\"{counter+1:>02}\\t{a:<16}\\t{b:<16}\\t\\t{p:<16}\\t\\t\\t{b-p:<16}\")\n",
    "                a = p\n",
    "                fa = fp\n",
    "            else:    # different signs, shift left\n",
    "                print(f\"{counter+1:>02}\\t{a:<16}\\t{b:<16}\\t\\t{p:<16}\\t\\t\\t{b-p:<16}\")\n",
    "                b = p\n",
    "            counter += 1\n",
    "        print(f\"\\nAfter {counter} iterations, the approximation for the root in [{l},{u}] is ~ {p}\\nwith error {b-p}\")"
   ]
  },
  {
   "cell_type": "code",
   "execution_count": null,
   "id": "0f0da1ef-9c84-4464-b5a5-019feed313a0",
   "metadata": {},
   "outputs": [],
   "source": [
    "# apply bisection method to [-3,-2] with accuracy 10^-5\n",
    "try:\n",
    "    bisection(f,-3,-2,tol=0.00001)\n",
    "except ValueError as err:\n",
    "    print(err)"
   ]
  },
  {
   "cell_type": "code",
   "execution_count": null,
   "id": "9210c309-e1b3-488b-836d-b28134b33581",
   "metadata": {},
   "outputs": [],
   "source": [
    "try:\n",
    "    bisection(f,-4,-3,tol=0.00001)\n",
    "except ValueError as err:\n",
    "    print(err)"
   ]
  },
  {
   "cell_type": "markdown",
   "id": "f9d4925b-9034-4d33-98c6-ba2e9ddc78a5",
   "metadata": {},
   "source": [
    "<br>(b) Record the data from the bisection method in a table of the given form.\n",
    "\n",
    "**TODO:** Simply copy the contents of the output above to a LaTeX table for the write-up. \n",
    "\n",
    "---\n",
    "\n",
    "## Question 3 \n",
    "\n",
    "Create your own code to implement Newton's Method. Include the code in the write-up and perform the following tasks. "
   ]
  },
  {
   "cell_type": "code",
   "execution_count": null,
   "id": "1192431e-7018-47a5-8d4f-8d7013419414",
   "metadata": {},
   "outputs": [],
   "source": [
    "# Newton's Method Implementation \n",
    "def newtonMethod(func, p0, *, error = None, n0 = None):\n",
    "    '''\n",
    "    Implementation of Netwon's method for approximating roots of continous\n",
    "    functions. Function takes as arguments the implementation of a mathematical \n",
    "    fucntion, the initial guess for the approximation of the root, and optionally\n",
    "    as keyword arguments the absolute error tolerance and/or the maximum number \n",
    "    of iterations to perform. Function prints out number of iterations, \n",
    "    the nth approximation of the root and the absolute error of the nth iteration. \n",
    "    Function also return a vector containing the sequence of approximations.\n",
    "    '''\n",
    "    x = sp.symbols('x')\n",
    "    counter = 0 \n",
    "    func_diff = sp.Derivative(func, x)    # compute derivative\n",
    "    approxs = np.array([p0], dtype=np.longdouble)    # empty Numpy array to store approximations \n",
    "    if (error and n0 == None):    # execute if only absolute error tolerance is entered\n",
    "        print(\"N\\t\\tPn\\t\\t\\tAbs. Err.\")\n",
    "        print(\"____________________________________________________________\")\n",
    "        while True:\n",
    "            counter += 1\n",
    "            p = p0 - (func.subs(x,p0)/func_diff.doit_numerically(p0))\n",
    "            p = float(p)    # convert back to a float\n",
    "            if (np.fabs(p-p0) < error):    # absolute error < error tolerance \n",
    "                print(f\"\\nAfter {counter} iterations and error tolerance {error:f}\\nthe approximated root is {p0}.\")\n",
    "                return approxs\n",
    "            else:\n",
    "                err = np.fabs(p - p0)    # absolute error\n",
    "                p0 = p    # update p0 to next approximation to be evaluated next iteration\n",
    "                approxs = np.append(approxs, p)\n",
    "            print(f\"{counter}\\t\\t{p}\\t{err}\")\n",
    "    elif (n0 and error == None):    # execute if user only wants iterations (no error bounds)\n",
    "        print(\"N\\t\\tPn\\t\\t\\tAbs. Err.\")\n",
    "        print(\"____________________________________________________________\")\n",
    "        while counter < n0:\n",
    "            p = p0 - (func.subs(x,p0)/func_diff.doit_numerically(p0))\n",
    "            p = float(p)    # convert back to a float\n",
    "            err = np.fabs(p - p0)\n",
    "            counter = counter + 1\n",
    "            p0 = p    # update p0 to next approximation to be evaluated next iteration\n",
    "            approxs = np.append(approxs, p)\n",
    "            print(f\"{counter}\\t\\t{p}\\t{err}\")\n",
    "        print(f\"\\nAfter {counter} iterations the approximated root is {p}\\nwith error of {err}.\")\n",
    "        return approxs\n",
    "    else:    # execute using both absolute error tolerance and maximum number of iterations \n",
    "        print(\"N\\t\\tPn\\t\\t\\tAbs. Err.\")\n",
    "        print(\"____________________________________________________________\")\n",
    "        while counter < n0:\n",
    "            p = p0 - (func.subs(x,p0)/func_diff.doit_numerically(p0))\n",
    "            p = float(p)    # convert back to a float\n",
    "            if (np.fabs(p-p0) < error):    # absolute error < error tolerance \n",
    "                print(f\"\\nAfter {counter} iterations and error tolerance {error:f}\\nthe approximated root is {p0}.\")\n",
    "                return approxs\n",
    "            else:\n",
    "                counter = counter + 1\n",
    "                err = np.fabs(p - p0)\n",
    "                p0 = p    # update p0 to next approximation to be evaluated next iteration\n",
    "                approxs = np.append(approxs, p)\n",
    "                print(f\"{counter}\\t\\t{p}\\t{err}\")\n",
    "        print(f\"\\nAfter {counter} iterations and error tolerance {error:f}\\nthe approximated root is {p0}.\")\n",
    "        return approxs"
   ]
  },
  {
   "cell_type": "code",
   "execution_count": null,
   "id": "3e4e4117-b2c1-4afa-a6cc-72030d377354",
   "metadata": {},
   "outputs": [],
   "source": [
    "# define f(x) symbolically to use CAS for derivative computation in newtonMethod\n",
    "x = sp.symbols('x')\n",
    "f_sym = (1/100)*(4*x*x*x*x - 44*x*x*x + 61*x*x + 270*x - 525)"
   ]
  },
  {
   "cell_type": "code",
   "execution_count": null,
   "id": "c62d2ad5-1cb8-4de2-aa44-c0c4a37caf14",
   "metadata": {},
   "outputs": [],
   "source": [
    "f_sym"
   ]
  },
  {
   "cell_type": "markdown",
   "id": "44bb6167-01d1-4558-84fa-fb692cdb6106",
   "metadata": {},
   "source": [
    "<br>(a) Use Newton's method with starting guess $p_0=-2$ to find the root of $f(x)$ on the interval $[-3,-2]$ with accuracy $10^{-5}$. "
   ]
  },
  {
   "cell_type": "code",
   "execution_count": null,
   "id": "1d080890-2827-4600-9196-e59141610d65",
   "metadata": {},
   "outputs": [],
   "source": [
    "approximations = newtonMethod(f_sym, -2, error=0.00001)"
   ]
  },
  {
   "cell_type": "markdown",
   "id": "dc1f6dad-eecd-40c0-b3ef-1c823a30ae9d",
   "metadata": {},
   "source": [
    "<br>In order to see if the if Newton's method converges linearly or quadratically, use the vector of approximations to see if the order of convergence \n",
    "is converging to some asymptotic error constant, $C$."
   ]
  },
  {
   "cell_type": "code",
   "execution_count": null,
   "id": "b4c594c8-6be7-484c-9a04-b3b22a4a48e3",
   "metadata": {},
   "outputs": [],
   "source": [
    "# implement function to check if sequence converges linearly or quadratically \n",
    "def asymptoticError(approximations):\n",
    "    '''\n",
    "    Function takes a vector of approximations computed using the Newton method \n",
    "    and outputs a table for the order/rate of convergence to determine if the \n",
    "    error is converging to some asymptotic error constant. This can be use \n",
    "    to determine if the given sequence generated from the Newton method \n",
    "    converges linearly or quadratically. \n",
    "    '''\n",
    "    print(\"n\\t\\t\\tpn\\t\\t\\t\\t\\t(pn - pn-1)\\t\\t\\t\\t(pn-1 - pn-2)\\t\\t\\tLinear\\t\\t\\t\\tQuadratic\")\n",
    "    print(\"_____________________________________________________________________________________________________________________________________________________________________________________________\")\n",
    "    for idex, p in enumerate(approximations):\n",
    "        if idex==0:\n",
    "            print(f\"{idex}\\t\\t\\t{p:<16}\\t\\t\\t-\\t\\t\\t\\t\\t-\\t\\t\\t\\t-\\t\\t\\t\\t-\")\n",
    "        elif idex == 1:\n",
    "            abserr = math.fabs(approximations[idex] - approximations[idex - 1])\n",
    "            print(f\"{idex}\\t\\t\\t{p:<16}\\t\\t\\t{abserr:<16}\\t\\t\\t-\\t\\t\\t\\t-\\t\\t\\t\\t-\")\n",
    "        else:\n",
    "            abserr = math.fabs(approximations[idex] - approximations[idex - 1])\n",
    "            prevAbserr = math.fabs(approximations[idex - 1] - approximations[idex - 2])\n",
    "            print(f\"{idex}\\t\\t\\t{p:<16}\\t\\t\\t{abserr:<16}\\t\\t\\t{prevAbserr:<16}\\t\\t{abserr/prevAbserr:<16}\\t\\t{abserr/math.pow(prevAbserr,2)}\")"
   ]
  },
  {
   "cell_type": "code",
   "execution_count": null,
   "id": "0256f895-d49f-4ea6-bc52-3b04394402e3",
   "metadata": {},
   "outputs": [],
   "source": [
    "asymptoticError(approximations)"
   ]
  },
  {
   "cell_type": "markdown",
   "id": "5dba96d4-dbe3-4007-a407-71c14ad7e3c5",
   "metadata": {},
   "source": [
    "<br>From these results, we can conclude using Newton's method on the given interval will converge to a root of $f$ *linearly*. In the table above, the sequence in converging toward what appears to be zero while the sequence under the quadratic heading does not appear to be converging at all. \n",
    "\n",
    "---\n",
    "\n",
    "## Problem 4 \n",
    "\n",
    "Use your Newton's method created in the previous problem to perform the following tasks:\n",
    "\n",
    "<br>(a) Use Newton's method with starting guess $p_0=2$ to find the root of $f(x)$ on the interval $[2,3]$ with accuracy $10^{-5}$. "
   ]
  },
  {
   "cell_type": "code",
   "execution_count": null,
   "id": "906a2387-5058-4a79-9cf8-187d0fdfb101",
   "metadata": {},
   "outputs": [],
   "source": [
    "# approximate root on [2,3]\n",
    "approxs = newtonMethod(f_sym, 2, error=0.00001)"
   ]
  },
  {
   "cell_type": "code",
   "execution_count": null,
   "id": "dc113d06-454b-427f-929f-0f6a5e13d0f8",
   "metadata": {},
   "outputs": [],
   "source": [
    "# linear or quadratic convergence?\n",
    "asymptoticError(approxs)"
   ]
  },
  {
   "cell_type": "markdown",
   "id": "2f7884ec-1fc2-4ecf-b4ac-288b4df70bfe",
   "metadata": {},
   "source": [
    "<br>(c) Use the results from part (b) to decide if Newton's method starting with $p_0=2$ converged linearly or quadratically to the root on $[2,3]$\n",
    "\n",
    "Based on the above results, it appears as though the sequence converged *linearly* to the root. "
   ]
  }
 ],
 "metadata": {
  "kernelspec": {
   "display_name": "Python 3 (ipykernel)",
   "language": "python",
   "name": "python3"
  },
  "language_info": {
   "codemirror_mode": {
    "name": "ipython",
    "version": 3
   },
   "file_extension": ".py",
   "mimetype": "text/x-python",
   "name": "python",
   "nbconvert_exporter": "python",
   "pygments_lexer": "ipython3",
   "version": "3.9.13"
  }
 },
 "nbformat": 4,
 "nbformat_minor": 5
}
